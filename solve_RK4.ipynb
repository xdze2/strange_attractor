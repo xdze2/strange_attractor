{
 "cells": [
  {
   "cell_type": "code",
   "execution_count": 2,
   "metadata": {},
   "outputs": [],
   "source": [
    "import numpy as np\n",
    "from numba import jit, float64\n",
    "import matplotlib.pyplot as plt\n",
    "from scipy.integrate import solve_ivp"
   ]
  },
  {
   "cell_type": "markdown",
   "metadata": {},
   "source": [
    "# vectorized Runge Kutta 4th order solver"
   ]
  },
  {
   "cell_type": "code",
   "execution_count": 38,
   "metadata": {},
   "outputs": [],
   "source": [
    "def step_RK4(Y, dt, homogeneous_dYdt):\n",
    "    ''' Perform 1 step using Runge Kutta 4th order integrator\n",
    "    Y:  nd array of shape (number of dim, numbers of points)\n",
    "    '''\n",
    "   \n",
    "    k1 = homogeneous_dYdt(Y)\n",
    "    k2 = homogeneous_dYdt(Y + dt/2*k1)\n",
    "    k3 = homogeneous_dYdt(Y + dt/2*k2)\n",
    "    k4 = homogeneous_dYdt(Y + dt*k3)\n",
    "\n",
    "    Ynext = Y + dt/6*(k1 + 2*k2 + 2*k3 + k4)\n",
    "    \n",
    "    return Ynext"
   ]
  },
  {
   "cell_type": "code",
   "execution_count": 36,
   "metadata": {},
   "outputs": [],
   "source": [
    "@jit(float64[:, :](float64[:, :], float64), nopython=True)\n",
    "def thomas_attractor_2d_normed(xyz, b):\n",
    "    ''' ODE for Thomas attractor\n",
    "        xyz: point positions, shape (dim, )\n",
    "    '''\n",
    "    sin_xyz = np.sin(xyz)\n",
    "    dYdt = -b*xyz\n",
    "    dYdt[0, :] += sin_xyz[1, :]\n",
    "    dYdt[1, :] += sin_xyz[2, :]\n",
    "    dYdt[2, :] += sin_xyz[0, :]\n",
    "    dYdt /= np.sqrt( np.sum(dYdt**2, axis=0) )\n",
    "    return dYdt\n",
    "\n",
    "xyz = np.random.rand(3, 1)\n",
    "_ = thomas_attractor_2d_normed(xyz, 0.21)"
   ]
  },
  {
   "cell_type": "code",
   "execution_count": 32,
   "metadata": {},
   "outputs": [],
   "source": [
    "xyz = np.random.rand(3, 500)"
   ]
  },
  {
   "cell_type": "code",
   "execution_count": 33,
   "metadata": {},
   "outputs": [
    {
     "name": "stdout",
     "output_type": "stream",
     "text": [
      "22.5 µs ± 77.4 ns per loop (mean ± std. dev. of 7 runs, 10000 loops each)\n"
     ]
    }
   ],
   "source": [
    "%%timeit\n",
    "_ = thomas_attractor_2d_normed(xyz, 0.21)"
   ]
  },
  {
   "cell_type": "code",
   "execution_count": 48,
   "metadata": {},
   "outputs": [],
   "source": [
    "b = 0.198\n",
    "xyz = np.random.rand(3, 10)\n",
    "\n",
    "def dYdt(y):\n",
    "    return thomas_attractor_2d_normed(y, b)"
   ]
  },
  {
   "cell_type": "code",
   "execution_count": 49,
   "metadata": {},
   "outputs": [
    {
     "name": "stdout",
     "output_type": "stream",
     "text": [
      "1.58 µs ± 13.2 ns per loop (mean ± std. dev. of 7 runs, 1000000 loops each)\n"
     ]
    }
   ],
   "source": [
    "%%timeit\n",
    "_ = dYdt(xyz)"
   ]
  },
  {
   "cell_type": "code",
   "execution_count": 47,
   "metadata": {},
   "outputs": [
    {
     "name": "stdout",
     "output_type": "stream",
     "text": [
      "15.3 µs ± 140 ns per loop (mean ± std. dev. of 7 runs, 100000 loops each)\n"
     ]
    }
   ],
   "source": [
    "%%timeit\n",
    "_ = step_RK4(xyz, 0.01, dYdt)\n",
    "\n",
    "# 15.7 µs ± 77.6 ns per loop (mean ± std. dev. of 7 runs, 100000 loops each)"
   ]
  },
  {
   "cell_type": "code",
   "execution_count": null,
   "metadata": {},
   "outputs": [],
   "source": []
  },
  {
   "cell_type": "code",
   "execution_count": 53,
   "metadata": {},
   "outputs": [
    {
     "data": {
      "text/plain": [
       "1.0000000000000173"
      ]
     },
     "execution_count": 53,
     "metadata": {},
     "output_type": "execute_result"
    }
   ],
   "source": [
    "n = 10000000\n",
    "np.sum(np.ones(n)/n)"
   ]
  },
  {
   "cell_type": "code",
   "execution_count": 23,
   "metadata": {},
   "outputs": [],
   "source": [
    "def thomas_attractor(xyz, b=0.19):\n",
    "    # xyz shape (dim x nbr points)\n",
    "    sin_xyz = np.sin(xyz)\n",
    "    dYdt = -b*np.copy(xyz)\n",
    "    dYdt[0, :] += sin_xyz[1, :]\n",
    "    dYdt[1, :] += sin_xyz[2, :]\n",
    "    dYdt[2, :] += sin_xyz[0, :]\n",
    "    return dYdt"
   ]
  },
  {
   "cell_type": "code",
   "execution_count": 25,
   "metadata": {},
   "outputs": [
    {
     "name": "stdout",
     "output_type": "stream",
     "text": [
      "16.5 µs ± 122 ns per loop (mean ± std. dev. of 7 runs, 100000 loops each)\n"
     ]
    }
   ],
   "source": [
    "%%timeit\n",
    "_ = thomas_attractor(Y, b=0.19)\n",
    "# 20.5 µs ± 122 ns per loop (mean ± std. dev. of 7 runs, 10000 loops each)\n",
    "# 16.2 µs ± 139 ns per loop (mean ± std. dev. of 7 runs, 100000 loops each)"
   ]
  },
  {
   "cell_type": "code",
   "execution_count": 67,
   "metadata": {},
   "outputs": [],
   "source": [
    "Y = np.random.randn(3, n_points)"
   ]
  },
  {
   "cell_type": "code",
   "execution_count": 72,
   "metadata": {},
   "outputs": [],
   "source": [
    "import itertools as it"
   ]
  },
  {
   "cell_type": "code",
   "execution_count": 90,
   "metadata": {},
   "outputs": [
    {
     "name": "stdout",
     "output_type": "stream",
     "text": [
      "['102', '108', '112', '118', '122', '128', '132', '138', '142', '148', '152', '158', '162', '168', '172', '178', '182', '188', '192', '198']\n"
     ]
    }
   ],
   "source": [
    "b_str_list = [ f'{a}{b}{c}' for a, b, c in it.product([1, ], range(10), [2, 8])]\n",
    "print(b_str_list)"
   ]
  },
  {
   "cell_type": "markdown",
   "metadata": {},
   "source": [
    "## Change b"
   ]
  },
  {
   "cell_type": "code",
   "execution_count": 91,
   "metadata": {},
   "outputs": [
    {
     "name": "stdout",
     "output_type": "stream",
     "text": [
      "0.102\n",
      "0.108\n",
      "0.112\n",
      "0.118\n",
      "0.122\n",
      "0.128\n",
      "0.132\n",
      "0.138\n",
      "0.142\n",
      "0.148\n",
      "0.152\n",
      "0.158\n",
      "0.162\n",
      "0.168\n",
      "0.172\n",
      "0.178\n",
      "0.182\n",
      "0.188\n",
      "0.192\n",
      "0.198\n"
     ]
    },
    {
     "data": {
      "image/png": "[encoded data removed]",
      "text/plain": [
       "<Figure size 648x648 with 1 Axes>"
      ]
     },
     "metadata": {
      "needs_background": "light"
     },
     "output_type": "display_data"
    }
   ],
   "source": [
    "plt.figure(figsize=(9, 9))\n",
    "for b_str in b_str_list:\n",
    "    \n",
    "    b = float(b_str)/1000\n",
    "    n_points = 30\n",
    "    Y = np.random.rand(3, n_points)*0.1 + 1\n",
    "\n",
    "    t, dt = 0, 0.01\n",
    "\n",
    "\n",
    "    def dYdt(t, Y):\n",
    "        return thomas_attractor(Y, b=b)\n",
    "\n",
    "    # burn\n",
    "    for _ in range(10000):\n",
    "        t, Y = step_RK4(dt, t, Y, dYdt)\n",
    "\n",
    "    store_Y = []\n",
    "    for k in range(10000):\n",
    "        t, Y = step_RK4(dt, t, Y, dYdt)\n",
    "        store_Y.append(Y)\n",
    "\n",
    "    store_Y = np.array(store_Y)\n",
    "\n",
    "    step = 1\n",
    "    plt.plot(store_Y[::step, 0, :], store_Y[::step, 1, :], ',',\n",
    "             linewidth=1, color='black', alpha=0.7);\n",
    "    plt.axis('equal');\n",
    "    plt.title(f'b = {b}');\n",
    "    plt.savefig(f'figs/rand_postif_thomas_b{b_str}.png')\n",
    "    print(b)"
   ]
  },
  {
   "cell_type": "markdown",
   "metadata": {},
   "source": [
    "# Animation"
   ]
  },
  {
   "cell_type": "code",
   "execution_count": 104,
   "metadata": {},
   "outputs": [],
   "source": [
    "b = 0.19\n",
    "n_points = 1000\n",
    "\n",
    "Y = np.random.rand(3, n_points)*12 - 6 \n",
    "\n",
    "t, dt = 0, 0.01\n",
    "\n",
    "def dYdt(t, Y):\n",
    "    return thomas_attractor(Y, b=b)\n",
    "\n",
    "# burn\n",
    "for _ in range(5000):\n",
    "    t, Y = step_RK4(dt, t, Y, dYdt)"
   ]
  },
  {
   "cell_type": "code",
   "execution_count": 105,
   "metadata": {},
   "outputs": [],
   "source": [
    "import matplotlib.animation as animation"
   ]
  },
  {
   "cell_type": "code",
   "execution_count": 115,
   "metadata": {},
   "outputs": [
    {
     "name": "stdout",
     "output_type": "stream",
     "text": [
      "0123456789101112131415161718192021222324252627282930313233343536373839404142434445464748495051525354555657585960616263646566676869707172737475767778798081828384858687888990919293949596979899"
     ]
    },
    {
     "data": {
      "image/png": "[encoded data removed]",
      "text/plain": [
       "<Figure size 792x792 with 1 Axes>"
      ]
     },
     "metadata": {
      "needs_background": "light"
     },
     "output_type": "display_data"
    }
   ],
   "source": [
    "fig = plt.figure(figsize=(11, 11))\n",
    "frames = []\n",
    "n_fig = 100\n",
    "for k in range(n_fig):\n",
    "    print(k, end='\\r')\n",
    "    store_Y = []\n",
    "    for _ in range(100):\n",
    "        t, Y = step_RK4(dt, t, Y, dYdt)\n",
    "        store_Y.append(Y)\n",
    "\n",
    "    store_Y = np.array(store_Y)\n",
    "\n",
    "    Y = store_Y[25, :, :]\n",
    "    \n",
    "    step = 1\n",
    "    \n",
    "    f = plt.plot(store_Y[::step, 0, :], store_Y[::step, 1, :], ',',\n",
    "             linewidth=1, color='black', alpha=0.7);\n",
    "    frames.append(f)\n",
    "    plt.axis('equal');\n",
    "    #plt.title(f'b = {b}');\n",
    "    #plt.savefig(f'anim/thomas_k{k}.png')\n",
    "ani = animation.ArtistAnimation(fig, frames, interval=100, blit=True,\n",
    "                                repeat_delay=100);"
   ]
  },
  {
   "cell_type": "code",
   "execution_count": 116,
   "metadata": {},
   "outputs": [],
   "source": [
    "ani.save('dynamic_images.gif', writer='imagemagick')"
   ]
  },
  {
   "cell_type": "markdown",
   "metadata": {},
   "source": [
    "## without matplotlib"
   ]
  },
  {
   "cell_type": "code",
   "execution_count": 181,
   "metadata": {},
   "outputs": [],
   "source": [
    "import imageio"
   ]
  },
  {
   "cell_type": "code",
   "execution_count": 234,
   "metadata": {},
   "outputs": [],
   "source": [
    "b = 0.19\n",
    "n_points = 1000\n",
    "\n",
    "Y = np.random.rand(3, n_points)*12 - 6 \n",
    "\n",
    "t, dt = 0, 0.01\n",
    "\n",
    "def dYdt(t, Y):\n",
    "    return thomas_attractor(Y, b=b)\n",
    "\n",
    "# burn\n",
    "for _ in range(5000):\n",
    "    t, Y = step_RK4(dt, t, Y, dYdt)"
   ]
  },
  {
   "cell_type": "code",
   "execution_count": 235,
   "metadata": {},
   "outputs": [],
   "source": [
    "half_attractor_size = 4.2  # demi axe\n",
    "nbr_pixel = 600\n",
    "\n",
    "image = np.zeros((nbr_pixel, nbr_pixel))"
   ]
  },
  {
   "cell_type": "code",
   "execution_count": 208,
   "metadata": {},
   "outputs": [],
   "source": [
    "# accumulate pixel value\n",
    "store_Y = []\n",
    "for _ in range(100):\n",
    "    t, Y = step_RK4(dt, t, Y, dYdt)\n",
    "    Y_px = np.rint( (Y + half_attractor_size)/(2*half_attractor_size) * nbr_pixel ).astype(int)\n",
    "    z_scale = (Y_px[2, :]/nbr_pixel)**2  # shade function of Z\n",
    "    np.add.at(image, (Y_px[0, :], Y_px[1, :]), z_scale)\n",
    "    # see https://stackoverflow.com/a/28894452/8069403"
   ]
  },
  {
   "cell_type": "code",
   "execution_count": 209,
   "metadata": {},
   "outputs": [],
   "source": [
    "I_save = np.copy(image)"
   ]
  },
  {
   "cell_type": "code",
   "execution_count": 210,
   "metadata": {},
   "outputs": [],
   "source": [
    "image = I_save"
   ]
  },
  {
   "cell_type": "code",
   "execution_count": 211,
   "metadata": {},
   "outputs": [],
   "source": [
    "image = image / image.max()\n",
    "image = 255 * np.sqrt((image))\n",
    "image = image.astype(np.uint8)\n",
    "\n",
    "imageio.imwrite('image_name.png', image)"
   ]
  },
  {
   "cell_type": "markdown",
   "metadata": {},
   "source": [
    "![hello](./image_name.png)"
   ]
  },
  {
   "cell_type": "code",
   "execution_count": 135,
   "metadata": {},
   "outputs": [],
   "source": [
    "Y_px = np.rint( (Y + half_attractor_size)/(2*half_attractor_size) * nbr_pixel ).astype(int)"
   ]
  },
  {
   "cell_type": "markdown",
   "metadata": {},
   "source": [
    "### Animation without matplotlib"
   ]
  },
  {
   "cell_type": "code",
   "execution_count": 251,
   "metadata": {},
   "outputs": [],
   "source": [
    "b = 0.19\n",
    "n_points = 1500\n",
    "\n",
    "Y = np.random.rand(3, n_points)*12 - 6 \n",
    "\n",
    "t, dt = 0, 0.01\n",
    "\n",
    "def dYdt(t, Y):\n",
    "    return thomas_attractor(Y, b=b)\n",
    "\n",
    "# burn\n",
    "for _ in range(5000):\n",
    "    t, Y = step_RK4(dt, t, Y, dYdt)"
   ]
  },
  {
   "cell_type": "code",
   "execution_count": 252,
   "metadata": {},
   "outputs": [],
   "source": [
    "half_attractor_size = 4.2  # demi axe\n",
    "nbr_pixel = 650\n",
    "\n",
    "image = np.zeros((nbr_pixel, nbr_pixel))"
   ]
  },
  {
   "cell_type": "code",
   "execution_count": 253,
   "metadata": {},
   "outputs": [
    {
     "name": "stdout",
     "output_type": "stream",
     "text": [
      "0 1 2 3 4 5 6 7 8 9 10 11 12 13 14 15 16 17 18 19 20 21 22 23 24 25 26 27 28 29 30 31 32 33 34 35 36 37 38 39 40 41 42 43 44 45 46 47 48 49 50 51 52 53 54 55 56 57 58 59 60 61 62 63 64 65 66 67 68 69 70 71 72 73 74 75 76 77 78 79 80 81 82 83 84 85 86 87 88 89 90 91 92 93 94 95 96 97 98 99 100 101 102 103 104 105 106 107 108 109 110 111 112 113 114 115 116 117 118 119 120 121 122 123 124 125 126 127 128 129 130 131 132 133 134 135 136 137 138 139 140 141 142 143 144 145 146 147 148 149 "
     ]
    }
   ],
   "source": [
    "n_fig = 150\n",
    "\n",
    "for k in range(n_fig):\n",
    "    image = np.zeros((nbr_pixel, nbr_pixel))\n",
    "    for i in range(100):\n",
    "        t, Y = step_RK4(dt, t, Y, dYdt)\n",
    "        \n",
    "        Y_px = np.rint( (Y + half_attractor_size)/(2*half_attractor_size) * nbr_pixel ).astype(int)\n",
    "        #np.add.at(image, (Y_px[0, :], Y_px[1, :]), z_scale)\n",
    "        z_scale = 0.6*(Y_px[2, :]/nbr_pixel)**2 + 0.4 # shade function of Z\n",
    "        image[Y_px[0, :], Y_px[1, :]] = z_scale\n",
    "\n",
    "        # starting point for the next frame\n",
    "        if i == 25:\n",
    "            Y_next = np.copy(Y)\n",
    "    \n",
    "    Y = Y_next\n",
    "    \n",
    "    image = image / image.max()\n",
    "    image = 255 * (1 - image)\n",
    "    image = image.astype(np.uint8)\n",
    "\n",
    "    imageio.imwrite(f'anim/image_{k:04d}.png', image)\n",
    "    print(k, end=' ')"
   ]
  },
  {
   "cell_type": "markdown",
   "metadata": {},
   "source": [
    "ImageMagick \n",
    "    \n",
    "    convert -delay 10   -loop 0   image_*.png  animated_attractor.gif\n"
   ]
  },
  {
   "cell_type": "code",
   "execution_count": 249,
   "metadata": {},
   "outputs": [
    {
     "data": {
      "text/plain": [
       "'hello0001'"
      ]
     },
     "execution_count": 249,
     "metadata": {},
     "output_type": "execute_result"
    }
   ],
   "source": [
    "f'hello{1:04d}'"
   ]
  },
  {
   "cell_type": "code",
   "execution_count": null,
   "metadata": {},
   "outputs": [],
   "source": []
  }
 ],
 "metadata": {
  "kernelspec": {
   "display_name": "py3 venv",
   "language": "python",
   "name": "py3"
  },
  "language_info": {
   "codemirror_mode": {
    "name": "ipython",
    "version": 3
   },
   "file_extension": ".py",
   "mimetype": "text/x-python",
   "name": "python",
   "nbconvert_exporter": "python",
   "pygments_lexer": "ipython3",
   "version": "3.6.8"
  }
 },
 "nbformat": 4,
 "nbformat_minor": 2
}
