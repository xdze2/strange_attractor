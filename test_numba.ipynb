{
 "cells": [
  {
   "cell_type": "code",
   "execution_count": 2,
   "metadata": {},
   "outputs": [],
   "source": [
    "from numba import jit\n",
    "import numpy as np"
   ]
  },
  {
   "cell_type": "code",
   "execution_count": 30,
   "metadata": {},
   "outputs": [],
   "source": [
    "@jit(nopython=True, parallel=True)\n",
    "def a_plus_b(a, b):\n",
    "    plus = []\n",
    "    for i, j in zip(a, b):\n",
    "        plus.append(i+j)\n",
    "    return plus"
   ]
  },
  {
   "cell_type": "code",
   "execution_count": 38,
   "metadata": {},
   "outputs": [],
   "source": [
    "def a_plus_b_python(a, b):\n",
    "    plus = [i+j**2 for i, j in zip(a, b)]\n",
    "    return plus"
   ]
  },
  {
   "cell_type": "code",
   "execution_count": 39,
   "metadata": {},
   "outputs": [],
   "source": [
    "n = 1000\n",
    "a = tuple(range(n))\n",
    "b = tuple(range(n))"
   ]
  },
  {
   "cell_type": "code",
   "execution_count": 32,
   "metadata": {},
   "outputs": [
    {
     "name": "stderr",
     "output_type": "stream",
     "text": [
      "/home/etienne/Projets/py3/lib/python3.5/site-packages/numba/compiler.py:602: NumbaPerformanceWarning: \n",
      "The keyword argument 'parallel=True' was specified but no transformation for parallel execution was possible.\n",
      "\n",
      "To find out why, try turning on parallel diagnostics, see http://numba.pydata.org/numba-doc/latest/user/parallel.html#diagnostics for help.\n",
      "\n",
      "File \"<ipython-input-30-5f8972e62f8b>\", line 2:\n",
      "@jit(nopython=True, parallel=True)\n",
      "def a_plus_b(a, b):\n",
      "^\n",
      "\n",
      "  self.func_ir.loc))\n"
     ]
    },
    {
     "name": "stdout",
     "output_type": "stream",
     "text": [
      "3.53 ms ± 1.22 ms per loop (mean ± std. dev. of 7 runs, 1 loop each)\n"
     ]
    }
   ],
   "source": [
    "%%timeit\n",
    "_ = a_plus_b(a, b)"
   ]
  },
  {
   "cell_type": "code",
   "execution_count": 40,
   "metadata": {},
   "outputs": [
    {
     "name": "stdout",
     "output_type": "stream",
     "text": [
      "518 µs ± 269 µs per loop (mean ± std. dev. of 7 runs, 1000 loops each)\n"
     ]
    }
   ],
   "source": [
    "%%timeit\n",
    "_ = a_plus_b_python(a, b)"
   ]
  },
  {
   "cell_type": "code",
   "execution_count": 21,
   "metadata": {},
   "outputs": [
    {
     "name": "stdout",
     "output_type": "stream",
     "text": [
      "69.8 µs ± 2.57 µs per loop (mean ± std. dev. of 7 runs, 10000 loops each)\n"
     ]
    }
   ],
   "source": [
    "%%timeit\n",
    "_ = np.array(a) + np.array(b)"
   ]
  },
  {
   "cell_type": "code",
   "execution_count": 45,
   "metadata": {},
   "outputs": [],
   "source": [
    "a_nd = np.array(a, dtype=np.float64)\n",
    "b_nd = np.array(b, dtype=np.float64)"
   ]
  },
  {
   "cell_type": "code",
   "execution_count": 46,
   "metadata": {},
   "outputs": [
    {
     "name": "stdout",
     "output_type": "stream",
     "text": [
      "15.2 µs ± 134 ns per loop (mean ± std. dev. of 7 runs, 100000 loops each)\n"
     ]
    }
   ],
   "source": [
    "%%timeit\n",
    "_ = a_nd + b_nd**2"
   ]
  },
  {
   "cell_type": "code",
   "execution_count": 43,
   "metadata": {},
   "outputs": [],
   "source": [
    "from numba import vectorize, float64\n",
    "\n",
    "@vectorize([float64(float64, float64)])\n",
    "def f(x, y):\n",
    "    return x + y**2"
   ]
  },
  {
   "cell_type": "code",
   "execution_count": 44,
   "metadata": {},
   "outputs": [
    {
     "name": "stdout",
     "output_type": "stream",
     "text": [
      "104 µs ± 1.28 µs per loop (mean ± std. dev. of 7 runs, 10000 loops each)\n"
     ]
    }
   ],
   "source": [
    "%%timeit\n",
    "_ = f(a_nd, b)"
   ]
  },
  {
   "cell_type": "code",
   "execution_count": 147,
   "metadata": {},
   "outputs": [],
   "source": [
    "import numba"
   ]
  },
  {
   "cell_type": "code",
   "execution_count": 155,
   "metadata": {},
   "outputs": [],
   "source": [
    "ty = numba.types.Array(np.float64, 1, 'C')"
   ]
  },
  {
   "cell_type": "code",
   "execution_count": 150,
   "metadata": {},
   "outputs": [],
   "source": [
    "struct_dtype = np.dtype([('xyz', np.float64), ])\n",
    "ty = numba.from_dtype(struct_dtype)"
   ]
  },
  {
   "cell_type": "code",
   "execution_count": 166,
   "metadata": {},
   "outputs": [],
   "source": [
    "b = .32\n",
    "@jit(nopython=True)\n",
    "def thomas_attractor(xyz):\n",
    "    ''' ODE for Thomas attractor\n",
    "        xyz: point positions, shape (dim, )\n",
    "    '''\n",
    "    \n",
    "    sin_xyz = np.sin(xyz)\n",
    "    dYdt = -b*xyz\n",
    "    dYdt[0] += sin_xyz[1]\n",
    "    dYdt[1] += sin_xyz[2]\n",
    "    dYdt[2] += sin_xyz[0]\n",
    "    return dYdt"
   ]
  },
  {
   "cell_type": "code",
   "execution_count": 167,
   "metadata": {},
   "outputs": [],
   "source": [
    "xyz = np.random.rand(3)\n",
    "_ = thomas_attractor(xyz)#, b=0.19)\n"
   ]
  },
  {
   "cell_type": "code",
   "execution_count": 168,
   "metadata": {},
   "outputs": [
    {
     "name": "stdout",
     "output_type": "stream",
     "text": [
      "3.86 µs ± 45.4 ns per loop (mean ± std. dev. of 7 runs, 100000 loops each)\n"
     ]
    }
   ],
   "source": [
    "%%timeit\n",
    "_ = thomas_attractor(xyz)#, b=0.19)\n",
    "\n",
    "# 5.17 µs ± 209 ns per loop (mean ± std. dev. of 7 runs, 100000 loops each)  with JIT\n",
    "# 32.6 µs ± 2.7 µs per loop (mean ± std. dev. of 7 runs, 10000 loops each)\n",
    "\n",
    "# 12.6 µs ± 5.67 µs per loop (mean ± std. dev. of 7 runs, 100000 loops each)  without copy\n",
    "# 4.68 µs ± 102 ns per loop (mean ± std. dev. of 7 runs, 100000 loops each) without copy and jit\n",
    "\n",
    "# without optional b\n",
    "# 3.85 µs ± 185 ns per loop (mean ± std. dev. of 7 runs, 100000 loops each)"
   ]
  },
  {
   "cell_type": "code",
   "execution_count": 120,
   "metadata": {},
   "outputs": [],
   "source": [
    "b = .32\n",
    "#@jit(nopython=True)\n",
    "def thomas_attractor_v2(xyz):\n",
    "    return np.sin(xyz)[(1, 2, 0), ] - b*xyz"
   ]
  },
  {
   "cell_type": "code",
   "execution_count": 129,
   "metadata": {},
   "outputs": [],
   "source": [
    "b = .32\n",
    "@jit(nopython=True)\n",
    "def thomas_attractor_v3(xyz):\n",
    "    sin_xyz = np.sin(xyz)\n",
    "    #dYdt = -b*xyz\n",
    "    \n",
    "    dYdt = np.array([sin_xyz[1], sin_xyz[2], sin_xyz[0]]) - b*xyz\n",
    "    return dYdt"
   ]
  },
  {
   "cell_type": "code",
   "execution_count": 133,
   "metadata": {},
   "outputs": [],
   "source": [
    "b = .32\n",
    "@jit(nopython=True)\n",
    "def thomas_attractor_v4(xyz):\n",
    "    sin_xyz = np.sin(xyz)\n",
    "    #dYdt = -b*xyz\n",
    "    \n",
    "    #dYdt = np.array([sin_xyz[1], sin_xyz[2], sin_xyz[0]]) - b*xyz\n",
    "    return (sin_xyz[1] - b*xyz[0],\n",
    "            sin_xyz[2] - b*xyz[1],\n",
    "            sin_xyz[0] - b*xyz[2])"
   ]
  },
  {
   "cell_type": "code",
   "execution_count": 142,
   "metadata": {},
   "outputs": [
    {
     "name": "stdout",
     "output_type": "stream",
     "text": [
      "[ 0.74908454  0.24845246 -0.15178301]\n",
      "[ 0.74908454  0.24845246 -0.15178301]\n",
      "(0.7490845414447882, 0.24845246285569217, -0.15178301358607194)\n"
     ]
    }
   ],
   "source": [
    "xyz = np.random.rand(3)\n",
    "_ = thomas_attractor(xyz)\n",
    "print(_)\n",
    "\n",
    "_ = thomas_attractor_v3(xyz)\n",
    "print(_)\n",
    "\n",
    "_ = thomas_attractor_v4(xyz)\n",
    "print(_)"
   ]
  },
  {
   "cell_type": "code",
   "execution_count": 144,
   "metadata": {},
   "outputs": [
    {
     "name": "stdout",
     "output_type": "stream",
     "text": [
      "3.93 µs ± 56.7 ns per loop (mean ± std. dev. of 7 runs, 100000 loops each)\n"
     ]
    }
   ],
   "source": [
    "%%timeit\n",
    "_ = thomas_attractor(xyz)"
   ]
  },
  {
   "cell_type": "code",
   "execution_count": 169,
   "metadata": {},
   "outputs": [],
   "source": [
    "\n",
    "@jit(nopython=True)\n",
    "def normed_thomas_attractor(xyz):\n",
    "    ''' ODE for Thomas attractor\n",
    "        xyz: point positions, shape (dim, )\n",
    "    '''\n",
    "    \n",
    "    sin_xyz = np.sin(xyz)\n",
    "    dYdt = -b*xyz\n",
    "    dYdt[0] += sin_xyz[1]\n",
    "    dYdt[1] += sin_xyz[2]\n",
    "    dYdt[2] += sin_xyz[0]\n",
    "    return dYdt/np.sqrt(np.sum(dYdt**2))"
   ]
  },
  {
   "cell_type": "code",
   "execution_count": 171,
   "metadata": {},
   "outputs": [
    {
     "name": "stdout",
     "output_type": "stream",
     "text": [
      "4.49 µs ± 363 ns per loop (mean ± std. dev. of 7 runs, 100000 loops each)\n"
     ]
    }
   ],
   "source": [
    "%%timeit\n",
    "_ = normed_thomas_attractor(xyz)"
   ]
  },
  {
   "cell_type": "code",
   "execution_count": null,
   "metadata": {},
   "outputs": [],
   "source": []
  }
 ],
 "metadata": {
  "kernelspec": {
   "display_name": "global-py3",
   "language": "python",
   "name": "global-py3"
  },
  "language_info": {
   "codemirror_mode": {
    "name": "ipython",
    "version": 3
   },
   "file_extension": ".py",
   "mimetype": "text/x-python",
   "name": "python",
   "nbconvert_exporter": "python",
   "pygments_lexer": "ipython3",
   "version": "3.5.2"
  }
 },
 "nbformat": 4,
 "nbformat_minor": 2
}
