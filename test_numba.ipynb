{
 "cells": [
  {
   "cell_type": "code",
   "execution_count": 57,
   "metadata": {},
   "outputs": [],
   "source": [
    "from numba import jit\n",
    "import numpy as np"
   ]
  },
  {
   "cell_type": "markdown",
   "metadata": {},
   "source": [
    "# Test numba and optimization"
   ]
  },
  {
   "cell_type": "code",
   "execution_count": 40,
   "metadata": {},
   "outputs": [
    {
     "name": "stdout",
     "output_type": "stream",
     "text": [
      "numba 0.44.1\n",
      "processor x86_64\n",
      "python 3.6.8 CPython\n",
      "Linux-4.15.0-64-generic-x86_64-with-Ubuntu-18.04-bionic\n"
     ]
    }
   ],
   "source": [
    "import numba\n",
    "import platform\n",
    "print('numba', numba.__version__)\n",
    "print('processor', platform.processor())\n",
    "print('python', platform.python_version(), platform.python_implementation())\n",
    "print(platform.platform())"
   ]
  },
  {
   "cell_type": "code",
   "execution_count": 42,
   "metadata": {},
   "outputs": [
    {
     "name": "stdout",
     "output_type": "stream",
     "text": [
      "Architecture :                          x86_64\n",
      "Mode(s) opératoire(s) des processeurs : 32-bit, 64-bit\n",
      "Boutisme :                              Little Endian\n",
      "Processeur(s) :                         8\n",
      "Liste de processeur(s) en ligne :       0-7\n",
      "Thread(s) par cœur :                    2\n",
      "Cœur(s) par socket :                    4\n",
      "Socket(s) :                             1\n",
      "Nœud(s) NUMA :                          1\n",
      "Identifiant constructeur :              GenuineIntel\n",
      "Famille de processeur :                 6\n",
      "Modèle :                                94\n",
      "Nom de modèle :                         Intel(R) Core(TM) i7-6700 CPU @ 3.40GHz\n",
      "Révision :                              3\n",
      "Vitesse du processeur en MHz :          2714.338\n",
      "Vitesse maximale du processeur en MHz : 4000,0000\n",
      "Vitesse minimale du processeur en MHz : 800,0000\n",
      "BogoMIPS :                              6816.00\n",
      "Virtualisation :                        VT-x\n",
      "Cache L1d :                             32K\n",
      "Cache L1i :                             32K\n",
      "Cache L2 :                              256K\n",
      "Cache L3 :                              8192K\n",
      "Nœud NUMA 0 de processeur(s) :          0-7\n",
      "Drapaux :                               fpu vme de pse tsc msr pae mce cx8 apic sep mtrr pge mca cmov pat pse36 clflush dts acpi mmx fxsr sse sse2 ss ht tm pbe syscall nx pdpe1gb rdtscp lm constant_tsc art arch_perfmon pebs bts rep_good nopl xtopology nonstop_tsc cpuid aperfmperf tsc_known_freq pni pclmulqdq dtes64 monitor ds_cpl vmx smx est tm2 ssse3 sdbg fma cx16 xtpr pdcm pcid sse4_1 sse4_2 x2apic movbe popcnt tsc_deadline_timer aes xsave avx f16c rdrand lahf_lm abm 3dnowprefetch cpuid_fault epb invpcid_single pti ssbd ibrs ibpb stibp tpr_shadow vnmi flexpriority ept vpid fsgsbase tsc_adjust bmi1 hle avx2 smep bmi2 erms invpcid rtm mpx rdseed adx smap clflushopt intel_pt xsaveopt xsavec xgetbv1 xsaves dtherm ida arat pln pts hwp hwp_notify hwp_act_window hwp_epp md_clear flush_l1d\n"
     ]
    }
   ],
   "source": [
    "import subprocess\n",
    "# https://stackoverflow.com/a/47203612/8069403\n",
    "print((subprocess.check_output(\"lscpu\", shell=True).strip()).decode())"
   ]
  },
  {
   "cell_type": "markdown",
   "metadata": {},
   "source": [
    "## Jit or no jit"
   ]
  },
  {
   "cell_type": "code",
   "execution_count": 43,
   "metadata": {},
   "outputs": [],
   "source": [
    "b = .32"
   ]
  },
  {
   "cell_type": "code",
   "execution_count": 44,
   "metadata": {},
   "outputs": [],
   "source": [
    "@jit(numba.float64[:](numba.float64[:]), nopython=True)\n",
    "def thomas_attractor_jit(xyz):\n",
    "    ''' ODE for Thomas attractor\n",
    "        xyz: point positions, shape (dim, )\n",
    "    '''\n",
    "    sin_xyz = np.sin(xyz)\n",
    "    dYdt = -b*xyz\n",
    "    dYdt[0] += sin_xyz[1]\n",
    "    dYdt[1] += sin_xyz[2]\n",
    "    dYdt[2] += sin_xyz[0]\n",
    "    return dYdt\n",
    "\n",
    "xyz = np.random.rand(3)\n",
    "_ = thomas_attractor_jit(xyz)"
   ]
  },
  {
   "cell_type": "code",
   "execution_count": 45,
   "metadata": {},
   "outputs": [],
   "source": [
    "def thomas_attractor_nojit(xyz):\n",
    "    ''' ODE for Thomas attractor\n",
    "        xyz: point positions, shape (dim, )\n",
    "    '''\n",
    "    \n",
    "    sin_xyz = np.sin(xyz)\n",
    "    dYdt = -b*xyz\n",
    "    dYdt[0] += sin_xyz[1]\n",
    "    dYdt[1] += sin_xyz[2]\n",
    "    dYdt[2] += sin_xyz[0]\n",
    "    return dYdt"
   ]
  },
  {
   "cell_type": "code",
   "execution_count": 46,
   "metadata": {},
   "outputs": [],
   "source": [
    "xyz = np.random.rand(3)"
   ]
  },
  {
   "cell_type": "code",
   "execution_count": 47,
   "metadata": {},
   "outputs": [
    {
     "name": "stdout",
     "output_type": "stream",
     "text": [
      "1.94 µs ± 68.9 ns per loop (mean ± std. dev. of 7 runs, 1000000 loops each)\n"
     ]
    }
   ],
   "source": [
    "%%timeit\n",
    "_ = thomas_attractor_nojit(xyz)"
   ]
  },
  {
   "cell_type": "code",
   "execution_count": 48,
   "metadata": {},
   "outputs": [
    {
     "name": "stdout",
     "output_type": "stream",
     "text": [
      "474 ns ± 9.45 ns per loop (mean ± std. dev. of 7 runs, 1000000 loops each)\n"
     ]
    }
   ],
   "source": [
    "%%timeit\n",
    "_ = thomas_attractor_jit(xyz)"
   ]
  },
  {
   "cell_type": "markdown",
   "metadata": {},
   "source": [
    "* On Laptop:  \n",
    "\n",
    "        5.17 µs ± 209 ns per loop (mean ± std. dev. of 7 runs, 100000 loops each)  with JIT\n",
    "        32.6 µs ± 2.7 µs per loop (mean ± std. dev. of 7 runs, 10000 loops each)\n",
    "\n",
    "        12.6 µs ± 5.67 µs per loop (mean ± std. dev. of 7 runs, 100000 loops each)  without copy\n",
    "        4.68 µs ± 102 ns per loop (mean ± std. dev. of 7 runs, 100000 loops each) without copy and jit\n",
    "\n",
    "        without optional argument b:\n",
    "        3.85 µs ± 185 ns per loop (mean ± std. dev. of 7 runs, 100000 loops each)\n",
    "\n",
    "\n",
    "* on work station: \n",
    "\n",
    "        no jit: 1.95 µs ± 19.3 ns per loop (mean ± std. dev. of 7 runs, 100000 loops each)\n",
    "        Jit: 485 ns ± 6.92 ns per loop (mean ± std. dev. of 7 runs, 1000000 loops each)  "
   ]
  },
  {
   "cell_type": "markdown",
   "metadata": {},
   "source": [
    "### with b as argument"
   ]
  },
  {
   "cell_type": "code",
   "execution_count": 52,
   "metadata": {},
   "outputs": [],
   "source": [
    "@jit(numba.float64[:](numba.float64[:], numba.float64), nopython=True)\n",
    "def thomas_attractor_jit_b_arg(xyz, b):\n",
    "    ''' ODE for Thomas attractor\n",
    "        xyz: point positions, shape (dim, )\n",
    "    '''\n",
    "    sin_xyz = np.sin(xyz)\n",
    "    dYdt = -b*xyz\n",
    "    dYdt[0] += sin_xyz[1]\n",
    "    dYdt[1] += sin_xyz[2]\n",
    "    dYdt[2] += sin_xyz[0]\n",
    "    return dYdt\n",
    "\n",
    "xyz = np.random.rand(3)\n",
    "_ = thomas_attractor_jit_b_arg(xyz, 0.21)"
   ]
  },
  {
   "cell_type": "code",
   "execution_count": 56,
   "metadata": {},
   "outputs": [
    {
     "name": "stdout",
     "output_type": "stream",
     "text": [
      "517 ns ± 10.8 ns per loop (mean ± std. dev. of 7 runs, 1000000 loops each)\n"
     ]
    }
   ],
   "source": [
    "%%timeit\n",
    "_ = thomas_attractor_jit_b_arg(xyz, 0.198)\n",
    "\n",
    "# 516 ns ± 6.17 ns per loop (mean ± std. dev. of 7 runs, 1000000 loops each)"
   ]
  },
  {
   "cell_type": "markdown",
   "metadata": {},
   "source": [
    "## With 2d arrays\n",
    "\n",
    "[solve_ivp doc](https://docs.scipy.org/doc/scipy/reference/generated/scipy.integrate.solve_ivp.html): \"The vectorized implementation allows a faster approximation of the Jacobian by finite differences (required for stiff solvers).\" so no use here"
   ]
  },
  {
   "cell_type": "code",
   "execution_count": 71,
   "metadata": {},
   "outputs": [],
   "source": [
    "@jit(numba.float64[:, :](numba.float64[:, :], numba.float64), nopython=True)\n",
    "def thomas_attractor_2d_arrays(xyz, b):\n",
    "    ''' ODE for Thomas attractor\n",
    "        xyz: point positions, shape (dim, )\n",
    "    '''\n",
    "    sin_xyz = np.sin(xyz)\n",
    "    dYdt = -b*xyz\n",
    "    dYdt[0, :] += sin_xyz[1, :]\n",
    "    dYdt[1, :] += sin_xyz[2, :]\n",
    "    dYdt[2, :] += sin_xyz[0, :]\n",
    "    return dYdt\n",
    "\n",
    "xyz = np.random.rand(3, 1)\n",
    "_ = thomas_attractor_2d_arrays(xyz, 0.21)"
   ]
  },
  {
   "cell_type": "code",
   "execution_count": 73,
   "metadata": {},
   "outputs": [
    {
     "name": "stdout",
     "output_type": "stream",
     "text": [
      "698 ns ± 7.02 ns per loop (mean ± std. dev. of 7 runs, 1000000 loops each)\n"
     ]
    }
   ],
   "source": [
    "%%timeit\n",
    "_ = thomas_attractor_2d_arrays(xyz, 0.198)\n",
    "# 708 ns ± 17.4 ns per loop (mean ± std. dev. of 7 runs, 1000000 loops each)"
   ]
  },
  {
   "cell_type": "code",
   "execution_count": 74,
   "metadata": {},
   "outputs": [],
   "source": [
    "xyz = np.random.rand(3, 100)"
   ]
  },
  {
   "cell_type": "code",
   "execution_count": 75,
   "metadata": {},
   "outputs": [
    {
     "name": "stdout",
     "output_type": "stream",
     "text": [
      "3.98 µs ± 77.5 ns per loop (mean ± std. dev. of 7 runs, 100000 loops each)\n"
     ]
    }
   ],
   "source": [
    "%%timeit\n",
    "_ = thomas_attractor_2d_arrays(xyz, 0.21)"
   ]
  },
  {
   "cell_type": "markdown",
   "metadata": {},
   "source": [
    "# Other test"
   ]
  },
  {
   "cell_type": "code",
   "execution_count": 22,
   "metadata": {},
   "outputs": [],
   "source": [
    "b = .32\n",
    "#@jit(nopython=True)\n",
    "def thomas_attractor_inline(xyz):\n",
    "    return np.sin(xyz)[(1, 2, 0), ] - b*xyz"
   ]
  },
  {
   "cell_type": "code",
   "execution_count": 23,
   "metadata": {},
   "outputs": [],
   "source": [
    "b = .32\n",
    "@jit(nopython=True)\n",
    "def thomas_attractor_toArray(xyz):\n",
    "    sin_xyz = np.sin(xyz)\n",
    "    dYdt = np.array([sin_xyz[1], sin_xyz[2], sin_xyz[0]]) - b*xyz\n",
    "    return dYdt"
   ]
  },
  {
   "cell_type": "code",
   "execution_count": 24,
   "metadata": {},
   "outputs": [],
   "source": [
    "b = .32\n",
    "@jit(nopython=True)\n",
    "def thomas_attractor_tupleOut(xyz):\n",
    "    sin_xyz = np.sin(xyz)\n",
    "    return (sin_xyz[1] - b*xyz[0],\n",
    "            sin_xyz[2] - b*xyz[1],\n",
    "            sin_xyz[0] - b*xyz[2])"
   ]
  },
  {
   "cell_type": "code",
   "execution_count": 25,
   "metadata": {},
   "outputs": [
    {
     "name": "stdout",
     "output_type": "stream",
     "text": [
      "[0.5700253  0.58158319 0.00823979]\n",
      "[0.5700253  0.58158319 0.00823979]\n",
      "(0.5700252979337868, 0.5815831881356401, 0.008239788176361396)\n"
     ]
    }
   ],
   "source": [
    "# test\n",
    "xyz = np.random.rand(3)\n",
    "_ = thomas_attractor_inline(xyz)\n",
    "print(_)\n",
    "\n",
    "_ = thomas_attractor_toArray(xyz)\n",
    "print(_)\n",
    "\n",
    "_ = thomas_attractor_tupleOut(xyz)\n",
    "print(_)"
   ]
  },
  {
   "cell_type": "code",
   "execution_count": 26,
   "metadata": {},
   "outputs": [
    {
     "name": "stdout",
     "output_type": "stream",
     "text": [
      "2.32 µs ± 22.1 ns per loop (mean ± std. dev. of 7 runs, 100000 loops each)\n"
     ]
    }
   ],
   "source": [
    "%%timeit\n",
    "_ = thomas_attractor_inline(xyz)"
   ]
  },
  {
   "cell_type": "code",
   "execution_count": 28,
   "metadata": {},
   "outputs": [
    {
     "name": "stdout",
     "output_type": "stream",
     "text": [
      "575 ns ± 7.78 ns per loop (mean ± std. dev. of 7 runs, 1000000 loops each)\n"
     ]
    }
   ],
   "source": [
    "%%timeit\n",
    "_ = thomas_attractor_toArray(xyz)"
   ]
  },
  {
   "cell_type": "code",
   "execution_count": 29,
   "metadata": {},
   "outputs": [
    {
     "name": "stdout",
     "output_type": "stream",
     "text": [
      "331 ns ± 7.75 ns per loop (mean ± std. dev. of 7 runs, 1000000 loops each)\n"
     ]
    }
   ],
   "source": [
    "%%timeit\n",
    "_ = thomas_attractor_tupleOut(xyz)"
   ]
  },
  {
   "cell_type": "code",
   "execution_count": 33,
   "metadata": {},
   "outputs": [],
   "source": []
  },
  {
   "cell_type": "code",
   "execution_count": 36,
   "metadata": {},
   "outputs": [
    {
     "name": "stdout",
     "output_type": "stream",
     "text": [
      "processor x86_64\n",
      "python 3.6.8\n"
     ]
    }
   ],
   "source": []
  },
  {
   "cell_type": "code",
   "execution_count": 169,
   "metadata": {},
   "outputs": [],
   "source": [
    "\n",
    "@jit(nopython=True)\n",
    "def normed_thomas_attractor(xyz):\n",
    "    ''' ODE for Thomas attractor\n",
    "        xyz: point positions, shape (dim, )\n",
    "    '''\n",
    "    \n",
    "    sin_xyz = np.sin(xyz)\n",
    "    dYdt = -b*xyz\n",
    "    dYdt[0] += sin_xyz[1]\n",
    "    dYdt[1] += sin_xyz[2]\n",
    "    dYdt[2] += sin_xyz[0]\n",
    "    return dYdt/np.sqrt(np.sum(dYdt**2))"
   ]
  },
  {
   "cell_type": "code",
   "execution_count": 171,
   "metadata": {},
   "outputs": [
    {
     "name": "stdout",
     "output_type": "stream",
     "text": [
      "4.49 µs ± 363 ns per loop (mean ± std. dev. of 7 runs, 100000 loops each)\n"
     ]
    }
   ],
   "source": [
    "%%timeit\n",
    "_ = normed_thomas_attractor(xyz)"
   ]
  },
  {
   "cell_type": "code",
   "execution_count": null,
   "metadata": {},
   "outputs": [],
   "source": []
  }
 ],
 "metadata": {
  "kernelspec": {
   "display_name": "py3 venv",
   "language": "python",
   "name": "py3"
  },
  "language_info": {
   "codemirror_mode": {
    "name": "ipython",
    "version": 3
   },
   "file_extension": ".py",
   "mimetype": "text/x-python",
   "name": "python",
   "nbconvert_exporter": "python",
   "pygments_lexer": "ipython3",
   "version": "3.6.8"
  }
 },
 "nbformat": 4,
 "nbformat_minor": 2
}
