{
 "cells": [
  {
   "cell_type": "markdown",
   "metadata": {},
   "source": [
    "# Simple Lorenz attractor in Julia"
   ]
  },
  {
   "cell_type": "code",
   "execution_count": 139,
   "metadata": {},
   "outputs": [],
   "source": [
    "using BenchmarkTools\n",
    "#using Plots"
   ]
  },
  {
   "cell_type": "code",
   "execution_count": 2,
   "metadata": {},
   "outputs": [
    {
     "name": "stderr",
     "output_type": "stream",
     "text": [
      "┌ Info: Precompiling DifferentialEquations [0c46a032-eb83-5123-abaf-570d42b7fbaa]\n",
      "└ @ Base loading.jl:1242\n"
     ]
    }
   ],
   "source": [
    "using DifferentialEquations"
   ]
  },
  {
   "cell_type": "code",
   "execution_count": 4,
   "metadata": {},
   "outputs": [],
   "source": [
    "# Parameters\n",
    "sigma = 10.0\n",
    "rho = 28.0\n",
    "beta = 8/3.;"
   ]
  },
  {
   "cell_type": "code",
   "execution_count": 5,
   "metadata": {},
   "outputs": [],
   "source": [
    "# Fixed points\n",
    "p1 = [-sqrt(beta*(rho-1)), -sqrt(beta*(rho-1)), rho-1];\n",
    "p2 = [+sqrt(beta*(rho-1)), +sqrt(beta*(rho-1)), rho-1];"
   ]
  },
  {
   "cell_type": "code",
   "execution_count": 6,
   "metadata": {},
   "outputs": [
    {
     "data": {
      "text/plain": [
       "lorenz! (generic function with 1 method)"
      ]
     },
     "execution_count": 6,
     "metadata": {},
     "output_type": "execute_result"
    }
   ],
   "source": [
    "function lorenz!(du, u, p, t)\n",
    "    du[1] = sigma*(u[2]-u[1])\n",
    "    du[2] = u[1]*(rho-u[3]) - u[2]\n",
    "    du[3] = u[1]*u[2] - beta*u[3]\n",
    "end"
   ]
  },
  {
   "cell_type": "code",
   "execution_count": 141,
   "metadata": {},
   "outputs": [],
   "source": [
    "# Cube size\n",
    "xy_half_size = 25\n",
    "z_size = 45\n",
    "voxel_size = z_size/500.0;"
   ]
  },
  {
   "cell_type": "code",
   "execution_count": 143,
   "metadata": {},
   "outputs": [
    {
     "data": {
      "text/plain": [
       "110"
      ]
     },
     "execution_count": 143,
     "metadata": {},
     "output_type": "execute_result"
    }
   ],
   "source": [
    "# Convert x coordinate to one integer\n",
    "to_index(x, left, right, n) = trunc(Int, (x - left)/(right - left)*n)\n",
    "\n",
    "# test\n",
    "to_index(12, -10, 10, 100)"
   ]
  },
  {
   "cell_type": "code",
   "execution_count": 144,
   "metadata": {},
   "outputs": [
    {
     "data": {
      "text/plain": [
       "(289, 333, 93)"
      ]
     },
     "execution_count": 144,
     "metadata": {},
     "output_type": "execute_result"
    }
   ],
   "source": [
    "# Same for the 3 coordinates\n",
    "function to_ijk(xyz)\n",
    "    x, y, z = xyz\n",
    "    i = to_index(x, -xy_half_size, +xy_half_size, trunc(Int, 2*xy_half_size/voxel_size))\n",
    "    j = to_index(y, -xy_half_size, +xy_half_size, trunc(Int, 2*xy_half_size/voxel_size))\n",
    "    k = to_index(z, 0, +z_size, trunc(Int, z_size/voxel_size))\n",
    "   return  i, j, k\n",
    "end\n",
    "\n",
    "# test\n",
    "to_ijk(rand(3).*10)"
   ]
  },
  {
   "cell_type": "code",
   "execution_count": 145,
   "metadata": {},
   "outputs": [
    {
     "data": {
      "text/plain": [
       "burn (generic function with 1 method)"
      ]
     },
     "execution_count": 145,
     "metadata": {},
     "output_type": "execute_result"
    }
   ],
   "source": [
    "# To the attractor\n",
    "function burn()\n",
    "    u0 = (rand(Float64, 3) .- [0.5, 0.5, 0]).*[2*xy_half_size, 2*xy_half_size, z_size]\n",
    "    tspan = (0.0, 20.0)\n",
    "    prob = ODEProblem(lorenz!, u0, tspan)\n",
    "    tol = 1e-3\n",
    "    sol = solve(prob, Tsit5(), reltol=tol, abstol=tol);\n",
    "    return sol[end]\n",
    "end"
   ]
  },
  {
   "cell_type": "code",
   "execution_count": 146,
   "metadata": {},
   "outputs": [],
   "source": [
    "# Default dict/Counter\n",
    "function increment!(counter, ijk)\n",
    "    counter[ijk] = get(counter, ijk, 0) + 1\n",
    "    end;\n",
    "\n",
    "# test\n",
    "# increment!(cube, (1, 1, 2));"
   ]
  },
  {
   "cell_type": "code",
   "execution_count": 147,
   "metadata": {},
   "outputs": [
    {
     "data": {
      "text/plain": [
       "populate! (generic function with 1 method)"
      ]
     },
     "execution_count": 147,
     "metadata": {},
     "output_type": "execute_result"
    }
   ],
   "source": [
    "# Run the solver and fill the cube\n",
    "function populate!(cube)\n",
    "    u0 = burn()\n",
    "\n",
    "    tspan = (0.0, 200.0)\n",
    "    prob = ODEProblem(lorenz!, u0, tspan)\n",
    "\n",
    "    tol = 1e-7\n",
    "    sol = solve(prob, Tsit5(), reltol=tol, abstol=tol);\n",
    "\n",
    "    #println(\"sol size: \", size(sol.u))\n",
    "\n",
    "    for xyz in sol.u\n",
    "        ijk = to_ijk(xyz)\n",
    "        increment!(cube, ijk)\n",
    "    end\n",
    "    \n",
    "end"
   ]
  },
  {
   "cell_type": "code",
   "execution_count": 121,
   "metadata": {},
   "outputs": [
    {
     "data": {
      "text/plain": [
       "Dict{Tuple{Int64,Int64,Int64},Int64} with 0 entries"
      ]
     },
     "execution_count": 121,
     "metadata": {},
     "output_type": "execute_result"
    }
   ],
   "source": [
    "# Init the counter\n",
    "cube = Dict{Tuple{Int, Int, Int}, Int}()"
   ]
  },
  {
   "cell_type": "code",
   "execution_count": 132,
   "metadata": {},
   "outputs": [
    {
     "name": "stdout",
     "output_type": "stream",
     "text": [
      "cube size:  419057\n",
      " min, max= (1, 90)\n"
     ]
    }
   ],
   "source": [
    "for k in 1:100\n",
    "    populate!(cube)\n",
    "    print(\"\\rcube size:  \", length(cube), \"\")\n",
    "end\n",
    "println(\"\\n min, max= \", extrema(values(cube)))"
   ]
  },
  {
   "cell_type": "code",
   "execution_count": 131,
   "metadata": {},
   "outputs": [
    {
     "data": {
      "text/latex": [
       "\\begin{tabular}\n",
       "{l | r | l}\n",
       "name & size & summary \\\\\n",
       "\\hline\n",
       "cube & 33.000 MiB & Dict\\{Tuple\\{Int64,Int64,Int64\\},Int64\\} with 396223 entries \\\\\n",
       "\\end{tabular}\n"
      ],
      "text/markdown": [
       "| name |       size | summary                                                  |\n",
       "|:---- | ----------:|:-------------------------------------------------------- |\n",
       "| cube | 33.000 MiB | Dict{Tuple{Int64,Int64,Int64},Int64} with 396223 entries |\n"
      ],
      "text/plain": [
       "name       size summary                                                 \n",
       "–––– –––––––––– ––––––––––––––––––––––––––––––––––––––––––––––––––––––––\n",
       "cube 33.000 MiB Dict{Tuple{Int64,Int64,Int64},Int64} with 396223 entries"
      ]
     },
     "execution_count": 131,
     "metadata": {},
     "output_type": "execute_result"
    }
   ],
   "source": [
    "varinfo(r\"cube\")"
   ]
  },
  {
   "cell_type": "code",
   "execution_count": 138,
   "metadata": {},
   "outputs": [],
   "source": [
    "# Save to text file\n",
    "outfile = \"data/lorenz_v02.xyz\"\n",
    "open(outfile, \"w\") do file\n",
    "    for (ijk, count) in cube\n",
    "        if count >= 2\n",
    "            println(file, \"$(ijk[1]) $(ijk[2]) $(ijk[3])\")\n",
    "        end\n",
    "    end\n",
    "end"
   ]
  },
  {
   "cell_type": "markdown",
   "metadata": {},
   "source": [
    "Next job is for PotreeConvertor:\n",
    "- [Install PotreeConvertor](https://github.com/potree/PotreeConverter)\n",
    "\n",
    "        cmake -DCMAKE_BUILD_TYPE=Release -DLASZIP_INCLUDE_DIRS=~/Projets/strange_attractor/lastools/LASzip/dll -DLASZIP_LIBRARY=~/Projets/strange_attractor/lastools/LASzip/build/src/liblaszip.so ..\n",
    "        # copy ./PotreeConverter/resources/page_template to your binary working directory.\n",
    "        \n",
    "        \n",
    "- Path to use     PotreeConverter:\n",
    "\n",
    "        export PATH=\"../PotreeConvertor/master/build/PotreeConverter/:$PATH\"\n",
    "\n",
    "- Command to convert:\n",
    "\n",
    "        PotreeConverter -p --page-template ./page_template/ -i lorenz_v02.xyz\n",
    "    \n",
    "        PotreeConverter -f xyzrgb -color-range 1 -a RGB  -i thomas_pointcloud.xyz\n",
    "        \n",
    "and for [Potree](http://potree.org/):\n",
    "\n",
    "--> [a white Lorenz Attractor](https://xdze2.github.io/chaotic-clouds/white_lorenz.html)\n",
    "\n",
    "\n",
    "![screenshot](./images/thewhitebutterfly.png)"
   ]
  },
  {
   "cell_type": "markdown",
   "metadata": {},
   "source": [
    "## Draft\n",
    "using events"
   ]
  },
  {
   "cell_type": "code",
   "execution_count": null,
   "metadata": {},
   "outputs": [],
   "source": [
    "n = [0, 0, 1]\n",
    "\n",
    "function condition(u, t, integrator)\n",
    "    a =  u .- p2\n",
    "    return sum(a.*n)\n",
    "end\n",
    "\n",
    "function project(u)\n",
    "    a =  u .- p2\n",
    "    dot = sum(a.*n)\n",
    "    return a .- dot.*n\n",
    "end\n",
    "\n",
    "affect!(integrator) = terminate!(integrator)\n",
    "cb = ContinuousCallback(condition, affect!);"
   ]
  },
  {
   "cell_type": "code",
   "execution_count": null,
   "metadata": {},
   "outputs": [],
   "source": [
    "u0 = burn()\n",
    "\n",
    "tspan = (0.0, 60.0)\n",
    "prob = ODEProblem(lorenz!, u0, tspan)\n",
    "\n",
    "tol = 1e-7\n",
    "sol_stop = solve(prob, Tsit5(), callback=cb, reltol=tol, abstol=tol);"
   ]
  },
  {
   "cell_type": "code",
   "execution_count": null,
   "metadata": {},
   "outputs": [],
   "source": [
    "plot(sol[1, :], sol[3, :], xlabel=\"x\", ylabel=\"z\")"
   ]
  },
  {
   "cell_type": "code",
   "execution_count": null,
   "metadata": {},
   "outputs": [],
   "source": [
    "plot(sol[2, :], sol[3, :], xlabel=\"y\", ylabel=\"z\")\n",
    "scatter!([p1[2], ], [p1[3], ], label=\"p1\")\n",
    "scatter!([p2[2], ], [p2[3], ], label=\"p2\")\n",
    "plot!(sol_stop[2, :], sol_stop[3, :], color=:red)"
   ]
  },
  {
   "cell_type": "code",
   "execution_count": null,
   "metadata": {},
   "outputs": [],
   "source": [
    "function to_plan()\n",
    "    \n",
    "    u0 = burn()\n",
    "    tspan = (0.0, 160.0)\n",
    "    prob = ODEProblem(lorenz!, u0, tspan)\n",
    "\n",
    "    tol = 1e-7\n",
    "    sol_stop = solve(prob, Tsit5(), callback=cb,\n",
    "        reltol=tol, abstol=tol);\n",
    "    return project(sol_stop[end])[1:2]\n",
    "end"
   ]
  },
  {
   "cell_type": "code",
   "execution_count": null,
   "metadata": {},
   "outputs": [],
   "source": [
    "poincarre = hcat([to_plan() for i in 1:5000]...);"
   ]
  },
  {
   "cell_type": "code",
   "execution_count": null,
   "metadata": {},
   "outputs": [],
   "source": [
    "scatter(poincarre[1, :], poincarre[2, :], markersize=2, markerstrokewidth = 0,\n",
    "            markeralpha = 0.6, xlabel=\"y\", ylabel=\"x\")\n",
    "xaxis!(lims=(0, 5))"
   ]
  },
  {
   "cell_type": "code",
   "execution_count": null,
   "metadata": {},
   "outputs": [],
   "source": [
    "u0 = burn()\n",
    "\n",
    "tspan = (0.0, 1000.0)\n",
    "prob = ODEProblem(lorenz!, u0, tspan)\n",
    "\n",
    "tol = 1e-7\n",
    "sol = solve(prob, Tsit5(), reltol=tol, abstol=tol);"
   ]
  },
  {
   "cell_type": "code",
   "execution_count": null,
   "metadata": {},
   "outputs": [],
   "source": [
    "outfile = \"data/lorenz_v01.xyz\"\n",
    "open(outfile, \"w\") do file\n",
    "  for s in sol.u\n",
    "    println(file, \"$(s[1]) $(s[2]) $(s[3])\")\n",
    "  end\n",
    "end"
   ]
  },
  {
   "cell_type": "code",
   "execution_count": null,
   "metadata": {},
   "outputs": [],
   "source": [
    "CSV.write(\"hello.txt\", rand(3, 3))"
   ]
  },
  {
   "cell_type": "code",
   "execution_count": null,
   "metadata": {},
   "outputs": [],
   "source": [
    "?yaxis!#(lims=(1, 6))"
   ]
  },
  {
   "cell_type": "code",
   "execution_count": null,
   "metadata": {},
   "outputs": [],
   "source": [
    "@gif for theta in range(0, stop = 360, length = 150)\n",
    "    plot3d(sol[1, :], sol[2, :], sol[3, :],\n",
    "           camera=(theta, 10))\n",
    "end"
   ]
  },
  {
   "cell_type": "code",
   "execution_count": null,
   "metadata": {},
   "outputs": [],
   "source": [
    "plot(sol[1, :], sol[3, :])"
   ]
  },
  {
   "cell_type": "code",
   "execution_count": null,
   "metadata": {},
   "outputs": [],
   "source": [
    "u0 = [1.0; 0.0; 0.0]\n",
    "tspan = (0.0, 40.0)\n",
    "prob = ODEProblem(lorenz!, u0, tspan)\n",
    "sol1 = solve(prob);\n",
    "sol2 = solve(prob, Tsit5(), reltol=1e-8, abstol=1e-8);"
   ]
  },
  {
   "cell_type": "code",
   "execution_count": null,
   "metadata": {},
   "outputs": [],
   "source": [
    "sol_OZ4 = solve(prob, OwrenZen4());\n",
    "plot(sol_OZ4, linewidth=1)"
   ]
  },
  {
   "cell_type": "code",
   "execution_count": null,
   "metadata": {},
   "outputs": [],
   "source": [
    "sol_RK4 = solve(prob, RK4(), reltol=1e-8, abstol=1e-8);\n",
    "plot(sol_RK4, linewidth=1)"
   ]
  },
  {
   "cell_type": "code",
   "execution_count": null,
   "metadata": {},
   "outputs": [],
   "source": [
    "plot(sol_RK4[2, :], sol_RK4[3, :])"
   ]
  },
  {
   "cell_type": "code",
   "execution_count": null,
   "metadata": {},
   "outputs": [],
   "source": [
    "plot(sol_RK4.u[], linewidth=1)"
   ]
  },
  {
   "cell_type": "code",
   "execution_count": null,
   "metadata": {},
   "outputs": [],
   "source": [
    "sol_RK4 = solve(prob, OwrenZen3(), reltol=1e-8, abstol=1e-8);\n",
    "plot(sol_RK4, linewidth=1)"
   ]
  },
  {
   "cell_type": "code",
   "execution_count": null,
   "metadata": {},
   "outputs": [],
   "source": [
    "sol_RK4 = solve(prob, Feagin14(), reltol=1e-8, abstol=1e-8);\n",
    "plot(sol_RK4, linewidth=1)"
   ]
  },
  {
   "cell_type": "code",
   "execution_count": null,
   "metadata": {},
   "outputs": [],
   "source": []
  }
 ],
 "metadata": {
  "kernelspec": {
   "display_name": "Julia 1.2.0",
   "language": "julia",
   "name": "julia-1.2"
  },
  "language_info": {
   "file_extension": ".jl",
   "mimetype": "application/julia",
   "name": "julia",
   "version": "1.2.0"
  }
 },
 "nbformat": 4,
 "nbformat_minor": 2
}
