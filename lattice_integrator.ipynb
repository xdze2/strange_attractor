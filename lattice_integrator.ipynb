{
 "cells": [
  {
   "cell_type": "code",
   "execution_count": 1,
   "metadata": {},
   "outputs": [],
   "source": [
    "import numpy as np\n",
    "from numba import jit, float64\n",
    "\n",
    "@jit(float64[:](float64[:], float64), nopython=True)\n",
    "def thomas_attractor(xyz, b):\n",
    "    ''' ODE for Thomas attractor\n",
    "        xyz: point position, 1d array, float64\n",
    "        b: coefficient, float64\n",
    "        \n",
    "        use numba JIT\n",
    "    '''\n",
    "    sin_xyz = np.sin(xyz)\n",
    "    dYdt = -b*xyz\n",
    "    dYdt[0] += sin_xyz[1]\n",
    "    dYdt[1] += sin_xyz[2]\n",
    "    dYdt[2] += sin_xyz[0]\n",
    "    return dYdt"
   ]
  },
  {
   "cell_type": "code",
   "execution_count": 71,
   "metadata": {},
   "outputs": [],
   "source": [
    "import matplotlib.pyplot as plt"
   ]
  },
  {
   "cell_type": "code",
   "execution_count": 124,
   "metadata": {},
   "outputs": [],
   "source": [
    "def circle(u):\n",
    "    x, y, z = u\n",
    "    dudt = np.array([y, -x, 0])\n",
    "    return dudt/np.sqrt(np.sum(dudt**2))"
   ]
  },
  {
   "cell_type": "code",
   "execution_count": 132,
   "metadata": {},
   "outputs": [],
   "source": [
    "def step(xyz):\n",
    "    v = circle(xyz)\n",
    "    v = v/np.sqrt(np.sum(v**2))\n",
    "\n",
    "    cube_half_size_px = 500\n",
    "    cube_half_size = 8\n",
    "\n",
    "    dx = 0.01#cube_half_size/cube_half_size_px\n",
    "\n",
    "    ijk, delta_xyz = np.divmod(xyz, dx)\n",
    "\n",
    "    delta_xyz = np.hstack([delta_xyz, dx - delta_xyz])\n",
    "    v_nan = np.hstack([v, v])\n",
    "    v_nan[np.abs(v_nan)<1e-10] = np.NaN\n",
    "    delta_xyz[np.abs(delta_xyz)<1e-10] = np.NaN\n",
    "    dt_xyz = np.abs( delta_xyz/v_nan )\n",
    "\n",
    "    next_face_id = np.nanargmin(dt_xyz)\n",
    "\n",
    "    d_xyz = v*dt_xyz[next_face_id]\n",
    "    #print(delta_xyz)\n",
    "    return xyz + d_xyz"
   ]
  },
  {
   "cell_type": "code",
   "execution_count": 133,
   "metadata": {},
   "outputs": [],
   "source": [
    "xyz = np.array([1.0, 0., 0], dtype=np.float64)"
   ]
  },
  {
   "cell_type": "code",
   "execution_count": 135,
   "metadata": {},
   "outputs": [
    {
     "data": {
      "image/png": "[encoded data removed]",
      "text/plain": [
       "<Figure size 432x288 with 1 Axes>"
      ]
     },
     "metadata": {
      "needs_background": "light"
     },
     "output_type": "display_data"
    }
   ],
   "source": [
    "sol = []\n",
    "for _ in range(2000):\n",
    "    xyz = step(xyz)\n",
    "    sol.append(xyz)\n",
    "\n",
    "sol = np.array(sol)\n",
    "\n",
    "plt.plot(sol[:, 0], sol[:, 1], ',');\n",
    "plt.axis('equal');"
   ]
  },
  {
   "cell_type": "code",
   "execution_count": 87,
   "metadata": {},
   "outputs": [
    {
     "data": {
      "text/plain": [
       "array([[1.008 , 2.4968, 0.    ],\n",
       "       [1.008 , 2.4968, 0.    ],\n",
       "       [1.008 , 2.4968, 0.    ],\n",
       "       [1.008 , 2.4968, 0.    ],\n",
       "       [1.008 , 2.4968, 0.    ],\n",
       "       [1.008 , 2.4968, 0.    ],\n",
       "       [1.008 , 2.4968, 0.    ],\n",
       "       [1.008 , 2.4968, 0.    ],\n",
       "       [1.008 , 2.4968, 0.    ],\n",
       "       [1.008 , 2.4968, 0.    ]])"
      ]
     },
     "execution_count": 87,
     "metadata": {},
     "output_type": "execute_result"
    }
   ],
   "source": [
    "sol"
   ]
  },
  {
   "cell_type": "code",
   "execution_count": 63,
   "metadata": {},
   "outputs": [],
   "source": [
    "xyz = np.array([1, 2.5, 0], dtype=np.float64)\n",
    "v = circle(xyz)\n",
    "v = v/np.sqrt(np.sum(v**2))\n",
    "\n",
    "cube_half_size_px = 500\n",
    "cube_half_size = 8\n",
    "\n",
    "dx = cube_half_size/cube_half_size_px\n",
    "\n",
    "ijk, delta_xyz = np.divmod(xyz, dx)\n",
    "\n",
    "v_nan = np.copy(v)\n",
    "v_nan[np.abs(v)<1e-10] = np.NaN\n",
    "dt_xyz = delta_xyz/v_nan\n",
    "\n",
    "next_face_id = np.nanargmin(np.abs(dt_xyz))\n",
    "\n",
    "d_xyz = v*dt_xyz[next_face_id]\n"
   ]
  },
  {
   "cell_type": "code",
   "execution_count": 64,
   "metadata": {},
   "outputs": [
    {
     "data": {
      "text/plain": [
       "array([ 0.008 , -0.0032,  0.    ])"
      ]
     },
     "execution_count": 64,
     "metadata": {},
     "output_type": "execute_result"
    }
   ],
   "source": [
    "d_xyz"
   ]
  },
  {
   "cell_type": "code",
   "execution_count": 59,
   "metadata": {},
   "outputs": [
    {
     "data": {
      "text/plain": [
       "nan"
      ]
     },
     "execution_count": 59,
     "metadata": {},
     "output_type": "execute_result"
    }
   ],
   "source": [
    "1/np.nan"
   ]
  },
  {
   "cell_type": "code",
   "execution_count": null,
   "metadata": {},
   "outputs": [],
   "source": []
  }
 ],
 "metadata": {
  "kernelspec": {
   "display_name": "py3 venv",
   "language": "python",
   "name": "py3"
  },
  "language_info": {
   "codemirror_mode": {
    "name": "ipython",
    "version": 3
   },
   "file_extension": ".py",
   "mimetype": "text/x-python",
   "name": "python",
   "nbconvert_exporter": "python",
   "pygments_lexer": "ipython3",
   "version": "3.6.8"
  }
 },
 "nbformat": 4,
 "nbformat_minor": 2
}
