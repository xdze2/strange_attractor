{
 "cells": [
  {
   "cell_type": "code",
   "execution_count": 2,
   "metadata": {},
   "outputs": [],
   "source": [
    "import numpy as np\n",
    "from scipy.integrate import odeint\n",
    "import matplotlib.pyplot as plt\n",
    "from numba import jit, float64\n",
    "from multiprocessing import Pool\n",
    "import time\n",
    "from collections import Counter"
   ]
  },
  {
   "cell_type": "markdown",
   "metadata": {},
   "source": [
    "# Vizualize the attractor structure in 3D\n",
    "\n",
    "using [Potree](http://potree.org/), a \"WebGL based point cloud renderer for large point clouds\"\n",
    "\n",
    "\n",
    "- Point cloud to 3D:\n",
    "\n",
    "A first approach is to directly use the points obtain from the ODE solver as 3d point cloud. The problem is that the density of points is not uniform, leading to poor 3d render.\n",
    "\n",
    "A second approach is to evaluate the density on a regular grid. Using 3D sparse arrays. However, [sparse](https://sparse.pydata.org/en/latest/quickstart.html) library is not very usefull here,\n",
    "use collections.Counter instead \n",
    "\n",
    "_note:_ mutliproc is not very usefull, the bottleneck is memory"
   ]
  },
  {
   "cell_type": "code",
   "execution_count": 3,
   "metadata": {},
   "outputs": [],
   "source": [
    "@jit(float64[:](float64[:], float64), nopython=True)\n",
    "def thomas_attractor(xyz, b):\n",
    "    ''' ODE for Thomas attractor\n",
    "        xyz: point position, 1d array, float64\n",
    "        b: coefficient, float64\n",
    "        \n",
    "        use numba JIT\n",
    "    '''\n",
    "    sin_xyz = np.sin(xyz)\n",
    "    dYdt = -b*xyz\n",
    "    dYdt[0] += sin_xyz[1]\n",
    "    dYdt[1] += sin_xyz[2]\n",
    "    dYdt[2] += sin_xyz[0]\n",
    "    return dYdt/np.sqrt(np.sum(dYdt**2))"
   ]
  },
  {
   "cell_type": "code",
   "execution_count": 4,
   "metadata": {},
   "outputs": [],
   "source": [
    "def burn(b):\n",
    "    y0 = np.random.randn(3)*3\n",
    "    \n",
    "    t_span = np.linspace(0, 100, 11)\n",
    "    sol = odeint(lambda y, t: thomas_attractor(y, b),\n",
    "                 y0, t_span)\n",
    "    y1 = sol[-1, :]\n",
    "    return y1"
   ]
  },
  {
   "cell_type": "code",
   "execution_count": 38,
   "metadata": {},
   "outputs": [
    {
     "name": "stdout",
     "output_type": "stream",
     "text": [
      "voxel size: 0.004200000000000001\n"
     ]
    }
   ],
   "source": [
    "# init\n",
    "b = 0.192\n",
    "half_attractor_size = 4.2  # demi axe\n",
    "nbr_pixel = 2000\n",
    "print('voxel size:', half_attractor_size*2/nbr_pixel )\n",
    "voxel_size = half_attractor_size*2/nbr_pixel"
   ]
  },
  {
   "cell_type": "code",
   "execution_count": 39,
   "metadata": {},
   "outputs": [
    {
     "name": "stdout",
     "output_type": "stream",
     "text": [
      "elapsed (s) 5.334744691848755\n",
      "5000\n"
     ]
    }
   ],
   "source": [
    "# Burn (multiprocessing)\n",
    "t_start = time.time()\n",
    "with Pool(4) as p:\n",
    "    points = p.map(burn, [b, ]*5000, chunksize=10)\n",
    "\n",
    "print('elapsed (s)', time.time() - t_start)\n",
    "print(len(points))"
   ]
  },
  {
   "cell_type": "code",
   "execution_count": 40,
   "metadata": {},
   "outputs": [
    {
     "data": {
      "image/png": "[encoded data removed]",
      "text/plain": [
       "<Figure size 504x504 with 1 Axes>"
      ]
     },
     "metadata": {
      "needs_background": "light"
     },
     "output_type": "display_data"
    }
   ],
   "source": [
    "points_array = np.vstack(points)\n",
    "\n",
    "plt.figure(figsize=(7, 7));\n",
    "plt.axis('equal');\n",
    "plt.plot(points_array[:, 0], points_array[:, 1], ',', alpha=0.8);\n",
    "plt.plot(-points_array[:, 0], -points_array[:, 1], ',', alpha=0.8);"
   ]
  },
  {
   "cell_type": "code",
   "execution_count": 41,
   "metadata": {},
   "outputs": [],
   "source": [
    "def tuplize(xyz):\n",
    "    XYZ_px = ( (xyz + half_attractor_size)/(2*half_attractor_size) * nbr_pixel ).astype(int)\n",
    "    return [tuple(ijk) for ijk in XYZ_px]"
   ]
  },
  {
   "cell_type": "code",
   "execution_count": 42,
   "metadata": {},
   "outputs": [],
   "source": [
    "#dt = voxel_size*10\n",
    "# note: the time step is much larger than the voxel size --> stats over many samples\n",
    "\n",
    "def integrate(y0):\n",
    "\n",
    "    t_span = t_span = np.linspace(0, 100, 7000)# np.arange(0, 500, dt)\n",
    "    xyz = odeint(lambda y, t: thomas_attractor(y, b),\n",
    "                 y0, t_span)\n",
    "    return xyz"
   ]
  },
  {
   "cell_type": "code",
   "execution_count": 43,
   "metadata": {},
   "outputs": [],
   "source": [
    "# init\n",
    "cube = Counter()\n",
    "len_cube = []"
   ]
  },
  {
   "cell_type": "code",
   "execution_count": 44,
   "metadata": {},
   "outputs": [
    {
     "name": "stdout",
     "output_type": "stream",
     "text": [
      "elapsed (s) 16.25030016899109\n",
      "3309915 1000\n",
      "elapsed (s) 32.11561441421509\n",
      "4453289 1000\n",
      "elapsed (s) 48.153559923172\n",
      "5068442 1000\n",
      "elapsed (s) 64.46003770828247\n",
      "5451768 1000\n",
      "elapsed (s) 81.61213850975037\n",
      "5711454 1000\n",
      "elapsed (s) 97.67435669898987\n",
      "5912307 1000\n",
      "elapsed (s) 113.8169059753418\n",
      "6059629 1000\n",
      "elapsed (s) 129.83877897262573\n",
      "6177163 1000\n",
      "elapsed (s) 147.13150906562805\n",
      "6277001 1000\n",
      "elapsed (s) 163.68273901939392\n",
      "6357934 1000\n",
      "elapsed (s) 180.17408180236816\n",
      "6428204 1000\n",
      "elapsed (s) 196.57613015174866\n",
      "6488285 1000\n",
      "elapsed (s) 213.2611665725708\n",
      "6539570 1000\n",
      "elapsed (s) 230.19820094108582\n",
      "6585797 1000\n",
      "elapsed (s) 247.01978397369385\n",
      "6628087 1000\n",
      "elapsed (s) 263.16825580596924\n",
      "6666296 1000\n",
      "elapsed (s) 279.49587988853455\n",
      "6699500 1000\n",
      "elapsed (s) 295.71215081214905\n",
      "6731896 1000\n",
      "elapsed (s) 312.40413880348206\n",
      "6761023 1000\n",
      "elapsed (s) 331.28911542892456\n",
      "6788113 1000\n",
      "elapsed (s) 348.89546036720276\n",
      "6811817 1000\n",
      "elapsed (s) 365.5653989315033\n",
      "6833880 1000\n",
      "elapsed (s) 382.1351001262665\n",
      "6855199 1000\n",
      "elapsed (s) 398.42383575439453\n",
      "6874565 1000\n",
      "elapsed (s) 415.15840673446655\n",
      "6892946 1000\n",
      "elapsed (s) 432.2858703136444\n",
      "6909843 1000\n",
      "elapsed (s) 450.98666501045227\n",
      "6926204 1000\n",
      "elapsed (s) 470.17383456230164\n",
      "6941510 1000\n",
      "elapsed (s) 487.5927574634552\n",
      "6955815 1000\n",
      "elapsed (s) 504.80112290382385\n",
      "6968981 1000\n",
      "elapsed (s) 521.578711271286\n",
      "6982208 1000\n",
      "elapsed (s) 538.2347099781036\n",
      "6994599 1000\n",
      "elapsed (s) 555.3157274723053\n",
      "7005981 1000\n",
      "elapsed (s) 572.4758803844452\n",
      "7017134 1000\n",
      "elapsed (s) 589.3525352478027\n",
      "7027475 1000\n",
      "elapsed (s) 607.356529712677\n",
      "7038098 1000\n",
      "elapsed (s) 624.6460249423981\n",
      "7048161 1000\n",
      "elapsed (s) 641.6396903991699\n",
      "7057378 1000\n",
      "elapsed (s) 659.211098909378\n",
      "7066574 1000\n",
      "elapsed (s) 676.5102922916412\n",
      "7074910 1000\n",
      "elapsed (s) 694.4762473106384\n",
      "7083498 1000\n",
      "elapsed (s) 712.0918262004852\n",
      "7091655 1000\n",
      "elapsed (s) 729.5090742111206\n",
      "7099247 1000\n",
      "elapsed (s) 746.244152545929\n",
      "7106663 1000\n",
      "elapsed (s) 763.073588848114\n",
      "7114027 1000\n",
      "elapsed (s) 779.5139892101288\n",
      "7121142 1000\n",
      "elapsed (s) 795.9939386844635\n",
      "7128203 1000\n",
      "elapsed (s) 812.8137021064758\n",
      "7134745 1000\n",
      "elapsed (s) 829.4212577342987\n",
      "7140986 1000\n",
      "elapsed (s) 845.8604106903076\n",
      "7147140 1000\n",
      "elapsed (s) 862.2156512737274\n",
      "7153261 1000\n",
      "elapsed (s) 878.6570932865143\n",
      "7159265 1000\n",
      "elapsed (s) 895.0123918056488\n",
      "7165122 1000\n",
      "elapsed (s) 911.4223439693451\n",
      "7170737 1000\n",
      "elapsed (s) 927.7198076248169\n",
      "7175954 1000\n",
      "elapsed (s) 944.1492397785187\n",
      "7181156 1000\n",
      "elapsed (s) 960.8928959369659\n",
      "7186187 1000\n",
      "elapsed (s) 977.3247783184052\n",
      "7191177 1000\n",
      "elapsed (s) 993.7625875473022\n",
      "7196007 1000\n",
      "elapsed (s) 1010.1682841777802\n",
      "7201084 1000\n",
      "elapsed (s) 1026.6446278095245\n",
      "7205559 1000\n",
      "elapsed (s) 1043.0217559337616\n",
      "7209959 1000\n",
      "elapsed (s) 1059.397028684616\n",
      "7214264 1000\n",
      "elapsed (s) 1075.7363345623016\n",
      "7218618 1000\n",
      "elapsed (s) 1092.144747018814\n",
      "7222569 1000\n",
      "elapsed (s) 1108.7549803256989\n",
      "7226521 1000\n",
      "elapsed (s) 1125.0322992801666\n",
      "7230328 1000\n",
      "elapsed (s) 1141.4882690906525\n",
      "7234201 1000\n",
      "elapsed (s) 1157.9176127910614\n",
      "7238001 1000\n",
      "elapsed (s) 1174.348375082016\n",
      "7241720 1000\n",
      "elapsed (s) 1190.799323797226\n",
      "7245453 1000\n",
      "elapsed (s) 1207.2260160446167\n",
      "7249229 1000\n",
      "elapsed (s) 1223.7046616077423\n",
      "7252542 1000\n",
      "elapsed (s) 1240.253565788269\n",
      "7256127 1000\n",
      "elapsed (s) 1257.0217590332031\n",
      "7259357 1000\n",
      "elapsed (s) 1273.426373720169\n",
      "7262580 1000\n",
      "elapsed (s) 1289.9053275585175\n",
      "7265870 1000\n",
      "elapsed (s) 1306.4819738864899\n",
      "7269012 1000\n",
      "elapsed (s) 1323.0200095176697\n",
      "7272067 1000\n",
      "elapsed (s) 1339.513733625412\n",
      "7275124 1000\n",
      "elapsed (s) 1356.0297293663025\n",
      "7278282 1000\n",
      "elapsed (s) 1372.558256149292\n",
      "7281110 1000\n",
      "elapsed (s) 1389.2692499160767\n",
      "7283907 1000\n",
      "elapsed (s) 1405.81303524971\n",
      "7286658 1000\n",
      "elapsed (s) 1422.3287270069122\n",
      "7289406 1000\n",
      "elapsed (s) 1438.7776234149933\n",
      "7292090 1000\n",
      "elapsed (s) 1455.333512544632\n",
      "7294673 1000\n",
      "elapsed (s) 1471.8329241275787\n",
      "7297452 1000\n",
      "elapsed (s) 1488.3798174858093\n",
      "7300102 1000\n",
      "elapsed (s) 1504.9847812652588\n",
      "7302682 1000\n",
      "elapsed (s) 1521.5226233005524\n",
      "7305147 1000\n",
      "elapsed (s) 1538.2579441070557\n",
      "7307608 1000\n",
      "elapsed (s) 1554.7889766693115\n",
      "7309830 1000\n",
      "elapsed (s) 1571.3639559745789\n",
      "7312218 1000\n",
      "elapsed (s) 1587.9793288707733\n",
      "7314507 1000\n",
      "elapsed (s) 1604.5905375480652\n",
      "7316836 1000\n",
      "elapsed (s) 1621.1834800243378\n",
      "7319026 1000\n",
      "elapsed (s) 1637.7413384914398\n",
      "7321206 1000\n",
      "elapsed (s) 1654.350281238556\n",
      "7323308 1000\n",
      "elapsed (s) 1670.9998047351837\n",
      "7325454 1000\n"
     ]
    }
   ],
   "source": [
    "t_start = time.time()\n",
    "\n",
    "for k in range(100):\n",
    "    # burn\n",
    "    points = [burn(b) for _ in range(1000)]\n",
    "    #print('elapsed (s)', time.time() - t_start)\n",
    "\n",
    "    for y0 in points:\n",
    "        xyz = integrate(y0)\n",
    "        cube.update(tuplize(xyz))\n",
    "\n",
    "    print('elapsed (s)', time.time() - t_start)\n",
    "\n",
    "    print(len(cube), len(points))\n",
    "    len_cube.append((sum(cube.values()), len(cube)))"
   ]
  },
  {
   "cell_type": "code",
   "execution_count": 45,
   "metadata": {},
   "outputs": [
    {
     "data": {
      "image/png": "[encoded data removed]",
      "text/plain": [
       "<Figure size 432x288 with 1 Axes>"
      ]
     },
     "metadata": {
      "needs_background": "light"
     },
     "output_type": "display_data"
    }
   ],
   "source": [
    "plt.plot(*list(zip(*len_cube)));\n",
    "plt.xlabel('nombre total de points');\n",
    "plt.ylabel('nbr voxel'); "
   ]
  },
  {
   "cell_type": "code",
   "execution_count": 46,
   "metadata": {},
   "outputs": [
    {
     "name": "stdout",
     "output_type": "stream",
     "text": [
      "nbr of non zero voxel: 7325454\n",
      "nbr of counts: 700000000\n"
     ]
    },
    {
     "data": {
      "image/png": "[encoded data removed]",
      "text/plain": [
       "<Figure size 1008x288 with 1 Axes>"
      ]
     },
     "metadata": {
      "needs_background": "light"
     },
     "output_type": "display_data"
    }
   ],
   "source": [
    "# stats\n",
    "print('nbr of non zero voxel:', len(cube))\n",
    "total_counts = sum(cube.values())\n",
    "print('nbr of counts:', total_counts)\n",
    "\n",
    "freqs = np.bincount([x for x in cube.values()])\n",
    "\n",
    "plt.figure(figsize=(14, 4));\n",
    "plt.semilogy(np.arange(1, len(freqs)), freqs[1:]);\n",
    "plt.ylabel('frequence'); plt.grid(axis='y')\n",
    "plt.xlabel('counts per voxel'); "
   ]
  },
  {
   "cell_type": "markdown",
   "metadata": {},
   "source": [
    "### Save to text file"
   ]
  },
  {
   "cell_type": "code",
   "execution_count": 47,
   "metadata": {},
   "outputs": [],
   "source": [
    "import matplotlib.cm as cm"
   ]
  },
  {
   "cell_type": "code",
   "execution_count": 48,
   "metadata": {},
   "outputs": [],
   "source": [
    "def color_convertor(value):\n",
    "    return cm.Reds(value, bytes=False)[:3]"
   ]
  },
  {
   "cell_type": "code",
   "execution_count": 51,
   "metadata": {},
   "outputs": [
    {
     "name": "stdout",
     "output_type": "stream",
     "text": [
      "4758540 points\n"
     ]
    }
   ],
   "source": [
    "min_count = int( len(freqs)*0.01 )\n",
    "max_count = int( len(freqs)*0.9 )\n",
    "\n",
    "nbr_voxel = np.sum( freqs[min_count:] )\n",
    "print(nbr_voxel, 'points')"
   ]
  },
  {
   "cell_type": "code",
   "execution_count": 52,
   "metadata": {},
   "outputs": [],
   "source": [
    "with open(f'data/pointcloud_{nbr_pixel}px_{nbr_voxel}points.xyz', 'a') as f:\n",
    "    \n",
    "    for ijk, value in cube.items():\n",
    "        \n",
    "        if value < min_count:\n",
    "            continue\n",
    "        else:\n",
    "            density = np.clip((value - min_count)/(max_count - min_count), 0, 1)*0.8 + 0.2\n",
    "            xyz =  (np.array(ijk)/nbr_pixel - 0.5)*half_attractor_size*2\n",
    "            to_str = [f'{u}' for u in np.hstack([xyz, color_convertor(density)])]\n",
    "            line = ' '.join(to_str) + '\\n'\n",
    "    \n",
    "            f.write(line)"
   ]
  },
  {
   "cell_type": "markdown",
   "metadata": {},
   "source": [
    "### PotreeConvertor\n",
    "\n",
    "- Path to use     PotreeConverter:\n",
    "\n",
    "        \n",
    "        export PATH=\"~/Softwares/potree/PotreeConverter/master/build/PotreeConverter/:$PATH\"\n",
    "\n",
    "- Command to convert:\n",
    "\n",
    "        PotreeConverter -p --page-template ./page_template/ -i thomas_pointcloud.xyz\n",
    "    \n",
    "        PotreeConverter -f xyzrgb -color-range 1 -a RGB  -i thomas_pointcloud.xyz"
   ]
  },
  {
   "cell_type": "markdown",
   "metadata": {},
   "source": [
    "![potree_v3_1000px.png](./potree_v3_1000px.png)"
   ]
  },
  {
   "cell_type": "markdown",
   "metadata": {},
   "source": [
    "![2000px_4.7Mpoints.png](./2000px_4.7Mpoints.png)"
   ]
  },
  {
   "cell_type": "markdown",
   "metadata": {},
   "source": [
    "### Next:\n",
    "\n",
    "- noise: https://core.ac.uk/download/pdf/34480918.pdf\n",
    "- speed up?  go full Julia?"
   ]
  },
  {
   "cell_type": "code",
   "execution_count": null,
   "metadata": {},
   "outputs": [],
   "source": []
  }
 ],
 "metadata": {
  "kernelspec": {
   "display_name": "py3 venv",
   "language": "python",
   "name": "py3"
  },
  "language_info": {
   "codemirror_mode": {
    "name": "ipython",
    "version": 3
   },
   "file_extension": ".py",
   "mimetype": "text/x-python",
   "name": "python",
   "nbconvert_exporter": "python",
   "pygments_lexer": "ipython3",
   "version": "3.6.8"
  }
 },
 "nbformat": 4,
 "nbformat_minor": 2
}
