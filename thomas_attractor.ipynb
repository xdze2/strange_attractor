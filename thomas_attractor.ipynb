{
 "cells": [
  {
   "cell_type": "code",
   "execution_count": 2,
   "metadata": {},
   "outputs": [],
   "source": [
    "import numpy as np\n",
    "import imageio"
   ]
  },
  {
   "cell_type": "markdown",
   "metadata": {},
   "source": [
    "# Thomas' cyclically symmetric attractor\n",
    "\n",
    "http://rreusser.github.io/strange-attractors/#thomas  \n",
    "https://en.wikipedia.org/wiki/Thomas%27_cyclically_symmetric_attractor  \n",
    "http://sprott.physics.wisc.edu/pubs/paper302.pdf"
   ]
  },
  {
   "cell_type": "code",
   "execution_count": 35,
   "metadata": {},
   "outputs": [],
   "source": [
    "def step_RK4(dt, t, Y, dYdt):\n",
    "    ''' Multiple Runge Kutta 4th order integrator\n",
    "        \n",
    "        dt: time step\n",
    "        t:  time\n",
    "        Y:  array of shape (number of dim, number of points)\n",
    "        dYdt: function f(t, y)\n",
    "    '''\n",
    "   \n",
    "    t_plus_dt = t + dt\n",
    "    k1 = dYdt(t, Y)\n",
    "    k2 = dYdt(t_plus_dt, Y + dt/2*k1)\n",
    "    k3 = dYdt(t_plus_dt, Y + dt/2*k2)\n",
    "    k4 = dYdt(t_plus_dt, Y + dt*k3)\n",
    "\n",
    "    Ynext = Y + dt/6*(k1 + 2*k2 + 2*k3 + k4)\n",
    "    \n",
    "    return t_plus_dt, Ynext"
   ]
  },
  {
   "cell_type": "code",
   "execution_count": 36,
   "metadata": {},
   "outputs": [],
   "source": [
    "def thomas_attractor(xyz, b=0.19):\n",
    "    ''' ODE for Thomas attractor\n",
    "        xyz: point positions, shape (dim, nbr points)\n",
    "    '''\n",
    "    \n",
    "    sin_xyz = np.sin(xyz)\n",
    "    dYdt = -b*np.copy(xyz)\n",
    "    dYdt[0, :] += sin_xyz[1, :]\n",
    "    dYdt[1, :] += sin_xyz[2, :]\n",
    "    dYdt[2, :] += sin_xyz[0, :]\n",
    "    return dYdt"
   ]
  },
  {
   "cell_type": "markdown",
   "metadata": {},
   "source": [
    "## Fill the cube"
   ]
  },
  {
   "cell_type": "code",
   "execution_count": 37,
   "metadata": {},
   "outputs": [],
   "source": [
    "b = 0.19\n",
    "n_points = 100\n",
    "\n",
    "Y = np.random.rand(3, n_points)*12 - 6 \n",
    "\n",
    "t, dt = 0, 0.1\n",
    "\n",
    "def dYdt(t, Y):\n",
    "    return thomas_attractor(Y, b=b)\n",
    "\n",
    "# Burn - to reach stable orbits\n",
    "for _ in range(300):\n",
    "    t, Y = step_RK4(0.1, t, Y, dYdt)"
   ]
  },
  {
   "cell_type": "code",
   "execution_count": 38,
   "metadata": {},
   "outputs": [],
   "source": [
    "from scipy.sparse import dok_matrix"
   ]
  },
  {
   "cell_type": "code",
   "execution_count": 49,
   "metadata": {},
   "outputs": [],
   "source": [
    "half_attractor_size = 4.2  # demi axe\n",
    "nbr_pixel = 700\n",
    "\n",
    "cube = np.zeros((nbr_pixel, nbr_pixel, nbr_pixel))  # huge in memory...\n",
    "\n",
    "#cube = dict()\n",
    "\n",
    "#print(\"%f Gbytes\" % (cube.size * cube.itemsize*1e-9))"
   ]
  },
  {
   "cell_type": "code",
   "execution_count": 51,
   "metadata": {},
   "outputs": [
    {
     "name": "stdout",
     "output_type": "stream",
     "text": [
      "...\n",
      " done\n"
     ]
    }
   ],
   "source": [
    "# accumulate pixel value on a cube\n",
    "t, dt = 0, 0.005\n",
    "\n",
    "store_Y = []\n",
    "for k in range(500):\n",
    "    dt = 0.01 + 0.001*np.random.rand()\n",
    "    t, Y = step_RK4(dt, t, Y, dYdt)\n",
    "    Y_px = ( (Y + half_attractor_size)/(2*half_attractor_size) * nbr_pixel ).astype(int) #np.rint\n",
    "    #z_scale = (Y_px[2, :]/nbr_pixel)**2  # shade function of Z\n",
    "    value = cube[Y_px[0, :], Y_px[1, :], Y_px[2, :]]\n",
    "    np.add.at(cube, (Y_px[0, :], Y_px[1, :], Y_px[2, :]), 1)#1/(1+value))\n",
    "    # see https://stackoverflow.com/a/28894452/8069403\n",
    "    \n",
    "    if k%200 == 0:\n",
    "        print('.', end='')\n",
    "        \n",
    "print('\\n done')"
   ]
  },
  {
   "cell_type": "code",
   "execution_count": 232,
   "metadata": {},
   "outputs": [],
   "source": [
    "# Sort of Z buffer\n",
    "count_threshold = 1\n",
    "nz = np.nonzero( np.max(cube, axis=2) > count_threshold )\n",
    "image = np.zeros((nbr_pixel, nbr_pixel))\n",
    "visible_voxel = []\n",
    "for i, j in zip(*nz):\n",
    "    col = cube[i, j, :]\n",
    "    idx_max = np.max(np.nonzero(col > count_threshold))\n",
    "    image[i, j] = col[idx_max]\n",
    "    visible_voxel.append((i, j, idx_max))"
   ]
  },
  {
   "cell_type": "code",
   "execution_count": 233,
   "metadata": {},
   "outputs": [],
   "source": [
    "# Save as image\n",
    "image = image / image.max()\n",
    "image[image<0.0001] = 0.3  # set background\n",
    "image = 255 * (1 - image)**2\n",
    "\n",
    "image = image.astype(np.uint8)\n",
    "\n",
    "imageio.imwrite('from_cube.png', image)"
   ]
  },
  {
   "cell_type": "markdown",
   "metadata": {},
   "source": [
    "![cube](from_cube.png)"
   ]
  },
  {
   "cell_type": "markdown",
   "metadata": {},
   "source": [
    "- Is a point on the manifold? (is it a actually a manifold?)\n",
    "    - burn steps\n",
    "    - backward integration?\n",
    "    \n",
    "- go 3d: point cloud vs connected mesh -> surface splatting (potree) \n",
    "    - https://fr.wikipedia.org/wiki/Octree\n",
    "    - marching cube render\n",
    "    - three js with lines or cylinder\n",
    "    - potree\n",
    "    \n",
    "Potree:  \n",
    "https://pdfs.semanticscholar.org/0d9d/db7335331d28a4a23e086e960396fd4e1b65.pdf  \n",
    "- approche naive -> densité de point non uniform\n",
    "- sort of monte carlo sampling on a gridded cube... \n",
    "    - one level grid: non fractal refinement\n",
    "    - multi-level grid: oct-tree\n",
    "\n",
    "    \n",
    "- memory --> use sparse cube array, but not 3D, only 2d\n",
    "- density & velocity?  what is density ?\n",
    "    - mesure de la divergence d'un point -statistique  \n",
    "    https://fr.wikipedia.org/wiki/Exposant_de_Liapounov\n",
    "    \n",
    "Calcul de la densité sur une cellule. Compter une seule fois la traversée:  \n",
    "- raster line \n",
    "\n",
    "https://www.cs.helsinki.fi/group/goa/mallinnus/lines/gsoft2.html  \n",
    "https://en.wikipedia.org/wiki/Bresenham%27s_line_algorithm\n",
    "\n",
    "... edge to edge straight integration (like LIC)\n",
    "or high order integration + interpolation (see fast LIC)\n",
    "\n",
    "https://www.youtube.com/watch?v=7OVrivKN2nQ  \n",
    "https://web.ics.purdue.edu/~huberm/sun+huber.pdf\n",
    "\n",
    "We present a novel technique called streamline splatting to visualize 3D vector fields interactively. This technique integrates streamline generation with the splatting method of volume rendering. The key idea is to create volumetric streamlines using geometric streamlines and a kernel footprint function. \n",
    "https://www.spiedigitallibrary.org/conference-proceedings-of-spie/6060/60600Z/Visualizing-3D-vector-fields-with-splatted-streamlines/10.1117/12.643603.short?SSO=1\n",
    "\n",
    "\n",
    "http://www.bourbaphy.fr/ghys.pdf\n",
    "\n",
    "\n",
    "https://link.springer.com/article/10.1007/s002110050240\n",
    "\n",
    "https://www.math.auckland.ac.nz/~hinke/preprints/review_preprint.pdf\n",
    "\n",
    "https://pdfs.semanticscholar.org/7c9e/134c3d45fb90824b23d54035bc91ce9d1676.pdf  \n",
    "\n",
    "https://shaddenlab.berkeley.edu/uploads/LCS-tutorial/motivation.html"
   ]
  },
  {
   "cell_type": "code",
   "execution_count": 151,
   "metadata": {},
   "outputs": [
    {
     "data": {
      "text/plain": [
       "177943"
      ]
     },
     "execution_count": 151,
     "metadata": {},
     "output_type": "execute_result"
    }
   ],
   "source": [
    "len(visible_voxel)"
   ]
  },
  {
   "cell_type": "code",
   "execution_count": 156,
   "metadata": {},
   "outputs": [],
   "source": [
    "divergence_map = np.zeros((nbr_pixel, nbr_pixel))\n",
    "for i, j, z in visible_voxel:\n",
    "    initial_std = 0.1\n",
    "    n_points = 20\n",
    "    dt = 0.1\n",
    "    xyz = (np.array([i, j, z])/nbr_pixel - 0.5)*half_attractor_size*2\n",
    "    Y = np.random.randn(3, n_points)*initial_std + xyz[:, np.newaxis]\n",
    "    for _ in range(15):\n",
    "        t, Y = step_RK4(dt, t, Y, dYdt)\n",
    "     \n",
    "    final_std = np.std(Y, axis=1).mean()\n",
    "    divergence_map[i, j] = np.log(final_std/initial_std)\n",
    "    "
   ]
  },
  {
   "cell_type": "code",
   "execution_count": 157,
   "metadata": {},
   "outputs": [],
   "source": [
    "# Save as image\n",
    "image = np.copy(divergence_map)\n",
    "image = image / image.max()\n",
    "image[image<0.0001] = 0.3  # set background\n",
    "image = 255 * (1 - image)\n",
    "\n",
    "image = image.astype(np.uint8)\n",
    "\n",
    "imageio.imwrite('divergence_log.png', image)"
   ]
  },
  {
   "cell_type": "markdown",
   "metadata": {},
   "source": [
    "### Animation without matplotlib"
   ]
  },
  {
   "cell_type": "code",
   "execution_count": 251,
   "metadata": {},
   "outputs": [],
   "source": [
    "b = 0.19\n",
    "n_points = 1500\n",
    "\n",
    "Y = np.random.rand(3, n_points)*12 - 6 \n",
    "\n",
    "t, dt = 0, 0.01\n",
    "\n",
    "def dYdt(t, Y):\n",
    "    return thomas_attractor(Y, b=b)\n",
    "\n",
    "# burn\n",
    "for _ in range(5000):\n",
    "    t, Y = step_RK4(dt, t, Y, dYdt)"
   ]
  },
  {
   "cell_type": "code",
   "execution_count": 252,
   "metadata": {},
   "outputs": [],
   "source": [
    "half_attractor_size = 4.2  # demi axe\n",
    "nbr_pixel = 650\n",
    "\n",
    "image = np.zeros((nbr_pixel, nbr_pixel))"
   ]
  },
  {
   "cell_type": "code",
   "execution_count": 253,
   "metadata": {},
   "outputs": [
    {
     "name": "stdout",
     "output_type": "stream",
     "text": [
      "0 1 2 3 4 5 6 7 8 9 10 11 12 13 14 15 16 17 18 19 20 21 22 23 24 25 26 27 28 29 30 31 32 33 34 35 36 37 38 39 40 41 42 43 44 45 46 47 48 49 50 51 52 53 54 55 56 57 58 59 60 61 62 63 64 65 66 67 68 69 70 71 72 73 74 75 76 77 78 79 80 81 82 83 84 85 86 87 88 89 90 91 92 93 94 95 96 97 98 99 100 101 102 103 104 105 106 107 108 109 110 111 112 113 114 115 116 117 118 119 120 121 122 123 124 125 126 127 128 129 130 131 132 133 134 135 136 137 138 139 140 141 142 143 144 145 146 147 148 149 "
     ]
    }
   ],
   "source": [
    "n_fig = 150\n",
    "\n",
    "for k in range(n_fig):\n",
    "    image = np.zeros((nbr_pixel, nbr_pixel))\n",
    "    for i in range(100):\n",
    "        t, Y = step_RK4(dt, t, Y, dYdt)\n",
    "        \n",
    "        Y_px = np.rint( (Y + half_attractor_size)/(2*half_attractor_size) * nbr_pixel ).astype(int)\n",
    "        #np.add.at(image, (Y_px[0, :], Y_px[1, :]), z_scale)\n",
    "        z_scale = 0.6*(Y_px[2, :]/nbr_pixel)**2 + 0.4 # shade function of Z\n",
    "        image[Y_px[0, :], Y_px[1, :]] = z_scale\n",
    "\n",
    "        # starting point for the next frame\n",
    "        if i == 25:\n",
    "            Y_next = np.copy(Y)\n",
    "    \n",
    "    Y = Y_next\n",
    "    \n",
    "    image = image / image.max()\n",
    "    image = 255 * (1 - image)\n",
    "    image = image.astype(np.uint8)\n",
    "\n",
    "    imageio.imwrite(f'anim/image_{k:04d}.png', image)\n",
    "    print(k, end=' ')"
   ]
  },
  {
   "cell_type": "markdown",
   "metadata": {},
   "source": [
    "ImageMagick \n",
    "    \n",
    "    convert -delay 10   -loop 0   image_*.png  animated_attractor.gif\n"
   ]
  },
  {
   "cell_type": "code",
   "execution_count": null,
   "metadata": {},
   "outputs": [],
   "source": []
  }
 ],
 "metadata": {
  "kernelspec": {
   "display_name": "py3-global",
   "language": "python",
   "name": "py3"
  },
  "language_info": {
   "codemirror_mode": {
    "name": "ipython",
    "version": 3
   },
   "file_extension": ".py",
   "mimetype": "text/x-python",
   "name": "python",
   "nbconvert_exporter": "python",
   "pygments_lexer": "ipython3",
   "version": "3.5.2"
  }
 },
 "nbformat": 4,
 "nbformat_minor": 2
}
