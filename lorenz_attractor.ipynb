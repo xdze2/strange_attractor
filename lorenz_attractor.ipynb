{
 "cells": [
  {
   "cell_type": "code",
   "execution_count": 2,
   "metadata": {},
   "outputs": [],
   "source": [
    "import numpy as np\n",
    "import open3d as o3d"
   ]
  },
  {
   "cell_type": "code",
   "execution_count": 162,
   "metadata": {},
   "outputs": [],
   "source": [
    "def step_RK4(dt, t, Y, dYdt):\n",
    "    ''' Runge Kutta 4th order integrator\n",
    "        \n",
    "        Y:  nd array of shape (number of dim, numbers of points)\n",
    "    '''\n",
    "   \n",
    "    t_plus_dt = t + dt\n",
    "    k1 = dYdt(t, Y)\n",
    "    k2 = dYdt(t_plus_dt, Y + dt/2*k1)\n",
    "    k3 = dYdt(t_plus_dt, Y + dt/2*k2)\n",
    "    k4 = dYdt(t_plus_dt, Y + dt*k3)\n",
    "\n",
    "    Ynext = Y + dt/6*(k1 + 2*k2 + 2*k3 + k4)\n",
    "    \n",
    "    return t_plus_dt, Ynext"
   ]
  },
  {
   "cell_type": "code",
   "execution_count": 163,
   "metadata": {},
   "outputs": [],
   "source": [
    "sigma = 10\n",
    "beta = 8/3\n",
    "rho = 28\n",
    "\n",
    "def lorenz_attractor(t, xyz):\n",
    "    # xyz shape (dim, nbr points)\n",
    "    x, y, z = xyz\n",
    "    dxdt = sigma*(y - x)\n",
    "    dydt = rho*x - y - x*z\n",
    "    dzdt = x*y - beta*z\n",
    "    return np.vstack([dxdt, dydt, dzdt])\n",
    "\n",
    "\n",
    "\n",
    "def liu_chen_attractor(t, xyz):\n",
    "    x, y, z = xyz\n",
    "    dxdt =  .4*x - y*z\n",
    "    dydt = -12*y + x*z\n",
    "    dzdt =  -5*z + x*y\n",
    "    return np.vstack([dxdt, dydt, dzdt])"
   ]
  },
  {
   "cell_type": "code",
   "execution_count": 164,
   "metadata": {},
   "outputs": [],
   "source": [
    "n_points = 100\n",
    "\n",
    "Y = np.random.randn(3, n_points)*30\n",
    "\n",
    "t, dt = 0, .005\n",
    "\n",
    "attractor = lorenz_attractor\n",
    "# burn - to reach stable orbits\n",
    "for _ in range(2000):\n",
    "    t, Y = step_RK4(dt, t, Y, attractor)\n",
    "    \n",
    "# iterations:\n",
    "store_Y = []\n",
    "for k in range(1400):\n",
    "    t, Y = step_RK4(dt, t, Y, attractor)\n",
    "    store_Y.append(Y)\n",
    "    \n",
    "store_Y = np.array(store_Y)"
   ]
  },
  {
   "cell_type": "code",
   "execution_count": 165,
   "metadata": {},
   "outputs": [
    {
     "data": {
      "text/plain": [
       "(1400, 3, 100)"
      ]
     },
     "execution_count": 165,
     "metadata": {},
     "output_type": "execute_result"
    }
   ],
   "source": [
    "store_Y.shape"
   ]
  },
  {
   "cell_type": "code",
   "execution_count": 160,
   "metadata": {},
   "outputs": [],
   "source": [
    "nbr_points = store_Y.shape[0]\n",
    "lines = [[i-1, i] for i in range(1, nbr_points)]\n",
    "\n",
    "mutliple_lines = []\n",
    "for i in range(store_Y.shape[2]):\n",
    "    mutliple_lines.append(o3d.geometry.LineSet())\n",
    "    mutliple_lines[-1].points = o3d.utility.Vector3dVector(store_Y[:, :, i])\n",
    "    mutliple_lines[-1].lines = o3d.utility.Vector2iVector(lines)"
   ]
  },
  {
   "cell_type": "code",
   "execution_count": 166,
   "metadata": {},
   "outputs": [],
   "source": [
    "o3d.visualization.draw_geometries(mutliple_lines, width=1000, height=800)"
   ]
  },
  {
   "cell_type": "code",
   "execution_count": 149,
   "metadata": {},
   "outputs": [
    {
     "name": "stdout",
     "output_type": "stream",
     "text": [
      "[14.94461391 18.42433564 40.70771847]\n",
      "[-15.26328199 -21.07728797   8.60400993]\n"
     ]
    }
   ],
   "source": [
    "print(Y.max(axis=1))\n",
    "print(Y.min(axis=1))\n",
    "#[14.94461391 18.42433564 40.70771847]\n",
    "#[-15.26328199 -21.07728797   8.60400993]"
   ]
  },
  {
   "cell_type": "markdown",
   "metadata": {},
   "source": [
    "# Liu chen"
   ]
  },
  {
   "cell_type": "code",
   "execution_count": 120,
   "metadata": {},
   "outputs": [],
   "source": [
    "n_points = 30\n",
    "\n",
    "Y = np.random.randn(3, n_points)\n",
    "\n",
    "t, dt = 0, .01\n",
    "\n",
    "attractor = liu_chen_attractor\n",
    "# burn - to reach stable orbits\n",
    "for _ in range(4000):\n",
    "    t, Y = step_RK4(dt, t, Y, attractor)\n",
    "    \n",
    "# iterations:\n",
    "store_Y = []\n",
    "for k in range(2000):\n",
    "    t, Y = step_RK4(dt, t, Y, attractor)\n",
    "    store_Y.append(Y)\n",
    "    \n",
    "store_Y = np.array(store_Y)"
   ]
  },
  {
   "cell_type": "code",
   "execution_count": 121,
   "metadata": {},
   "outputs": [
    {
     "data": {
      "text/plain": [
       "(2000, 3, 30)"
      ]
     },
     "execution_count": 121,
     "metadata": {},
     "output_type": "execute_result"
    }
   ],
   "source": [
    "store_Y.shape"
   ]
  },
  {
   "cell_type": "code",
   "execution_count": 122,
   "metadata": {},
   "outputs": [],
   "source": [
    "nbr_points = store_Y.shape[0]\n",
    "lines = [[i-1, i] for i in range(1, nbr_points)]\n",
    "\n",
    "mutliple_lines = []\n",
    "for i in range(store_Y.shape[2]):\n",
    "    mutliple_lines.append(o3d.geometry.LineSet())\n",
    "    mutliple_lines[-1].points = o3d.utility.Vector3dVector(store_Y[:, :, i])\n",
    "    mutliple_lines[-1].lines = o3d.utility.Vector2iVector(lines)"
   ]
  },
  {
   "cell_type": "code",
   "execution_count": 123,
   "metadata": {},
   "outputs": [],
   "source": [
    "o3d.visualization.draw_geometries(mutliple_lines, width=1000, height=800)"
   ]
  },
  {
   "cell_type": "code",
   "execution_count": null,
   "metadata": {},
   "outputs": [],
   "source": []
  }
 ],
 "metadata": {
  "kernelspec": {
   "display_name": "py3 venv",
   "language": "python",
   "name": "py3"
  },
  "language_info": {
   "codemirror_mode": {
    "name": "ipython",
    "version": 3
   },
   "file_extension": ".py",
   "mimetype": "text/x-python",
   "name": "python",
   "nbconvert_exporter": "python",
   "pygments_lexer": "ipython3",
   "version": "3.6.8"
  }
 },
 "nbformat": 4,
 "nbformat_minor": 2
}
