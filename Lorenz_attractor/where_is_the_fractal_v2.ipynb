{
 "cells": [
  {
   "cell_type": "markdown",
   "metadata": {},
   "source": [
    "# Where is the fractal?  v2\n",
    "- Lorenz attractor in Julia\n",
    "- no average"
   ]
  },
  {
   "cell_type": "code",
   "execution_count": null,
   "metadata": {},
   "outputs": [],
   "source": []
  },
  {
   "cell_type": "code",
   "execution_count": 1,
   "metadata": {},
   "outputs": [],
   "source": [
    "using BenchmarkTools\n",
    "#using Plots"
   ]
  },
  {
   "cell_type": "code",
   "execution_count": 2,
   "metadata": {},
   "outputs": [
    {
     "name": "stderr",
     "output_type": "stream",
     "text": [
      "┌ Info: Recompiling stale cache file /home/etiennenavarro/.julia/compiled/v1.0/DifferentialEquations/UQdwS.ji for DifferentialEquations [0c46a032-eb83-5123-abaf-570d42b7fbaa]\n",
      "└ @ Base loading.jl:1190\n"
     ]
    }
   ],
   "source": [
    "using DifferentialEquations"
   ]
  },
  {
   "cell_type": "code",
   "execution_count": 6,
   "metadata": {},
   "outputs": [
    {
     "data": {
      "text/plain": [
       "negative_side (generic function with 1 method)"
      ]
     },
     "execution_count": 6,
     "metadata": {},
     "output_type": "execute_result"
    }
   ],
   "source": [
    "# Parameters\n",
    "sigma = 10.0\n",
    "rho = 28.0\n",
    "beta = 8/3.;\n",
    "\n",
    "# Fixed points\n",
    "p1 = [-sqrt(beta*(rho-1)), -sqrt(beta*(rho-1)), rho-1];\n",
    "p2 = [+sqrt(beta*(rho-1)), +sqrt(beta*(rho-1)), rho-1];\n",
    "\n",
    "p12 = p2 .- p1\n",
    "p12_norm = sqrt(sum(p12.^2))\n",
    "p12 = p12./p12_norm;\n",
    "\n",
    "function positive_side(u)\n",
    "    a = u .- p2\n",
    "    return  sum(a .* p12) > 0\n",
    "end\n",
    "function negative_side(u)\n",
    "    a = u .- p1\n",
    "    return  -sum(a .* p12) > 0\n",
    "end"
   ]
  },
  {
   "cell_type": "code",
   "execution_count": 8,
   "metadata": {},
   "outputs": [
    {
     "name": "stdout",
     "output_type": "stream",
     "text": [
      "true\n",
      "false\n",
      "false\n",
      "false\n",
      "true\n",
      "false\n"
     ]
    }
   ],
   "source": [
    "# test \n",
    "println( positive_side([50., 50.0, 50.0]) )\n",
    "println( positive_side([-50., -50.0, 0.0]) )\n",
    "println( positive_side([0., 0.0, 0.0]) )\n",
    "println( negative_side([50., 50.0, 50.0]) )\n",
    "println( negative_side([-50., -50.0, 0.0]) )\n",
    "println( negative_side([0., 0.0, 0.0]) )"
   ]
  },
  {
   "cell_type": "code",
   "execution_count": 9,
   "metadata": {},
   "outputs": [
    {
     "data": {
      "text/plain": [
       "lorenz! (generic function with 1 method)"
      ]
     },
     "execution_count": 9,
     "metadata": {},
     "output_type": "execute_result"
    }
   ],
   "source": [
    "function lorenz!(du, u, p, t)\n",
    "    du[1] = sigma*(u[2]-u[1])\n",
    "    du[2] = u[1]*(rho-u[3]) - u[2]\n",
    "    du[3] = u[1]*u[2] - beta*u[3]\n",
    "end"
   ]
  },
  {
   "cell_type": "code",
   "execution_count": 10,
   "metadata": {},
   "outputs": [
    {
     "data": {
      "text/plain": [
       "lorenz_colored! (generic function with 1 method)"
      ]
     },
     "execution_count": 10,
     "metadata": {},
     "output_type": "execute_result"
    }
   ],
   "source": [
    "function lorenz_colored!(du, u, p, t)\n",
    "    du[1] = sigma*(u[2]-u[1])\n",
    "    du[2] = u[1]*(rho-u[3]) - u[2]\n",
    "    du[3] = u[1]*u[2] - beta*u[3]\n",
    "    du[1:3] = du[1:3] ./ sqrt(sum(du[1:3].^2))  # norm\n",
    "    \n",
    "    if positive_side(u[1:3])\n",
    "        kA = .1\n",
    "        kB = .0\n",
    "    elseif negative_side(u[1:3])\n",
    "        kA = .0\n",
    "        kB = .1\n",
    "    else\n",
    "        kA = .0\n",
    "        kB = .0\n",
    "    end\n",
    "    du[4] = -u[4]*kA + kB*(1-u[4])\n",
    "end"
   ]
  },
  {
   "cell_type": "code",
   "execution_count": 67,
   "metadata": {},
   "outputs": [
    {
     "data": {
      "text/plain": [
       "0.01125"
      ]
     },
     "execution_count": 67,
     "metadata": {},
     "output_type": "execute_result"
    }
   ],
   "source": [
    "# Cube size\n",
    "xy_half_size = 25\n",
    "z_size = 45\n",
    "voxel_size = z_size/2000.0;\n",
    "dt = .5*voxel_size"
   ]
  },
  {
   "cell_type": "code",
   "execution_count": 68,
   "metadata": {},
   "outputs": [
    {
     "data": {
      "text/plain": [
       "110"
      ]
     },
     "execution_count": 68,
     "metadata": {},
     "output_type": "execute_result"
    }
   ],
   "source": [
    "# Convert x coordinate to one integer\n",
    "to_index(x, left, right, n) = trunc(Int16, (x - left)/(right - left)*n)\n",
    "\n",
    "# test\n",
    "to_index(12, -10, 10, 100)"
   ]
  },
  {
   "cell_type": "code",
   "execution_count": 69,
   "metadata": {},
   "outputs": [
    {
     "data": {
      "text/plain": [
       "(1329, 1128, 275)"
      ]
     },
     "execution_count": 69,
     "metadata": {},
     "output_type": "execute_result"
    }
   ],
   "source": [
    "# Same for the 3 coordinates\n",
    "n_xy = trunc(Int16, 2*xy_half_size/voxel_size)\n",
    "n_z = trunc(Int16, z_size/voxel_size)\n",
    "\n",
    "function to_ijk(xyz)\n",
    "    x, y, z = xyz   \n",
    "    i = to_index(x, -xy_half_size, +xy_half_size, n_xy)\n",
    "    j = to_index(y, -xy_half_size, +xy_half_size, n_xy)\n",
    "    k = to_index(z, 0, +z_size, n_z)\n",
    "   return  i, j, k\n",
    "end\n",
    "\n",
    "# test\n",
    "to_ijk(rand(3).*10)"
   ]
  },
  {
   "cell_type": "code",
   "execution_count": 51,
   "metadata": {},
   "outputs": [
    {
     "name": "stdout",
     "output_type": "stream",
     "text": [
      "  507.297 ns (7 allocations: 280 bytes)\n"
     ]
    },
    {
     "data": {
      "text/plain": [
       "(447, 608, 69)"
      ]
     },
     "execution_count": 51,
     "metadata": {},
     "output_type": "execute_result"
    }
   ],
   "source": [
    "@btime to_ijk(rand(3).*10)\n",
    "#   760.805 ns (12 allocations: 332 bytes)\n",
    "#   670.129 ns (10 allocations: 312 bytes)\n",
    "#   500.304 ns (6 allocations: 272 bytes)\n",
    "#   496.554 ns (6 allocations: 272 bytes)\n",
    "#   507.297 ns (7 allocations: 280 bytes) --> Int16"
   ]
  },
  {
   "cell_type": "code",
   "execution_count": 70,
   "metadata": {},
   "outputs": [
    {
     "data": {
      "text/plain": [
       "burn (generic function with 1 method)"
      ]
     },
     "execution_count": 70,
     "metadata": {},
     "output_type": "execute_result"
    }
   ],
   "source": [
    "# To the attractor\n",
    "function burn()\n",
    "    u0 = (rand(Float64, 3) .- [0.5, 0.5, 0]).*[2*xy_half_size, 2*xy_half_size, z_size]\n",
    "    tspan = (0.0, 100.0)\n",
    "    prob = ODEProblem(lorenz!, u0, tspan)\n",
    "    tol = 1e-3\n",
    "    sol = solve(prob, Tsit5(), reltol=tol, abstol=tol,\n",
    "                save_everystep=false);\n",
    "    return sol[end]\n",
    "end"
   ]
  },
  {
   "cell_type": "code",
   "execution_count": 15,
   "metadata": {},
   "outputs": [
    {
     "name": "stdout",
     "output_type": "stream",
     "text": [
      "  2.088 ms (81153 allocations: 964.95 KiB)\n"
     ]
    },
    {
     "data": {
      "text/plain": [
       "3-element Array{Float64,1}:\n",
       " -3.605500565109067\n",
       " -6.030688026365427\n",
       " 13.632100463363805"
      ]
     },
     "execution_count": 15,
     "metadata": {},
     "output_type": "execute_result"
    }
   ],
   "source": [
    "@btime burn()\n",
    "#   2.088 ms (81153 allocations: 964.95 KiB)   dell"
   ]
  },
  {
   "cell_type": "code",
   "execution_count": 71,
   "metadata": {},
   "outputs": [],
   "source": [
    "# test\n",
    "u0 = [burn()..., .5]\n",
    "\n",
    "tspan = (0.0, 100.0)\n",
    "prob = ODEProblem(lorenz_colored!, u0, tspan)\n",
    "\n",
    "tol = 1e-6\n",
    "sol = solve(prob, Tsit5(), #callback=cb,\n",
    "            reltol=tol, abstol=tol, saveat=dt);"
   ]
  },
  {
   "cell_type": "code",
   "execution_count": 72,
   "metadata": {},
   "outputs": [
    {
     "data": {
      "text/plain": [
       "populate! (generic function with 1 method)"
      ]
     },
     "execution_count": 72,
     "metadata": {},
     "output_type": "execute_result"
    }
   ],
   "source": [
    "# Run the solver and fill the cube\n",
    "function populate!(cube)\n",
    "\n",
    "    u0 = [burn()..., .5]\n",
    "\n",
    "    tspan = (0.0, 200.0)\n",
    "    prob = ODEProblem(lorenz_colored!, u0, tspan)\n",
    "\n",
    "    tol = 1e-7\n",
    "    sol = solve(prob, Tsit5(), #callback=cb,\n",
    "                reltol=tol, abstol=tol, saveat=dt);\n",
    "\n",
    "    #saved_event_idx\n",
    "    #println(\"sol size: \", size(sol.u))\n",
    "\n",
    "    for xyzc in sol.u\n",
    "        ijk = to_ijk(xyzc[1:3])\n",
    "        cube[ijk] = get(cube, ijk, (0, 0.0)) .+ (1, xyzc[4])\n",
    "    end\n",
    "    \n",
    "end"
   ]
  },
  {
   "cell_type": "code",
   "execution_count": 73,
   "metadata": {},
   "outputs": [
    {
     "name": "stdout",
     "output_type": "stream",
     "text": [
      "  37.724 ms (442872 allocations: 11.31 MiB)\n"
     ]
    }
   ],
   "source": [
    "@btime populate!(cube)"
   ]
  },
  {
   "cell_type": "code",
   "execution_count": 74,
   "metadata": {},
   "outputs": [
    {
     "data": {
      "text/plain": [
       "Dict{Tuple{Int16,Int16,Int16},Tuple{Int64,Float64}} with 0 entries"
      ]
     },
     "execution_count": 74,
     "metadata": {},
     "output_type": "execute_result"
    }
   ],
   "source": [
    "# Init the cube\n",
    "cube = Dict{Tuple{Int16, Int16, Int16}, Tuple{Int64, Float64}}()"
   ]
  },
  {
   "cell_type": "code",
   "execution_count": 82,
   "metadata": {},
   "outputs": [
    {
     "name": "stdout",
     "output_type": "stream",
     "text": [
      "cube size:  8205687\t k: 5000\n",
      " min, max= (1, 192)\n",
      "c min, max= (2.919456563925344e-6, 179.3257266923889)\n"
     ]
    }
   ],
   "source": [
    "for k in 1:5000\n",
    "    populate!(cube)\n",
    "    print(\"\\rcube size:  \", length(cube), \"\\t k: \", k)\n",
    "end\n",
    "println(\"\\n min, max= \", extrema([ x[1] for x in values(cube)]))\n",
    "println(\"c min, max= \", extrema([ x[2] for x in values(cube)]))"
   ]
  },
  {
   "cell_type": "code",
   "execution_count": 83,
   "metadata": {},
   "outputs": [
    {
     "data": {
      "text/latex": [
       "\\begin{tabular}\n",
       "{l | r | l}\n",
       "name & size & summary \\\\\n",
       "\\hline\n",
       "cube & 368.000 MiB & Dict\\{Tuple\\{Int16,Int16,Int16\\},Tuple\\{Int64,Float64\\}\\} with 8205687 entries \\\\\n",
       "\\end{tabular}\n"
      ],
      "text/markdown": [
       "| name |        size | summary                                                                  |\n",
       "|:---- | -----------:|:------------------------------------------------------------------------ |\n",
       "| cube | 368.000 MiB | Dict{Tuple{Int16,Int16,Int16},Tuple{Int64,Float64}} with 8205687 entries |\n"
      ],
      "text/plain": [
       "name        size summary                                                                 \n",
       "–––– ––––––––––– ––––––––––––––––––––––––––––––––––––––––––––––––––––––––––––––––––––––––\n",
       "cube 368.000 MiB Dict{Tuple{Int16,Int16,Int16},Tuple{Int64,Float64}} with 8205687 entries"
      ]
     },
     "execution_count": 83,
     "metadata": {},
     "output_type": "execute_result"
    }
   ],
   "source": [
    "varinfo(r\"cube\")"
   ]
  },
  {
   "cell_type": "markdown",
   "metadata": {},
   "source": [
    "http://juliagraphics.github.io/ColorSchemes.jl/stable/"
   ]
  },
  {
   "cell_type": "code",
   "execution_count": 85,
   "metadata": {},
   "outputs": [
    {
     "name": "stdout",
     "output_type": "stream",
     "text": [
      "\u001b[32m\u001b[1m  Updating\u001b[22m\u001b[39m registry at `~/.julia/registries/General`\n",
      "\u001b[32m\u001b[1m  Updating\u001b[22m\u001b[39m git-repo `https://github.com/JuliaRegistries/General.git`\n",
      "\u001b[2K\u001b[?25h\u001b[32m\u001b[1m Resolving\u001b[22m\u001b[39m package versions...\n",
      "\u001b[32m\u001b[1m Installed\u001b[22m\u001b[39m DiffEqBase ─── v6.3.6\n",
      "\u001b[32m\u001b[1m Installed\u001b[22m\u001b[39m ColorSchemes ─ v3.4.0\n",
      "\u001b[32m\u001b[1m  Updating\u001b[22m\u001b[39m `~/.julia/environments/v1.0/Project.toml`\n",
      " \u001b[90m [35d6a980]\u001b[39m\u001b[92m + ColorSchemes v3.4.0\u001b[39m\n",
      "\u001b[32m\u001b[1m  Updating\u001b[22m\u001b[39m `~/.julia/environments/v1.0/Manifest.toml`\n",
      " \u001b[90m [35d6a980]\u001b[39m\u001b[92m + ColorSchemes v3.4.0\u001b[39m\n",
      " \u001b[90m [2b5f629d]\u001b[39m\u001b[93m ↑ DiffEqBase v6.3.5 ⇒ v6.3.6\u001b[39m\n"
     ]
    }
   ],
   "source": [
    "import Pkg; Pkg.add(\"ColorSchemes\")"
   ]
  },
  {
   "cell_type": "code",
   "execution_count": 86,
   "metadata": {},
   "outputs": [
    {
     "name": "stderr",
     "output_type": "stream",
     "text": [
      "┌ Info: Precompiling ColorSchemes [35d6a980-a343-548e-a6ea-1d62b119f2f4]\n",
      "└ @ Base loading.jl:1192\n"
     ]
    }
   ],
   "source": [
    "using ColorSchemes"
   ]
  },
  {
   "cell_type": "code",
   "execution_count": 87,
   "metadata": {},
   "outputs": [
    {
     "data": {
      "image/svg+xml": [
       "<?xml version=\"1.0\" encoding=\"UTF-8\"?>\n",
       "<!DOCTYPE svg PUBLIC \"-//W3C//DTD SVG 1.1//EN\"\n",
       " \"http://www.w3.org/Graphics/SVG/1.1/DTD/svg11.dtd\">\n",
       "<svg xmlns=\"http://www.w3.org/2000/svg\" version=\"1.1\"\n",
       "     width=\"180.0mm\" height=\"25.0mm\"\n",
       "     shape-rendering=\"crispEdges\">\n",
       "<rect x=\"0.0mm\" y=\"0.0mm\"\n",
       "      width=\"0.703125mm\" height=\"24.0mm\"\n",
       "      fill=\"#0D0887\" stroke=\"none\" />\n",
       "<rect x=\"0.703125mm\" y=\"0.0mm\"\n",
       "      width=\"0.703125mm\" height=\"24.0mm\"\n",
       "      fill=\"#100788\" stroke=\"none\" />\n",
       "<rect x=\"1.40625mm\" y=\"0.0mm\"\n",
       "      width=\"0.703125mm\" height=\"24.0mm\"\n",
       "      fill=\"#130789\" stroke=\"none\" />\n",
       "<rect x=\"2.109375mm\" y=\"0.0mm\"\n",
       "      width=\"0.703125mm\" height=\"24.0mm\"\n",
       "      fill=\"#16078A\" stroke=\"none\" />\n",
       "<rect x=\"2.8125mm\" y=\"0.0mm\"\n",
       "      width=\"0.703125mm\" height=\"24.0mm\"\n",
       "      fill=\"#19068C\" stroke=\"none\" />\n",
       "<rect x=\"3.515625mm\" y=\"0.0mm\"\n",
       "      width=\"0.703125mm\" height=\"24.0mm\"\n",
       "      fill=\"#1B068D\" stroke=\"none\" />\n",
       "<rect x=\"4.21875mm\" y=\"0.0mm\"\n",
       "      width=\"0.703125mm\" height=\"24.0mm\"\n",
       "      fill=\"#1D068E\" stroke=\"none\" />\n",
       "<rect x=\"4.921875mm\" y=\"0.0mm\"\n",
       "      width=\"0.703125mm\" height=\"24.0mm\"\n",
       "      fill=\"#20068F\" stroke=\"none\" />\n",
       "<rect x=\"5.625mm\" y=\"0.0mm\"\n",
       "      width=\"0.703125mm\" height=\"24.0mm\"\n",
       "      fill=\"#220690\" stroke=\"none\" />\n",
       "<rect x=\"6.328125mm\" y=\"0.0mm\"\n",
       "      width=\"0.703125mm\" height=\"24.0mm\"\n",
       "      fill=\"#240691\" stroke=\"none\" />\n",
       "<rect x=\"7.03125mm\" y=\"0.0mm\"\n",
       "      width=\"0.703125mm\" height=\"24.0mm\"\n",
       "      fill=\"#260591\" stroke=\"none\" />\n",
       "<rect x=\"7.734375mm\" y=\"0.0mm\"\n",
       "      width=\"0.703125mm\" height=\"24.0mm\"\n",
       "      fill=\"#280592\" stroke=\"none\" />\n",
       "<rect x=\"8.4375mm\" y=\"0.0mm\"\n",
       "      width=\"0.703125mm\" height=\"24.0mm\"\n",
       "      fill=\"#2A0593\" stroke=\"none\" />\n",
       "<rect x=\"9.140625mm\" y=\"0.0mm\"\n",
       "      width=\"0.703125mm\" height=\"24.0mm\"\n",
       "      fill=\"#2C0594\" stroke=\"none\" />\n",
       "<rect x=\"9.84375mm\" y=\"0.0mm\"\n",
       "      width=\"0.703125mm\" height=\"24.0mm\"\n",
       "      fill=\"#2E0595\" stroke=\"none\" />\n",
       "<rect x=\"10.546875mm\" y=\"0.0mm\"\n",
       "      width=\"0.703125mm\" height=\"24.0mm\"\n",
       "      fill=\"#2F0596\" stroke=\"none\" />\n",
       "<rect x=\"11.25mm\" y=\"0.0mm\"\n",
       "      width=\"0.703125mm\" height=\"24.0mm\"\n",
       "      fill=\"#310597\" stroke=\"none\" />\n",
       "<rect x=\"11.953125mm\" y=\"0.0mm\"\n",
       "      width=\"0.703125mm\" height=\"24.0mm\"\n",
       "      fill=\"#330597\" stroke=\"none\" />\n",
       "<rect x=\"12.65625mm\" y=\"0.0mm\"\n",
       "      width=\"0.703125mm\" height=\"24.0mm\"\n",
       "      fill=\"#350498\" stroke=\"none\" />\n",
       "<rect x=\"13.359375mm\" y=\"0.0mm\"\n",
       "      width=\"0.703125mm\" height=\"24.0mm\"\n",
       "      fill=\"#370499\" stroke=\"none\" />\n",
       "<rect x=\"14.0625mm\" y=\"0.0mm\"\n",
       "      width=\"0.703125mm\" height=\"24.0mm\"\n",
       "      fill=\"#38049A\" stroke=\"none\" />\n",
       "<rect x=\"14.765625mm\" y=\"0.0mm\"\n",
       "      width=\"0.703125mm\" height=\"24.0mm\"\n",
       "      fill=\"#3A049A\" stroke=\"none\" />\n",
       "<rect x=\"15.46875mm\" y=\"0.0mm\"\n",
       "      width=\"0.703125mm\" height=\"24.0mm\"\n",
       "      fill=\"#3C049B\" stroke=\"none\" />\n",
       "<rect x=\"16.171875mm\" y=\"0.0mm\"\n",
       "      width=\"0.703125mm\" height=\"24.0mm\"\n",
       "      fill=\"#3E049C\" stroke=\"none\" />\n",
       "<rect x=\"16.875mm\" y=\"0.0mm\"\n",
       "      width=\"0.703125mm\" height=\"24.0mm\"\n",
       "      fill=\"#3F049C\" stroke=\"none\" />\n",
       "<rect x=\"17.578125mm\" y=\"0.0mm\"\n",
       "      width=\"0.703125mm\" height=\"24.0mm\"\n",
       "      fill=\"#41049D\" stroke=\"none\" />\n",
       "<rect x=\"18.28125mm\" y=\"0.0mm\"\n",
       "      width=\"0.703125mm\" height=\"24.0mm\"\n",
       "      fill=\"#43039E\" stroke=\"none\" />\n",
       "<rect x=\"18.984375mm\" y=\"0.0mm\"\n",
       "      width=\"0.703125mm\" height=\"24.0mm\"\n",
       "      fill=\"#44039E\" stroke=\"none\" />\n",
       "<rect x=\"19.6875mm\" y=\"0.0mm\"\n",
       "      width=\"0.703125mm\" height=\"24.0mm\"\n",
       "      fill=\"#46039F\" stroke=\"none\" />\n",
       "<rect x=\"20.390625mm\" y=\"0.0mm\"\n",
       "      width=\"0.703125mm\" height=\"24.0mm\"\n",
       "      fill=\"#48039F\" stroke=\"none\" />\n",
       "<rect x=\"21.09375mm\" y=\"0.0mm\"\n",
       "      width=\"0.703125mm\" height=\"24.0mm\"\n",
       "      fill=\"#4903A0\" stroke=\"none\" />\n",
       "<rect x=\"21.796875mm\" y=\"0.0mm\"\n",
       "      width=\"0.703125mm\" height=\"24.0mm\"\n",
       "      fill=\"#4B03A1\" stroke=\"none\" />\n",
       "<rect x=\"22.5mm\" y=\"0.0mm\"\n",
       "      width=\"0.703125mm\" height=\"24.0mm\"\n",
       "      fill=\"#4C02A1\" stroke=\"none\" />\n",
       "<rect x=\"23.203125mm\" y=\"0.0mm\"\n",
       "      width=\"0.703125mm\" height=\"24.0mm\"\n",
       "      fill=\"#4E02A2\" stroke=\"none\" />\n",
       "<rect x=\"23.90625mm\" y=\"0.0mm\"\n",
       "      width=\"0.703125mm\" height=\"24.0mm\"\n",
       "      fill=\"#5002A2\" stroke=\"none\" />\n",
       "<rect x=\"24.609375mm\" y=\"0.0mm\"\n",
       "      width=\"0.703125mm\" height=\"24.0mm\"\n",
       "      fill=\"#5102A3\" stroke=\"none\" />\n",
       "<rect x=\"25.3125mm\" y=\"0.0mm\"\n",
       "      width=\"0.703125mm\" height=\"24.0mm\"\n",
       "      fill=\"#5302A3\" stroke=\"none\" />\n",
       "<rect x=\"26.015625mm\" y=\"0.0mm\"\n",
       "      width=\"0.703125mm\" height=\"24.0mm\"\n",
       "      fill=\"#5502A4\" stroke=\"none\" />\n",
       "<rect x=\"26.71875mm\" y=\"0.0mm\"\n",
       "      width=\"0.703125mm\" height=\"24.0mm\"\n",
       "      fill=\"#5601A4\" stroke=\"none\" />\n",
       "<rect x=\"27.421875mm\" y=\"0.0mm\"\n",
       "      width=\"0.703125mm\" height=\"24.0mm\"\n",
       "      fill=\"#5801A4\" stroke=\"none\" />\n",
       "<rect x=\"28.125mm\" y=\"0.0mm\"\n",
       "      width=\"0.703125mm\" height=\"24.0mm\"\n",
       "      fill=\"#5901A5\" stroke=\"none\" />\n",
       "<rect x=\"28.828125mm\" y=\"0.0mm\"\n",
       "      width=\"0.703125mm\" height=\"24.0mm\"\n",
       "      fill=\"#5B01A5\" stroke=\"none\" />\n",
       "<rect x=\"29.53125mm\" y=\"0.0mm\"\n",
       "      width=\"0.703125mm\" height=\"24.0mm\"\n",
       "      fill=\"#5C01A6\" stroke=\"none\" />\n",
       "<rect x=\"30.234375mm\" y=\"0.0mm\"\n",
       "      width=\"0.703125mm\" height=\"24.0mm\"\n",
       "      fill=\"#5E01A6\" stroke=\"none\" />\n",
       "<rect x=\"30.9375mm\" y=\"0.0mm\"\n",
       "      width=\"0.703125mm\" height=\"24.0mm\"\n",
       "      fill=\"#6001A6\" stroke=\"none\" />\n",
       "<rect x=\"31.640625mm\" y=\"0.0mm\"\n",
       "      width=\"0.703125mm\" height=\"24.0mm\"\n",
       "      fill=\"#6100A7\" stroke=\"none\" />\n",
       "<rect x=\"32.34375mm\" y=\"0.0mm\"\n",
       "      width=\"0.703125mm\" height=\"24.0mm\"\n",
       "      fill=\"#6300A7\" stroke=\"none\" />\n",
       "<rect x=\"33.046875mm\" y=\"0.0mm\"\n",
       "      width=\"0.703125mm\" height=\"24.0mm\"\n",
       "      fill=\"#6400A7\" stroke=\"none\" />\n",
       "<rect x=\"33.75mm\" y=\"0.0mm\"\n",
       "      width=\"0.703125mm\" height=\"24.0mm\"\n",
       "      fill=\"#6600A7\" stroke=\"none\" />\n",
       "<rect x=\"34.453125mm\" y=\"0.0mm\"\n",
       "      width=\"0.703125mm\" height=\"24.0mm\"\n",
       "      fill=\"#6700A8\" stroke=\"none\" />\n",
       "<rect x=\"35.15625mm\" y=\"0.0mm\"\n",
       "      width=\"0.703125mm\" height=\"24.0mm\"\n",
       "      fill=\"#6900A8\" stroke=\"none\" />\n",
       "<rect x=\"35.859375mm\" y=\"0.0mm\"\n",
       "      width=\"0.703125mm\" height=\"24.0mm\"\n",
       "      fill=\"#6A00A8\" stroke=\"none\" />\n",
       "<rect x=\"36.5625mm\" y=\"0.0mm\"\n",
       "      width=\"0.703125mm\" height=\"24.0mm\"\n",
       "      fill=\"#6C00A8\" stroke=\"none\" />\n",
       "<rect x=\"37.265625mm\" y=\"0.0mm\"\n",
       "      width=\"0.703125mm\" height=\"24.0mm\"\n",
       "      fill=\"#6E00A8\" stroke=\"none\" />\n",
       "<rect x=\"37.96875mm\" y=\"0.0mm\"\n",
       "      width=\"0.703125mm\" height=\"24.0mm\"\n",
       "      fill=\"#6F00A8\" stroke=\"none\" />\n",
       "<rect x=\"38.671875mm\" y=\"0.0mm\"\n",
       "      width=\"0.703125mm\" height=\"24.0mm\"\n",
       "      fill=\"#7100A8\" stroke=\"none\" />\n",
       "<rect x=\"39.375mm\" y=\"0.0mm\"\n",
       "      width=\"0.703125mm\" height=\"24.0mm\"\n",
       "      fill=\"#7201A8\" stroke=\"none\" />\n",
       "<rect x=\"40.078125mm\" y=\"0.0mm\"\n",
       "      width=\"0.703125mm\" height=\"24.0mm\"\n",
       "      fill=\"#7401A8\" stroke=\"none\" />\n",
       "<rect x=\"40.78125mm\" y=\"0.0mm\"\n",
       "      width=\"0.703125mm\" height=\"24.0mm\"\n",
       "      fill=\"#7501A8\" stroke=\"none\" />\n",
       "<rect x=\"41.484375mm\" y=\"0.0mm\"\n",
       "      width=\"0.703125mm\" height=\"24.0mm\"\n",
       "      fill=\"#7701A8\" stroke=\"none\" />\n",
       "<rect x=\"42.1875mm\" y=\"0.0mm\"\n",
       "      width=\"0.703125mm\" height=\"24.0mm\"\n",
       "      fill=\"#7801A8\" stroke=\"none\" />\n",
       "<rect x=\"42.890625mm\" y=\"0.0mm\"\n",
       "      width=\"0.703125mm\" height=\"24.0mm\"\n",
       "      fill=\"#7A02A8\" stroke=\"none\" />\n",
       "<rect x=\"43.59375mm\" y=\"0.0mm\"\n",
       "      width=\"0.703125mm\" height=\"24.0mm\"\n",
       "      fill=\"#7B02A8\" stroke=\"none\" />\n",
       "<rect x=\"44.296875mm\" y=\"0.0mm\"\n",
       "      width=\"0.703125mm\" height=\"24.0mm\"\n",
       "      fill=\"#7D03A8\" stroke=\"none\" />\n",
       "<rect x=\"45.0mm\" y=\"0.0mm\"\n",
       "      width=\"0.703125mm\" height=\"24.0mm\"\n",
       "      fill=\"#7E03A8\" stroke=\"none\" />\n",
       "<rect x=\"45.703125mm\" y=\"0.0mm\"\n",
       "      width=\"0.703125mm\" height=\"24.0mm\"\n",
       "      fill=\"#8004A8\" stroke=\"none\" />\n",
       "<rect x=\"46.40625mm\" y=\"0.0mm\"\n",
       "      width=\"0.703125mm\" height=\"24.0mm\"\n",
       "      fill=\"#8104A7\" stroke=\"none\" />\n",
       "<rect x=\"47.109375mm\" y=\"0.0mm\"\n",
       "      width=\"0.703125mm\" height=\"24.0mm\"\n",
       "      fill=\"#8305A7\" stroke=\"none\" />\n",
       "<rect x=\"47.8125mm\" y=\"0.0mm\"\n",
       "      width=\"0.703125mm\" height=\"24.0mm\"\n",
       "      fill=\"#8405A7\" stroke=\"none\" />\n",
       "<rect x=\"48.515625mm\" y=\"0.0mm\"\n",
       "      width=\"0.703125mm\" height=\"24.0mm\"\n",
       "      fill=\"#8606A6\" stroke=\"none\" />\n",
       "<rect x=\"49.21875mm\" y=\"0.0mm\"\n",
       "      width=\"0.703125mm\" height=\"24.0mm\"\n",
       "      fill=\"#8707A6\" stroke=\"none\" />\n",
       "<rect x=\"49.921875mm\" y=\"0.0mm\"\n",
       "      width=\"0.703125mm\" height=\"24.0mm\"\n",
       "      fill=\"#8808A6\" stroke=\"none\" />\n",
       "<rect x=\"50.625mm\" y=\"0.0mm\"\n",
       "      width=\"0.703125mm\" height=\"24.0mm\"\n",
       "      fill=\"#8A09A5\" stroke=\"none\" />\n",
       "<rect x=\"51.328125mm\" y=\"0.0mm\"\n",
       "      width=\"0.703125mm\" height=\"24.0mm\"\n",
       "      fill=\"#8B0AA5\" stroke=\"none\" />\n",
       "<rect x=\"52.03125mm\" y=\"0.0mm\"\n",
       "      width=\"0.703125mm\" height=\"24.0mm\"\n",
       "      fill=\"#8D0BA5\" stroke=\"none\" />\n",
       "<rect x=\"52.734375mm\" y=\"0.0mm\"\n",
       "      width=\"0.703125mm\" height=\"24.0mm\"\n",
       "      fill=\"#8E0CA4\" stroke=\"none\" />\n",
       "<rect x=\"53.4375mm\" y=\"0.0mm\"\n",
       "      width=\"0.703125mm\" height=\"24.0mm\"\n",
       "      fill=\"#8F0DA4\" stroke=\"none\" />\n",
       "<rect x=\"54.140625mm\" y=\"0.0mm\"\n",
       "      width=\"0.703125mm\" height=\"24.0mm\"\n",
       "      fill=\"#910EA3\" stroke=\"none\" />\n",
       "<rect x=\"54.84375mm\" y=\"0.0mm\"\n",
       "      width=\"0.703125mm\" height=\"24.0mm\"\n",
       "      fill=\"#920FA3\" stroke=\"none\" />\n",
       "<rect x=\"55.546875mm\" y=\"0.0mm\"\n",
       "      width=\"0.703125mm\" height=\"24.0mm\"\n",
       "      fill=\"#9410A2\" stroke=\"none\" />\n",
       "<rect x=\"56.25mm\" y=\"0.0mm\"\n",
       "      width=\"0.703125mm\" height=\"24.0mm\"\n",
       "      fill=\"#9511A1\" stroke=\"none\" />\n",
       "<rect x=\"56.953125mm\" y=\"0.0mm\"\n",
       "      width=\"0.703125mm\" height=\"24.0mm\"\n",
       "      fill=\"#9613A1\" stroke=\"none\" />\n",
       "<rect x=\"57.65625mm\" y=\"0.0mm\"\n",
       "      width=\"0.703125mm\" height=\"24.0mm\"\n",
       "      fill=\"#9814A0\" stroke=\"none\" />\n",
       "<rect x=\"58.359375mm\" y=\"0.0mm\"\n",
       "      width=\"0.703125mm\" height=\"24.0mm\"\n",
       "      fill=\"#99159F\" stroke=\"none\" />\n",
       "<rect x=\"59.0625mm\" y=\"0.0mm\"\n",
       "      width=\"0.703125mm\" height=\"24.0mm\"\n",
       "      fill=\"#9A169F\" stroke=\"none\" />\n",
       "<rect x=\"59.765625mm\" y=\"0.0mm\"\n",
       "      width=\"0.703125mm\" height=\"24.0mm\"\n",
       "      fill=\"#9C179E\" stroke=\"none\" />\n",
       "<rect x=\"60.46875mm\" y=\"0.0mm\"\n",
       "      width=\"0.703125mm\" height=\"24.0mm\"\n",
       "      fill=\"#9D189D\" stroke=\"none\" />\n",
       "<rect x=\"61.171875mm\" y=\"0.0mm\"\n",
       "      width=\"0.703125mm\" height=\"24.0mm\"\n",
       "      fill=\"#9E199D\" stroke=\"none\" />\n",
       "<rect x=\"61.875mm\" y=\"0.0mm\"\n",
       "      width=\"0.703125mm\" height=\"24.0mm\"\n",
       "      fill=\"#A01A9C\" stroke=\"none\" />\n",
       "<rect x=\"62.578125mm\" y=\"0.0mm\"\n",
       "      width=\"0.703125mm\" height=\"24.0mm\"\n",
       "      fill=\"#A11B9B\" stroke=\"none\" />\n",
       "<rect x=\"63.28125mm\" y=\"0.0mm\"\n",
       "      width=\"0.703125mm\" height=\"24.0mm\"\n",
       "      fill=\"#A21D9A\" stroke=\"none\" />\n",
       "<rect x=\"63.984375mm\" y=\"0.0mm\"\n",
       "      width=\"0.703125mm\" height=\"24.0mm\"\n",
       "      fill=\"#A31E9A\" stroke=\"none\" />\n",
       "<rect x=\"64.6875mm\" y=\"0.0mm\"\n",
       "      width=\"0.703125mm\" height=\"24.0mm\"\n",
       "      fill=\"#A51F99\" stroke=\"none\" />\n",
       "<rect x=\"65.390625mm\" y=\"0.0mm\"\n",
       "      width=\"0.703125mm\" height=\"24.0mm\"\n",
       "      fill=\"#A62098\" stroke=\"none\" />\n",
       "<rect x=\"66.09375mm\" y=\"0.0mm\"\n",
       "      width=\"0.703125mm\" height=\"24.0mm\"\n",
       "      fill=\"#A72197\" stroke=\"none\" />\n",
       "<rect x=\"66.796875mm\" y=\"0.0mm\"\n",
       "      width=\"0.703125mm\" height=\"24.0mm\"\n",
       "      fill=\"#A82296\" stroke=\"none\" />\n",
       "<rect x=\"67.5mm\" y=\"0.0mm\"\n",
       "      width=\"0.703125mm\" height=\"24.0mm\"\n",
       "      fill=\"#AA2395\" stroke=\"none\" />\n",
       "<rect x=\"68.203125mm\" y=\"0.0mm\"\n",
       "      width=\"0.703125mm\" height=\"24.0mm\"\n",
       "      fill=\"#AB2494\" stroke=\"none\" />\n",
       "<rect x=\"68.90625mm\" y=\"0.0mm\"\n",
       "      width=\"0.703125mm\" height=\"24.0mm\"\n",
       "      fill=\"#AC2694\" stroke=\"none\" />\n",
       "<rect x=\"69.609375mm\" y=\"0.0mm\"\n",
       "      width=\"0.703125mm\" height=\"24.0mm\"\n",
       "      fill=\"#AD2793\" stroke=\"none\" />\n",
       "<rect x=\"70.3125mm\" y=\"0.0mm\"\n",
       "      width=\"0.703125mm\" height=\"24.0mm\"\n",
       "      fill=\"#AE2892\" stroke=\"none\" />\n",
       "<rect x=\"71.015625mm\" y=\"0.0mm\"\n",
       "      width=\"0.703125mm\" height=\"24.0mm\"\n",
       "      fill=\"#B02991\" stroke=\"none\" />\n",
       "<rect x=\"71.71875mm\" y=\"0.0mm\"\n",
       "      width=\"0.703125mm\" height=\"24.0mm\"\n",
       "      fill=\"#B12A90\" stroke=\"none\" />\n",
       "<rect x=\"72.421875mm\" y=\"0.0mm\"\n",
       "      width=\"0.703125mm\" height=\"24.0mm\"\n",
       "      fill=\"#B22B8F\" stroke=\"none\" />\n",
       "<rect x=\"73.125mm\" y=\"0.0mm\"\n",
       "      width=\"0.703125mm\" height=\"24.0mm\"\n",
       "      fill=\"#B32C8E\" stroke=\"none\" />\n",
       "<rect x=\"73.828125mm\" y=\"0.0mm\"\n",
       "      width=\"0.703125mm\" height=\"24.0mm\"\n",
       "      fill=\"#B42E8D\" stroke=\"none\" />\n",
       "<rect x=\"74.53125mm\" y=\"0.0mm\"\n",
       "      width=\"0.703125mm\" height=\"24.0mm\"\n",
       "      fill=\"#B52F8C\" stroke=\"none\" />\n",
       "<rect x=\"75.234375mm\" y=\"0.0mm\"\n",
       "      width=\"0.703125mm\" height=\"24.0mm\"\n",
       "      fill=\"#B6308B\" stroke=\"none\" />\n",
       "<rect x=\"75.9375mm\" y=\"0.0mm\"\n",
       "      width=\"0.703125mm\" height=\"24.0mm\"\n",
       "      fill=\"#B7318A\" stroke=\"none\" />\n",
       "<rect x=\"76.640625mm\" y=\"0.0mm\"\n",
       "      width=\"0.703125mm\" height=\"24.0mm\"\n",
       "      fill=\"#B83289\" stroke=\"none\" />\n",
       "<rect x=\"77.34375mm\" y=\"0.0mm\"\n",
       "      width=\"0.703125mm\" height=\"24.0mm\"\n",
       "      fill=\"#BA3388\" stroke=\"none\" />\n",
       "<rect x=\"78.046875mm\" y=\"0.0mm\"\n",
       "      width=\"0.703125mm\" height=\"24.0mm\"\n",
       "      fill=\"#BB3488\" stroke=\"none\" />\n",
       "<rect x=\"78.75mm\" y=\"0.0mm\"\n",
       "      width=\"0.703125mm\" height=\"24.0mm\"\n",
       "      fill=\"#BC3587\" stroke=\"none\" />\n",
       "<rect x=\"79.453125mm\" y=\"0.0mm\"\n",
       "      width=\"0.703125mm\" height=\"24.0mm\"\n",
       "      fill=\"#BD3786\" stroke=\"none\" />\n",
       "<rect x=\"80.15625mm\" y=\"0.0mm\"\n",
       "      width=\"0.703125mm\" height=\"24.0mm\"\n",
       "      fill=\"#BE3885\" stroke=\"none\" />\n",
       "<rect x=\"80.859375mm\" y=\"0.0mm\"\n",
       "      width=\"0.703125mm\" height=\"24.0mm\"\n",
       "      fill=\"#BF3984\" stroke=\"none\" />\n",
       "<rect x=\"81.5625mm\" y=\"0.0mm\"\n",
       "      width=\"0.703125mm\" height=\"24.0mm\"\n",
       "      fill=\"#C03A83\" stroke=\"none\" />\n",
       "<rect x=\"82.265625mm\" y=\"0.0mm\"\n",
       "      width=\"0.703125mm\" height=\"24.0mm\"\n",
       "      fill=\"#C13B82\" stroke=\"none\" />\n",
       "<rect x=\"82.96875mm\" y=\"0.0mm\"\n",
       "      width=\"0.703125mm\" height=\"24.0mm\"\n",
       "      fill=\"#C23C81\" stroke=\"none\" />\n",
       "<rect x=\"83.671875mm\" y=\"0.0mm\"\n",
       "      width=\"0.703125mm\" height=\"24.0mm\"\n",
       "      fill=\"#C33D80\" stroke=\"none\" />\n",
       "<rect x=\"84.375mm\" y=\"0.0mm\"\n",
       "      width=\"0.703125mm\" height=\"24.0mm\"\n",
       "      fill=\"#C43E7F\" stroke=\"none\" />\n",
       "<rect x=\"85.078125mm\" y=\"0.0mm\"\n",
       "      width=\"0.703125mm\" height=\"24.0mm\"\n",
       "      fill=\"#C5407E\" stroke=\"none\" />\n",
       "<rect x=\"85.78125mm\" y=\"0.0mm\"\n",
       "      width=\"0.703125mm\" height=\"24.0mm\"\n",
       "      fill=\"#C6417D\" stroke=\"none\" />\n",
       "<rect x=\"86.484375mm\" y=\"0.0mm\"\n",
       "      width=\"0.703125mm\" height=\"24.0mm\"\n",
       "      fill=\"#C7427C\" stroke=\"none\" />\n",
       "<rect x=\"87.1875mm\" y=\"0.0mm\"\n",
       "      width=\"0.703125mm\" height=\"24.0mm\"\n",
       "      fill=\"#C8437B\" stroke=\"none\" />\n",
       "<rect x=\"87.890625mm\" y=\"0.0mm\"\n",
       "      width=\"0.703125mm\" height=\"24.0mm\"\n",
       "      fill=\"#C9447A\" stroke=\"none\" />\n",
       "<rect x=\"88.59375mm\" y=\"0.0mm\"\n",
       "      width=\"0.703125mm\" height=\"24.0mm\"\n",
       "      fill=\"#CA457A\" stroke=\"none\" />\n",
       "<rect x=\"89.296875mm\" y=\"0.0mm\"\n",
       "      width=\"0.703125mm\" height=\"24.0mm\"\n",
       "      fill=\"#CB4679\" stroke=\"none\" />\n",
       "<rect x=\"90.0mm\" y=\"0.0mm\"\n",
       "      width=\"0.703125mm\" height=\"24.0mm\"\n",
       "      fill=\"#CC4778\" stroke=\"none\" />\n",
       "<rect x=\"90.703125mm\" y=\"0.0mm\"\n",
       "      width=\"0.703125mm\" height=\"24.0mm\"\n",
       "      fill=\"#CC4977\" stroke=\"none\" />\n",
       "<rect x=\"91.40625mm\" y=\"0.0mm\"\n",
       "      width=\"0.703125mm\" height=\"24.0mm\"\n",
       "      fill=\"#CD4A76\" stroke=\"none\" />\n",
       "<rect x=\"92.109375mm\" y=\"0.0mm\"\n",
       "      width=\"0.703125mm\" height=\"24.0mm\"\n",
       "      fill=\"#CE4B75\" stroke=\"none\" />\n",
       "<rect x=\"92.8125mm\" y=\"0.0mm\"\n",
       "      width=\"0.703125mm\" height=\"24.0mm\"\n",
       "      fill=\"#CF4C74\" stroke=\"none\" />\n",
       "<rect x=\"93.515625mm\" y=\"0.0mm\"\n",
       "      width=\"0.703125mm\" height=\"24.0mm\"\n",
       "      fill=\"#D04D73\" stroke=\"none\" />\n",
       "<rect x=\"94.21875mm\" y=\"0.0mm\"\n",
       "      width=\"0.703125mm\" height=\"24.0mm\"\n",
       "      fill=\"#D14E72\" stroke=\"none\" />\n",
       "<rect x=\"94.921875mm\" y=\"0.0mm\"\n",
       "      width=\"0.703125mm\" height=\"24.0mm\"\n",
       "      fill=\"#D24F71\" stroke=\"none\" />\n",
       "<rect x=\"95.625mm\" y=\"0.0mm\"\n",
       "      width=\"0.703125mm\" height=\"24.0mm\"\n",
       "      fill=\"#D35171\" stroke=\"none\" />\n",
       "<rect x=\"96.328125mm\" y=\"0.0mm\"\n",
       "      width=\"0.703125mm\" height=\"24.0mm\"\n",
       "      fill=\"#D45270\" stroke=\"none\" />\n",
       "<rect x=\"97.03125mm\" y=\"0.0mm\"\n",
       "      width=\"0.703125mm\" height=\"24.0mm\"\n",
       "      fill=\"#D5536F\" stroke=\"none\" />\n",
       "<rect x=\"97.734375mm\" y=\"0.0mm\"\n",
       "      width=\"0.703125mm\" height=\"24.0mm\"\n",
       "      fill=\"#D5546E\" stroke=\"none\" />\n",
       "<rect x=\"98.4375mm\" y=\"0.0mm\"\n",
       "      width=\"0.703125mm\" height=\"24.0mm\"\n",
       "      fill=\"#D6556D\" stroke=\"none\" />\n",
       "<rect x=\"99.140625mm\" y=\"0.0mm\"\n",
       "      width=\"0.703125mm\" height=\"24.0mm\"\n",
       "      fill=\"#D7566C\" stroke=\"none\" />\n",
       "<rect x=\"99.84375mm\" y=\"0.0mm\"\n",
       "      width=\"0.703125mm\" height=\"24.0mm\"\n",
       "      fill=\"#D8576B\" stroke=\"none\" />\n",
       "<rect x=\"100.546875mm\" y=\"0.0mm\"\n",
       "      width=\"0.703125mm\" height=\"24.0mm\"\n",
       "      fill=\"#D9586A\" stroke=\"none\" />\n",
       "<rect x=\"101.25mm\" y=\"0.0mm\"\n",
       "      width=\"0.703125mm\" height=\"24.0mm\"\n",
       "      fill=\"#DA5A6A\" stroke=\"none\" />\n",
       "<rect x=\"101.953125mm\" y=\"0.0mm\"\n",
       "      width=\"0.703125mm\" height=\"24.0mm\"\n",
       "      fill=\"#DA5B69\" stroke=\"none\" />\n",
       "<rect x=\"102.65625mm\" y=\"0.0mm\"\n",
       "      width=\"0.703125mm\" height=\"24.0mm\"\n",
       "      fill=\"#DB5C68\" stroke=\"none\" />\n",
       "<rect x=\"103.359375mm\" y=\"0.0mm\"\n",
       "      width=\"0.703125mm\" height=\"24.0mm\"\n",
       "      fill=\"#DC5D67\" stroke=\"none\" />\n",
       "<rect x=\"104.0625mm\" y=\"0.0mm\"\n",
       "      width=\"0.703125mm\" height=\"24.0mm\"\n",
       "      fill=\"#DD5E66\" stroke=\"none\" />\n",
       "<rect x=\"104.765625mm\" y=\"0.0mm\"\n",
       "      width=\"0.703125mm\" height=\"24.0mm\"\n",
       "      fill=\"#DE5F65\" stroke=\"none\" />\n",
       "<rect x=\"105.46875mm\" y=\"0.0mm\"\n",
       "      width=\"0.703125mm\" height=\"24.0mm\"\n",
       "      fill=\"#DE6164\" stroke=\"none\" />\n",
       "<rect x=\"106.171875mm\" y=\"0.0mm\"\n",
       "      width=\"0.703125mm\" height=\"24.0mm\"\n",
       "      fill=\"#DF6263\" stroke=\"none\" />\n",
       "<rect x=\"106.875mm\" y=\"0.0mm\"\n",
       "      width=\"0.703125mm\" height=\"24.0mm\"\n",
       "      fill=\"#E06363\" stroke=\"none\" />\n",
       "<rect x=\"107.578125mm\" y=\"0.0mm\"\n",
       "      width=\"0.703125mm\" height=\"24.0mm\"\n",
       "      fill=\"#E16462\" stroke=\"none\" />\n",
       "<rect x=\"108.28125mm\" y=\"0.0mm\"\n",
       "      width=\"0.703125mm\" height=\"24.0mm\"\n",
       "      fill=\"#E26561\" stroke=\"none\" />\n",
       "<rect x=\"108.984375mm\" y=\"0.0mm\"\n",
       "      width=\"0.703125mm\" height=\"24.0mm\"\n",
       "      fill=\"#E26660\" stroke=\"none\" />\n",
       "<rect x=\"109.6875mm\" y=\"0.0mm\"\n",
       "      width=\"0.703125mm\" height=\"24.0mm\"\n",
       "      fill=\"#E3685F\" stroke=\"none\" />\n",
       "<rect x=\"110.390625mm\" y=\"0.0mm\"\n",
       "      width=\"0.703125mm\" height=\"24.0mm\"\n",
       "      fill=\"#E4695E\" stroke=\"none\" />\n",
       "<rect x=\"111.09375mm\" y=\"0.0mm\"\n",
       "      width=\"0.703125mm\" height=\"24.0mm\"\n",
       "      fill=\"#E56A5D\" stroke=\"none\" />\n",
       "<rect x=\"111.796875mm\" y=\"0.0mm\"\n",
       "      width=\"0.703125mm\" height=\"24.0mm\"\n",
       "      fill=\"#E56B5D\" stroke=\"none\" />\n",
       "<rect x=\"112.5mm\" y=\"0.0mm\"\n",
       "      width=\"0.703125mm\" height=\"24.0mm\"\n",
       "      fill=\"#E66C5C\" stroke=\"none\" />\n",
       "<rect x=\"113.203125mm\" y=\"0.0mm\"\n",
       "      width=\"0.703125mm\" height=\"24.0mm\"\n",
       "      fill=\"#E76E5B\" stroke=\"none\" />\n",
       "<rect x=\"113.90625mm\" y=\"0.0mm\"\n",
       "      width=\"0.703125mm\" height=\"24.0mm\"\n",
       "      fill=\"#E76F5A\" stroke=\"none\" />\n",
       "<rect x=\"114.609375mm\" y=\"0.0mm\"\n",
       "      width=\"0.703125mm\" height=\"24.0mm\"\n",
       "      fill=\"#E87059\" stroke=\"none\" />\n",
       "<rect x=\"115.3125mm\" y=\"0.0mm\"\n",
       "      width=\"0.703125mm\" height=\"24.0mm\"\n",
       "      fill=\"#E97158\" stroke=\"none\" />\n",
       "<rect x=\"116.015625mm\" y=\"0.0mm\"\n",
       "      width=\"0.703125mm\" height=\"24.0mm\"\n",
       "      fill=\"#E97257\" stroke=\"none\" />\n",
       "<rect x=\"116.71875mm\" y=\"0.0mm\"\n",
       "      width=\"0.703125mm\" height=\"24.0mm\"\n",
       "      fill=\"#EA7457\" stroke=\"none\" />\n",
       "<rect x=\"117.421875mm\" y=\"0.0mm\"\n",
       "      width=\"0.703125mm\" height=\"24.0mm\"\n",
       "      fill=\"#EB7556\" stroke=\"none\" />\n",
       "<rect x=\"118.125mm\" y=\"0.0mm\"\n",
       "      width=\"0.703125mm\" height=\"24.0mm\"\n",
       "      fill=\"#EB7655\" stroke=\"none\" />\n",
       "<rect x=\"118.828125mm\" y=\"0.0mm\"\n",
       "      width=\"0.703125mm\" height=\"24.0mm\"\n",
       "      fill=\"#EC7754\" stroke=\"none\" />\n",
       "<rect x=\"119.53125mm\" y=\"0.0mm\"\n",
       "      width=\"0.703125mm\" height=\"24.0mm\"\n",
       "      fill=\"#ED7953\" stroke=\"none\" />\n",
       "<rect x=\"120.234375mm\" y=\"0.0mm\"\n",
       "      width=\"0.703125mm\" height=\"24.0mm\"\n",
       "      fill=\"#ED7A52\" stroke=\"none\" />\n",
       "<rect x=\"120.9375mm\" y=\"0.0mm\"\n",
       "      width=\"0.703125mm\" height=\"24.0mm\"\n",
       "      fill=\"#EE7B51\" stroke=\"none\" />\n",
       "<rect x=\"121.640625mm\" y=\"0.0mm\"\n",
       "      width=\"0.703125mm\" height=\"24.0mm\"\n",
       "      fill=\"#EF7C51\" stroke=\"none\" />\n",
       "<rect x=\"122.34375mm\" y=\"0.0mm\"\n",
       "      width=\"0.703125mm\" height=\"24.0mm\"\n",
       "      fill=\"#EF7E50\" stroke=\"none\" />\n",
       "<rect x=\"123.046875mm\" y=\"0.0mm\"\n",
       "      width=\"0.703125mm\" height=\"24.0mm\"\n",
       "      fill=\"#F07F4F\" stroke=\"none\" />\n",
       "<rect x=\"123.75mm\" y=\"0.0mm\"\n",
       "      width=\"0.703125mm\" height=\"24.0mm\"\n",
       "      fill=\"#F0804E\" stroke=\"none\" />\n",
       "<rect x=\"124.453125mm\" y=\"0.0mm\"\n",
       "      width=\"0.703125mm\" height=\"24.0mm\"\n",
       "      fill=\"#F1814D\" stroke=\"none\" />\n",
       "<rect x=\"125.15625mm\" y=\"0.0mm\"\n",
       "      width=\"0.703125mm\" height=\"24.0mm\"\n",
       "      fill=\"#F1834C\" stroke=\"none\" />\n",
       "<rect x=\"125.859375mm\" y=\"0.0mm\"\n",
       "      width=\"0.703125mm\" height=\"24.0mm\"\n",
       "      fill=\"#F2844B\" stroke=\"none\" />\n",
       "<rect x=\"126.5625mm\" y=\"0.0mm\"\n",
       "      width=\"0.703125mm\" height=\"24.0mm\"\n",
       "      fill=\"#F3854B\" stroke=\"none\" />\n",
       "<rect x=\"127.265625mm\" y=\"0.0mm\"\n",
       "      width=\"0.703125mm\" height=\"24.0mm\"\n",
       "      fill=\"#F3874A\" stroke=\"none\" />\n",
       "<rect x=\"127.96875mm\" y=\"0.0mm\"\n",
       "      width=\"0.703125mm\" height=\"24.0mm\"\n",
       "      fill=\"#F48849\" stroke=\"none\" />\n",
       "<rect x=\"128.671875mm\" y=\"0.0mm\"\n",
       "      width=\"0.703125mm\" height=\"24.0mm\"\n",
       "      fill=\"#F48948\" stroke=\"none\" />\n",
       "<rect x=\"129.375mm\" y=\"0.0mm\"\n",
       "      width=\"0.703125mm\" height=\"24.0mm\"\n",
       "      fill=\"#F58B47\" stroke=\"none\" />\n",
       "<rect x=\"130.078125mm\" y=\"0.0mm\"\n",
       "      width=\"0.703125mm\" height=\"24.0mm\"\n",
       "      fill=\"#F58C46\" stroke=\"none\" />\n",
       "<rect x=\"130.78125mm\" y=\"0.0mm\"\n",
       "      width=\"0.703125mm\" height=\"24.0mm\"\n",
       "      fill=\"#F68D45\" stroke=\"none\" />\n",
       "<rect x=\"131.484375mm\" y=\"0.0mm\"\n",
       "      width=\"0.703125mm\" height=\"24.0mm\"\n",
       "      fill=\"#F68F44\" stroke=\"none\" />\n",
       "<rect x=\"132.1875mm\" y=\"0.0mm\"\n",
       "      width=\"0.703125mm\" height=\"24.0mm\"\n",
       "      fill=\"#F79044\" stroke=\"none\" />\n",
       "<rect x=\"132.890625mm\" y=\"0.0mm\"\n",
       "      width=\"0.703125mm\" height=\"24.0mm\"\n",
       "      fill=\"#F79143\" stroke=\"none\" />\n",
       "<rect x=\"133.59375mm\" y=\"0.0mm\"\n",
       "      width=\"0.703125mm\" height=\"24.0mm\"\n",
       "      fill=\"#F79342\" stroke=\"none\" />\n",
       "<rect x=\"134.296875mm\" y=\"0.0mm\"\n",
       "      width=\"0.703125mm\" height=\"24.0mm\"\n",
       "      fill=\"#F89441\" stroke=\"none\" />\n",
       "<rect x=\"135.0mm\" y=\"0.0mm\"\n",
       "      width=\"0.703125mm\" height=\"24.0mm\"\n",
       "      fill=\"#F89540\" stroke=\"none\" />\n",
       "<rect x=\"135.703125mm\" y=\"0.0mm\"\n",
       "      width=\"0.703125mm\" height=\"24.0mm\"\n",
       "      fill=\"#F9973F\" stroke=\"none\" />\n",
       "<rect x=\"136.40625mm\" y=\"0.0mm\"\n",
       "      width=\"0.703125mm\" height=\"24.0mm\"\n",
       "      fill=\"#F9983E\" stroke=\"none\" />\n",
       "<rect x=\"137.109375mm\" y=\"0.0mm\"\n",
       "      width=\"0.703125mm\" height=\"24.0mm\"\n",
       "      fill=\"#F99A3E\" stroke=\"none\" />\n",
       "<rect x=\"137.8125mm\" y=\"0.0mm\"\n",
       "      width=\"0.703125mm\" height=\"24.0mm\"\n",
       "      fill=\"#FA9B3D\" stroke=\"none\" />\n",
       "<rect x=\"138.515625mm\" y=\"0.0mm\"\n",
       "      width=\"0.703125mm\" height=\"24.0mm\"\n",
       "      fill=\"#FA9C3C\" stroke=\"none\" />\n",
       "<rect x=\"139.21875mm\" y=\"0.0mm\"\n",
       "      width=\"0.703125mm\" height=\"24.0mm\"\n",
       "      fill=\"#FA9E3B\" stroke=\"none\" />\n",
       "<rect x=\"139.921875mm\" y=\"0.0mm\"\n",
       "      width=\"0.703125mm\" height=\"24.0mm\"\n",
       "      fill=\"#FB9F3A\" stroke=\"none\" />\n",
       "<rect x=\"140.625mm\" y=\"0.0mm\"\n",
       "      width=\"0.703125mm\" height=\"24.0mm\"\n",
       "      fill=\"#FBA139\" stroke=\"none\" />\n",
       "<rect x=\"141.328125mm\" y=\"0.0mm\"\n",
       "      width=\"0.703125mm\" height=\"24.0mm\"\n",
       "      fill=\"#FBA238\" stroke=\"none\" />\n",
       "<rect x=\"142.03125mm\" y=\"0.0mm\"\n",
       "      width=\"0.703125mm\" height=\"24.0mm\"\n",
       "      fill=\"#FCA338\" stroke=\"none\" />\n",
       "<rect x=\"142.734375mm\" y=\"0.0mm\"\n",
       "      width=\"0.703125mm\" height=\"24.0mm\"\n",
       "      fill=\"#FCA537\" stroke=\"none\" />\n",
       "<rect x=\"143.4375mm\" y=\"0.0mm\"\n",
       "      width=\"0.703125mm\" height=\"24.0mm\"\n",
       "      fill=\"#FCA636\" stroke=\"none\" />\n",
       "<rect x=\"144.140625mm\" y=\"0.0mm\"\n",
       "      width=\"0.703125mm\" height=\"24.0mm\"\n",
       "      fill=\"#FCA835\" stroke=\"none\" />\n",
       "<rect x=\"144.84375mm\" y=\"0.0mm\"\n",
       "      width=\"0.703125mm\" height=\"24.0mm\"\n",
       "      fill=\"#FCA934\" stroke=\"none\" />\n",
       "<rect x=\"145.546875mm\" y=\"0.0mm\"\n",
       "      width=\"0.703125mm\" height=\"24.0mm\"\n",
       "      fill=\"#FDAB33\" stroke=\"none\" />\n",
       "<rect x=\"146.25mm\" y=\"0.0mm\"\n",
       "      width=\"0.703125mm\" height=\"24.0mm\"\n",
       "      fill=\"#FDAC33\" stroke=\"none\" />\n",
       "<rect x=\"146.953125mm\" y=\"0.0mm\"\n",
       "      width=\"0.703125mm\" height=\"24.0mm\"\n",
       "      fill=\"#FDAE32\" stroke=\"none\" />\n",
       "<rect x=\"147.65625mm\" y=\"0.0mm\"\n",
       "      width=\"0.703125mm\" height=\"24.0mm\"\n",
       "      fill=\"#FDAF31\" stroke=\"none\" />\n",
       "<rect x=\"148.359375mm\" y=\"0.0mm\"\n",
       "      width=\"0.703125mm\" height=\"24.0mm\"\n",
       "      fill=\"#FDB130\" stroke=\"none\" />\n",
       "<rect x=\"149.0625mm\" y=\"0.0mm\"\n",
       "      width=\"0.703125mm\" height=\"24.0mm\"\n",
       "      fill=\"#FDB22F\" stroke=\"none\" />\n",
       "<rect x=\"149.765625mm\" y=\"0.0mm\"\n",
       "      width=\"0.703125mm\" height=\"24.0mm\"\n",
       "      fill=\"#FDB42F\" stroke=\"none\" />\n",
       "<rect x=\"150.46875mm\" y=\"0.0mm\"\n",
       "      width=\"0.703125mm\" height=\"24.0mm\"\n",
       "      fill=\"#FDB52E\" stroke=\"none\" />\n",
       "<rect x=\"151.171875mm\" y=\"0.0mm\"\n",
       "      width=\"0.703125mm\" height=\"24.0mm\"\n",
       "      fill=\"#FEB72D\" stroke=\"none\" />\n",
       "<rect x=\"151.875mm\" y=\"0.0mm\"\n",
       "      width=\"0.703125mm\" height=\"24.0mm\"\n",
       "      fill=\"#FEB82C\" stroke=\"none\" />\n",
       "<rect x=\"152.578125mm\" y=\"0.0mm\"\n",
       "      width=\"0.703125mm\" height=\"24.0mm\"\n",
       "      fill=\"#FEBA2C\" stroke=\"none\" />\n",
       "<rect x=\"153.28125mm\" y=\"0.0mm\"\n",
       "      width=\"0.703125mm\" height=\"24.0mm\"\n",
       "      fill=\"#FEBB2B\" stroke=\"none\" />\n",
       "<rect x=\"153.984375mm\" y=\"0.0mm\"\n",
       "      width=\"0.703125mm\" height=\"24.0mm\"\n",
       "      fill=\"#FEBD2A\" stroke=\"none\" />\n",
       "<rect x=\"154.6875mm\" y=\"0.0mm\"\n",
       "      width=\"0.703125mm\" height=\"24.0mm\"\n",
       "      fill=\"#FEBE2A\" stroke=\"none\" />\n",
       "<rect x=\"155.390625mm\" y=\"0.0mm\"\n",
       "      width=\"0.703125mm\" height=\"24.0mm\"\n",
       "      fill=\"#FEC029\" stroke=\"none\" />\n",
       "<rect x=\"156.09375mm\" y=\"0.0mm\"\n",
       "      width=\"0.703125mm\" height=\"24.0mm\"\n",
       "      fill=\"#FDC229\" stroke=\"none\" />\n",
       "<rect x=\"156.796875mm\" y=\"0.0mm\"\n",
       "      width=\"0.703125mm\" height=\"24.0mm\"\n",
       "      fill=\"#FDC328\" stroke=\"none\" />\n",
       "<rect x=\"157.5mm\" y=\"0.0mm\"\n",
       "      width=\"0.703125mm\" height=\"24.0mm\"\n",
       "      fill=\"#FDC527\" stroke=\"none\" />\n",
       "<rect x=\"158.203125mm\" y=\"0.0mm\"\n",
       "      width=\"0.703125mm\" height=\"24.0mm\"\n",
       "      fill=\"#FDC627\" stroke=\"none\" />\n",
       "<rect x=\"158.90625mm\" y=\"0.0mm\"\n",
       "      width=\"0.703125mm\" height=\"24.0mm\"\n",
       "      fill=\"#FDC827\" stroke=\"none\" />\n",
       "<rect x=\"159.609375mm\" y=\"0.0mm\"\n",
       "      width=\"0.703125mm\" height=\"24.0mm\"\n",
       "      fill=\"#FDCA26\" stroke=\"none\" />\n",
       "<rect x=\"160.3125mm\" y=\"0.0mm\"\n",
       "      width=\"0.703125mm\" height=\"24.0mm\"\n",
       "      fill=\"#FDCB26\" stroke=\"none\" />\n",
       "<rect x=\"161.015625mm\" y=\"0.0mm\"\n",
       "      width=\"0.703125mm\" height=\"24.0mm\"\n",
       "      fill=\"#FCCD25\" stroke=\"none\" />\n",
       "<rect x=\"161.71875mm\" y=\"0.0mm\"\n",
       "      width=\"0.703125mm\" height=\"24.0mm\"\n",
       "      fill=\"#FCCE25\" stroke=\"none\" />\n",
       "<rect x=\"162.421875mm\" y=\"0.0mm\"\n",
       "      width=\"0.703125mm\" height=\"24.0mm\"\n",
       "      fill=\"#FCD025\" stroke=\"none\" />\n",
       "<rect x=\"163.125mm\" y=\"0.0mm\"\n",
       "      width=\"0.703125mm\" height=\"24.0mm\"\n",
       "      fill=\"#FCD225\" stroke=\"none\" />\n",
       "<rect x=\"163.828125mm\" y=\"0.0mm\"\n",
       "      width=\"0.703125mm\" height=\"24.0mm\"\n",
       "      fill=\"#FBD324\" stroke=\"none\" />\n",
       "<rect x=\"164.53125mm\" y=\"0.0mm\"\n",
       "      width=\"0.703125mm\" height=\"24.0mm\"\n",
       "      fill=\"#FBD524\" stroke=\"none\" />\n",
       "<rect x=\"165.234375mm\" y=\"0.0mm\"\n",
       "      width=\"0.703125mm\" height=\"24.0mm\"\n",
       "      fill=\"#FBD724\" stroke=\"none\" />\n",
       "<rect x=\"165.9375mm\" y=\"0.0mm\"\n",
       "      width=\"0.703125mm\" height=\"24.0mm\"\n",
       "      fill=\"#FAD824\" stroke=\"none\" />\n",
       "<rect x=\"166.640625mm\" y=\"0.0mm\"\n",
       "      width=\"0.703125mm\" height=\"24.0mm\"\n",
       "      fill=\"#FADA24\" stroke=\"none\" />\n",
       "<rect x=\"167.34375mm\" y=\"0.0mm\"\n",
       "      width=\"0.703125mm\" height=\"24.0mm\"\n",
       "      fill=\"#F9DC24\" stroke=\"none\" />\n",
       "<rect x=\"168.046875mm\" y=\"0.0mm\"\n",
       "      width=\"0.703125mm\" height=\"24.0mm\"\n",
       "      fill=\"#F9DD25\" stroke=\"none\" />\n",
       "<rect x=\"168.75mm\" y=\"0.0mm\"\n",
       "      width=\"0.703125mm\" height=\"24.0mm\"\n",
       "      fill=\"#F8DF25\" stroke=\"none\" />\n",
       "<rect x=\"169.453125mm\" y=\"0.0mm\"\n",
       "      width=\"0.703125mm\" height=\"24.0mm\"\n",
       "      fill=\"#F8E125\" stroke=\"none\" />\n",
       "<rect x=\"170.15625mm\" y=\"0.0mm\"\n",
       "      width=\"0.703125mm\" height=\"24.0mm\"\n",
       "      fill=\"#F7E225\" stroke=\"none\" />\n",
       "<rect x=\"170.859375mm\" y=\"0.0mm\"\n",
       "      width=\"0.703125mm\" height=\"24.0mm\"\n",
       "      fill=\"#F7E425\" stroke=\"none\" />\n",
       "<rect x=\"171.5625mm\" y=\"0.0mm\"\n",
       "      width=\"0.703125mm\" height=\"24.0mm\"\n",
       "      fill=\"#F6E626\" stroke=\"none\" />\n",
       "<rect x=\"172.265625mm\" y=\"0.0mm\"\n",
       "      width=\"0.703125mm\" height=\"24.0mm\"\n",
       "      fill=\"#F6E826\" stroke=\"none\" />\n",
       "<rect x=\"172.96875mm\" y=\"0.0mm\"\n",
       "      width=\"0.703125mm\" height=\"24.0mm\"\n",
       "      fill=\"#F5E926\" stroke=\"none\" />\n",
       "<rect x=\"173.671875mm\" y=\"0.0mm\"\n",
       "      width=\"0.703125mm\" height=\"24.0mm\"\n",
       "      fill=\"#F5EB27\" stroke=\"none\" />\n",
       "<rect x=\"174.375mm\" y=\"0.0mm\"\n",
       "      width=\"0.703125mm\" height=\"24.0mm\"\n",
       "      fill=\"#F4ED27\" stroke=\"none\" />\n",
       "<rect x=\"175.078125mm\" y=\"0.0mm\"\n",
       "      width=\"0.703125mm\" height=\"24.0mm\"\n",
       "      fill=\"#F3EE27\" stroke=\"none\" />\n",
       "<rect x=\"175.78125mm\" y=\"0.0mm\"\n",
       "      width=\"0.703125mm\" height=\"24.0mm\"\n",
       "      fill=\"#F3F027\" stroke=\"none\" />\n",
       "<rect x=\"176.484375mm\" y=\"0.0mm\"\n",
       "      width=\"0.703125mm\" height=\"24.0mm\"\n",
       "      fill=\"#F2F227\" stroke=\"none\" />\n",
       "<rect x=\"177.1875mm\" y=\"0.0mm\"\n",
       "      width=\"0.703125mm\" height=\"24.0mm\"\n",
       "      fill=\"#F1F426\" stroke=\"none\" />\n",
       "<rect x=\"177.890625mm\" y=\"0.0mm\"\n",
       "      width=\"0.703125mm\" height=\"24.0mm\"\n",
       "      fill=\"#F1F525\" stroke=\"none\" />\n",
       "<rect x=\"178.59375mm\" y=\"0.0mm\"\n",
       "      width=\"0.703125mm\" height=\"24.0mm\"\n",
       "      fill=\"#F0F724\" stroke=\"none\" />\n",
       "<rect x=\"179.296875mm\" y=\"0.0mm\"\n",
       "      width=\"0.703125mm\" height=\"24.0mm\"\n",
       "      fill=\"#F0F921\" stroke=\"none\" />\n",
       "</svg>"
      ],
      "text/plain": [
       "ColorScheme(ColorTypes.RGB{Float64}[RGB{Float64}(0.050383,0.029803,0.527975), RGB{Float64}(0.063536,0.028426,0.533124), RGB{Float64}(0.075353,0.027206,0.538007), RGB{Float64}(0.086222,0.026125,0.542658), RGB{Float64}(0.096379,0.025165,0.547103), RGB{Float64}(0.10598,0.024309,0.551368), RGB{Float64}(0.115124,0.023556,0.555468), RGB{Float64}(0.123903,0.022878,0.559423), RGB{Float64}(0.132381,0.022258,0.56325), RGB{Float64}(0.140603,0.021687,0.566959)  …  RGB{Float64}(0.961681,0.914672,0.15052), RGB{Float64}(0.959276,0.921407,0.151566), RGB{Float64}(0.956808,0.928152,0.152409), RGB{Float64}(0.954287,0.934908,0.152921), RGB{Float64}(0.951726,0.941671,0.152925), RGB{Float64}(0.949151,0.948435,0.152178), RGB{Float64}(0.946602,0.95519,0.150328), RGB{Float64}(0.944152,0.961916,0.146861), RGB{Float64}(0.941896,0.96859,0.140956), RGB{Float64}(0.940015,0.975158,0.131326)], \"matplotlib\", \"perceptually uniform sequential\")"
      ]
     },
     "execution_count": 87,
     "metadata": {},
     "output_type": "execute_result"
    }
   ],
   "source": [
    "ColorSchemes.plasma"
   ]
  },
  {
   "cell_type": "code",
   "execution_count": 89,
   "metadata": {},
   "outputs": [],
   "source": [
    "# Save to text file\n",
    "outfile = \"data/colored_lorenz_2000px.xyz\"\n",
    "open(outfile, \"w\") do file\n",
    "    for (ijk, counts) in cube\n",
    "        if counts[1] >= 20\n",
    "            alpha = counts[2]/counts[1]\n",
    "            rgb = get(ColorSchemes.plasma, alpha)\n",
    "            println(file, join([ijk..., rgb.r, rgb.g, rgb.b], ' '))\n",
    "        end\n",
    "    end\n",
    "end"
   ]
  },
  {
   "cell_type": "markdown",
   "metadata": {},
   "source": [
    "Next job is for PotreeConvertor:\n",
    "- [Install PotreeConvertor](https://github.com/potree/PotreeConverter)\n",
    "\n",
    "        cmake -DCMAKE_BUILD_TYPE=Release -DLASZIP_INCLUDE_DIRS=~/Projets/strange_attractor/lastools/LASzip/dll -DLASZIP_LIBRARY=~/Projets/strange_attractor/lastools/LASzip/build/src/liblaszip.so ..\n",
    "        # copy ./PotreeConverter/resources/page_template to your binary working directory.\n",
    "        \n",
    "        \n",
    "- Path to use     PotreeConverter:\n",
    "\n",
    "        export PATH=\"../PotreeConvertor/master/build/PotreeConverter/:$PATH\"\n",
    "\n",
    "- Command to convert:\n",
    "\n",
    "        PotreeConverter -p --page-template ./page_template/ -i lorenz_v02.xyz\n",
    "    \n",
    "        PotreeConverter -f xyzrgb -color-range 1 -i colored_lorenz_v01.xyz\n",
    "        \n",
    "and for [Potree](http://potree.org/):\n",
    "\n",
    "--> [a white Lorenz Attractor](https://xdze2.github.io/chaotic-clouds/white_lorenz.html)\n",
    "\n",
    "\n",
    "![screenshot](./images/thewhitebutterfly.png)"
   ]
  },
  {
   "cell_type": "markdown",
   "metadata": {},
   "source": [
    "## Draft\n",
    "using events"
   ]
  },
  {
   "cell_type": "code",
   "execution_count": null,
   "metadata": {},
   "outputs": [],
   "source": [
    "p12 = p2 .- p1\n",
    "p12_norm = sqrt(sum(p12.^2))\n",
    "p12 = p12./p12_norm;\n",
    "\n",
    "function conditions(out, u, t, integrator)\n",
    "    a1 = u .- p1\n",
    "    a2 = u .- p2\n",
    "    out[1] = -sum(-a1.*p12)\n",
    "    out[2] = -sum(a2.*p12)\n",
    "end\n",
    "\n",
    "saved_event_idx = [0, ]\n",
    "function affect!(integrator, idx)\n",
    "    saved_event_idx[1] = idx\n",
    "    terminate!(integrator)\n",
    "end\n",
    "#cb = ContinuousCallback(condition, affect!, rootfind=false);\n",
    "cb = VectorContinuousCallback(conditions, affect!, nothing,\n",
    "                              2, rootfind=false, save_positions=(true, false))"
   ]
  },
  {
   "cell_type": "code",
   "execution_count": null,
   "metadata": {},
   "outputs": [],
   "source": [
    "u0 = burn()\n",
    "\n",
    "tspan = (0.0, 200.0)\n",
    "prob = ODEProblem(lorenz!, u0, tspan)\n",
    "\n",
    "tol = 1e-8\n",
    "sol_stop = solve(prob, OwrenZen5(), callback=cb,\n",
    "                 reltol=tol, abstol=tol, saveat=dt);\n",
    "\n",
    "saved_event_idx"
   ]
  },
  {
   "cell_type": "code",
   "execution_count": null,
   "metadata": {},
   "outputs": [],
   "source": [
    "sol_stop"
   ]
  },
  {
   "cell_type": "code",
   "execution_count": null,
   "metadata": {},
   "outputs": [],
   "source": [
    "to_ijk.(sol_stop.u)"
   ]
  },
  {
   "cell_type": "code",
   "execution_count": null,
   "metadata": {},
   "outputs": [],
   "source": [
    "plot(sol[2, :], sol[3, :], xlabel=\"y\", ylabel=\"z\")\n",
    "scatter!([p1[2], ], [p1[3], ], label=\"p1\")\n",
    "scatter!([p2[2], ], [p2[3], ], label=\"p2\")\n",
    "plot!(sol_stop[2, :], sol_stop[3, :], color=:red)"
   ]
  },
  {
   "cell_type": "code",
   "execution_count": null,
   "metadata": {},
   "outputs": [],
   "source": [
    "function to_plan()\n",
    "    \n",
    "    u0 = burn()\n",
    "    tspan = (0.0, 160.0)\n",
    "    prob = ODEProblem(lorenz!, u0, tspan)\n",
    "\n",
    "    tol = 1e-7\n",
    "    sol_stop = solve(prob, Tsit5(), callback=cb,\n",
    "        reltol=tol, abstol=tol);\n",
    "    return project(sol_stop[end])[1:2]\n",
    "end"
   ]
  },
  {
   "cell_type": "code",
   "execution_count": null,
   "metadata": {},
   "outputs": [],
   "source": [
    "poincarre = hcat([to_plan() for i in 1:5000]...);"
   ]
  },
  {
   "cell_type": "code",
   "execution_count": null,
   "metadata": {},
   "outputs": [],
   "source": [
    "scatter(poincarre[1, :], poincarre[2, :], markersize=2, markerstrokewidth = 0,\n",
    "            markeralpha = 0.6, xlabel=\"y\", ylabel=\"x\")\n",
    "xaxis!(lims=(0, 5))"
   ]
  },
  {
   "cell_type": "code",
   "execution_count": null,
   "metadata": {},
   "outputs": [],
   "source": [
    "u0 = burn()\n",
    "\n",
    "tspan = (0.0, 1000.0)\n",
    "prob = ODEProblem(lorenz!, u0, tspan)\n",
    "\n",
    "tol = 1e-7\n",
    "sol = solve(prob, Tsit5(), reltol=tol, abstol=tol);"
   ]
  },
  {
   "cell_type": "code",
   "execution_count": null,
   "metadata": {},
   "outputs": [],
   "source": [
    "outfile = \"data/lorenz_v01.xyz\"\n",
    "open(outfile, \"w\") do file\n",
    "  for s in sol.u\n",
    "    println(file, \"$(s[1]) $(s[2]) $(s[3])\")\n",
    "  end\n",
    "end"
   ]
  },
  {
   "cell_type": "code",
   "execution_count": null,
   "metadata": {},
   "outputs": [],
   "source": [
    "CSV.write(\"hello.txt\", rand(3, 3))"
   ]
  },
  {
   "cell_type": "code",
   "execution_count": null,
   "metadata": {},
   "outputs": [],
   "source": [
    "?yaxis!#(lims=(1, 6))"
   ]
  },
  {
   "cell_type": "code",
   "execution_count": null,
   "metadata": {},
   "outputs": [],
   "source": [
    "@gif for theta in range(0, stop = 360, length = 150)\n",
    "    plot3d(sol[1, :], sol[2, :], sol[3, :],\n",
    "           camera=(theta, 10))\n",
    "end"
   ]
  },
  {
   "cell_type": "code",
   "execution_count": null,
   "metadata": {},
   "outputs": [],
   "source": [
    "plot(sol[1, :], sol[3, :])"
   ]
  },
  {
   "cell_type": "code",
   "execution_count": null,
   "metadata": {},
   "outputs": [],
   "source": [
    "u0 = [1.0; 0.0; 0.0]\n",
    "tspan = (0.0, 40.0)\n",
    "prob = ODEProblem(lorenz!, u0, tspan)\n",
    "sol1 = solve(prob);\n",
    "sol2 = solve(prob, Tsit5(), reltol=1e-8, abstol=1e-8);"
   ]
  },
  {
   "cell_type": "code",
   "execution_count": null,
   "metadata": {},
   "outputs": [],
   "source": [
    "sol_OZ4 = solve(prob, OwrenZen4());\n",
    "plot(sol_OZ4, linewidth=1)"
   ]
  },
  {
   "cell_type": "code",
   "execution_count": null,
   "metadata": {},
   "outputs": [],
   "source": [
    "sol_RK4 = solve(prob, RK4(), reltol=1e-8, abstol=1e-8);\n",
    "plot(sol_RK4, linewidth=1)"
   ]
  },
  {
   "cell_type": "code",
   "execution_count": null,
   "metadata": {},
   "outputs": [],
   "source": [
    "plot(sol_RK4[2, :], sol_RK4[3, :])"
   ]
  },
  {
   "cell_type": "code",
   "execution_count": null,
   "metadata": {},
   "outputs": [],
   "source": [
    "plot(sol_RK4.u[], linewidth=1)"
   ]
  },
  {
   "cell_type": "code",
   "execution_count": null,
   "metadata": {},
   "outputs": [],
   "source": [
    "sol_RK4 = solve(prob, OwrenZen3(), reltol=1e-8, abstol=1e-8);\n",
    "plot(sol_RK4, linewidth=1)"
   ]
  },
  {
   "cell_type": "code",
   "execution_count": null,
   "metadata": {},
   "outputs": [],
   "source": [
    "sol_RK4 = solve(prob, Feagin14(), reltol=1e-8, abstol=1e-8);\n",
    "plot(sol_RK4, linewidth=1)"
   ]
  },
  {
   "cell_type": "code",
   "execution_count": null,
   "metadata": {},
   "outputs": [],
   "source": []
  }
 ],
 "metadata": {
  "kernelspec": {
   "display_name": "Julia 1.0.4",
   "language": "julia",
   "name": "julia-1.0"
  },
  "language_info": {
   "file_extension": ".jl",
   "mimetype": "application/julia",
   "name": "julia",
   "version": "1.0.4"
  }
 },
 "nbformat": 4,
 "nbformat_minor": 2
}
