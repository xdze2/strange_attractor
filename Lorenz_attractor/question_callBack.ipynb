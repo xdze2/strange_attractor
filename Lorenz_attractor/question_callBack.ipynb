{
 "cells": [
  {
   "cell_type": "code",
   "execution_count": 20,
   "metadata": {},
   "outputs": [],
   "source": [
    "using DifferentialEquations"
   ]
  },
  {
   "cell_type": "code",
   "execution_count": 21,
   "metadata": {},
   "outputs": [
    {
     "name": "stdout",
     "output_type": "stream",
     "text": [
      "Terminated\n",
      "[1]\n"
     ]
    }
   ],
   "source": [
    "function f(du,u,p,t)\n",
    "  du[1] = u[2]\n",
    "  du[2] = -p\n",
    "  du[3] = u[4]\n",
    "  du[4] = 0.0\n",
    "end\n",
    "\n",
    "function condition(out,u,t,integrator) # Event when event_f(u,t) == 0\n",
    "  out[1] = u[1]\n",
    "  out[2] = (u[3] - 10.0)u[3]\n",
    "end\n",
    "\n",
    "event_idx = [0, ]\n",
    "function affect!(integrator, idx)\n",
    "    event_idx[1] = idx\n",
    "    terminate!(integrator)\n",
    "end\n",
    "\n",
    "cb = VectorContinuousCallback(condition,affect!,2)\n",
    "\n",
    "u0 = [50.0,0.0,0.0,2.0]\n",
    "tspan = (0.0,15.0)\n",
    "p = 9.8\n",
    "prob = ODEProblem(f,u0,tspan,p)\n",
    "sol = solve(prob,Tsit5(),callback=cb,dt=1e-3,adaptive=false, userdata=Dict(:callback_count=>0, :max_count=>3))\n",
    "println(sol.retcode)\n",
    "println(event_idx) # [1]"
   ]
  },
  {
   "cell_type": "code",
   "execution_count": 22,
   "metadata": {},
   "outputs": [
    {
     "data": {
      "text/plain": [
       "retcode: Terminated\n",
       "Interpolation: specialized 4th order \"free\" interpolation\n",
       "t: 3197-element Array{Float64,1}:\n",
       " 0.0                 \n",
       " 0.001               \n",
       " 0.002               \n",
       " 0.003               \n",
       " 0.004               \n",
       " 0.005               \n",
       " 0.006               \n",
       " 0.007               \n",
       " 0.008               \n",
       " 0.009000000000000001\n",
       " 0.010000000000000002\n",
       " 0.011000000000000003\n",
       " 0.012000000000000004\n",
       " ⋮                   \n",
       " 3.1849999999997602  \n",
       " 3.18599999999976    \n",
       " 3.18699999999976    \n",
       " 3.18799999999976    \n",
       " 3.18899999999976    \n",
       " 3.1899999999997597  \n",
       " 3.1909999999997596  \n",
       " 3.1919999999997595  \n",
       " 3.1929999999997594  \n",
       " 3.1939999999997593  \n",
       " 3.1943828249994994  \n",
       " 3.1943828249994994  \n",
       "u: 3197-element Array{Array{Float64,1},1}:\n",
       " [50.0, 0.0, 0.0, 2.0]               \n",
       " [50.0, -0.0098, 0.002, 2.0]         \n",
       " [50.0, -0.0196, 0.004, 2.0]         \n",
       " [50.0, -0.0294, 0.006, 2.0]         \n",
       " [49.9999, -0.0392, 0.008, 2.0]      \n",
       " [49.9999, -0.049, 0.01, 2.0]        \n",
       " [49.9998, -0.0588, 0.012, 2.0]      \n",
       " [49.9998, -0.0686, 0.014, 2.0]      \n",
       " [49.9997, -0.0784, 0.016, 2.0]      \n",
       " [49.9996, -0.0882, 0.018, 2.0]      \n",
       " [49.9995, -0.098, 0.02, 2.0]        \n",
       " [49.9994, -0.1078, 0.022, 2.0]      \n",
       " [49.9993, -0.1176, 0.024, 2.0]      \n",
       " ⋮                                   \n",
       " [0.293298, -31.213, 6.37, 2.0]      \n",
       " [0.26208, -31.2228, 6.372, 2.0]     \n",
       " [0.230852, -31.2326, 6.374, 2.0]    \n",
       " [0.199614, -31.2424, 6.376, 2.0]    \n",
       " [0.168367, -31.2522, 6.378, 2.0]    \n",
       " [0.13711, -31.262, 6.38, 2.0]       \n",
       " [0.105843, -31.2718, 6.382, 2.0]    \n",
       " [0.0745664, -31.2816, 6.384, 2.0]   \n",
       " [0.0432799, -31.2914, 6.386, 2.0]   \n",
       " [0.0119836, -31.3012, 6.388, 2.0]   \n",
       " [1.25962e-14, -31.305, 6.38877, 2.0]\n",
       " [1.25962e-14, -31.305, 6.38877, 2.0]"
      ]
     },
     "execution_count": 22,
     "metadata": {},
     "output_type": "execute_result"
    }
   ],
   "source": [
    "sol"
   ]
  },
  {
   "cell_type": "code",
   "execution_count": null,
   "metadata": {},
   "outputs": [],
   "source": []
  }
 ],
 "metadata": {
  "kernelspec": {
   "display_name": "Julia 1.0.4",
   "language": "julia",
   "name": "julia-1.0"
  },
  "language_info": {
   "file_extension": ".jl",
   "mimetype": "application/julia",
   "name": "julia",
   "version": "1.0.4"
  }
 },
 "nbformat": 4,
 "nbformat_minor": 2
}
